{
 "cells": [
  {
   "cell_type": "code",
   "execution_count": 1,
   "metadata": {},
   "outputs": [],
   "source": [
    "# Importing necessary libraries. Other required libraries are imported wherever required.\n",
    "\n",
    "import pandas as pd\n",
    "import matplotlib.pyplot as plt\n",
    "import nltk\n",
    "import numpy as np"
   ]
  },
  {
   "cell_type": "code",
   "execution_count": 2,
   "metadata": {},
   "outputs": [],
   "source": [
    "# Reading csv file using pandas.\n",
    "file_1 = pd.read_csv(\"recipes_82k.csv\")"
   ]
  },
  {
   "cell_type": "code",
   "execution_count": 3,
   "metadata": {},
   "outputs": [],
   "source": [
    "# Converting data to Pandas DataFrame\n",
    "df = pd.DataFrame(file_1)"
   ]
  },
  {
   "cell_type": "code",
   "execution_count": 4,
   "metadata": {},
   "outputs": [
    {
     "data": {
      "text/plain": [
       "(82245, 9)"
      ]
     },
     "execution_count": 4,
     "metadata": {},
     "output_type": "execute_result"
    }
   ],
   "source": [
    "df.shape"
   ]
  },
  {
   "cell_type": "code",
   "execution_count": 5,
   "metadata": {},
   "outputs": [
    {
     "data": {
      "text/html": [
       "<div>\n",
       "<style scoped>\n",
       "    .dataframe tbody tr th:only-of-type {\n",
       "        vertical-align: middle;\n",
       "    }\n",
       "\n",
       "    .dataframe tbody tr th {\n",
       "        vertical-align: top;\n",
       "    }\n",
       "\n",
       "    .dataframe thead th {\n",
       "        text-align: right;\n",
       "    }\n",
       "</style>\n",
       "<table border=\"1\" class=\"dataframe\">\n",
       "  <thead>\n",
       "    <tr style=\"text-align: right;\">\n",
       "      <th></th>\n",
       "      <th>category</th>\n",
       "      <th>cooking_method</th>\n",
       "      <th>cuisine</th>\n",
       "      <th>image</th>\n",
       "      <th>ingredients</th>\n",
       "      <th>prep_time</th>\n",
       "      <th>recipe_name</th>\n",
       "      <th>serves</th>\n",
       "      <th>tags</th>\n",
       "    </tr>\n",
       "  </thead>\n",
       "  <tbody>\n",
       "    <tr>\n",
       "      <th>0</th>\n",
       "      <td>NaN</td>\n",
       "      <td>['Set the racks in the middle and upper thirds...</td>\n",
       "      <td>['American']</td>\n",
       "      <td>https://www.skinnytaste.com/wp-content/uploads...</td>\n",
       "      <td>['1 tablespoons extra virgin olive oil', '1 cu...</td>\n",
       "      <td>20 minutes</td>\n",
       "      <td>Mediterranean Sea Bass</td>\n",
       "      <td>4 servings</td>\n",
       "      <td>Dairy Free, Gluten Free, Keto Recipes, Kid Fri...</td>\n",
       "    </tr>\n",
       "    <tr>\n",
       "      <th>1</th>\n",
       "      <td>NaN</td>\n",
       "      <td>['Place the eggs in the air fryer basket and c...</td>\n",
       "      <td>['American']</td>\n",
       "      <td>https://www.skinnytaste.com/wp-content/uploads...</td>\n",
       "      <td>['4 large eggs', 'Salt (black pepper, everythi...</td>\n",
       "      <td>15 minutes</td>\n",
       "      <td>Air Fryer Hard Boiled Eggs</td>\n",
       "      <td>4 eggs</td>\n",
       "      <td>Air Fryer Recipes, Dairy Free, Gluten Free, Ke...</td>\n",
       "    </tr>\n",
       "    <tr>\n",
       "      <th>2</th>\n",
       "      <td>NaN</td>\n",
       "      <td>['Air Fryer directions:', 'Preheat air fryer t...</td>\n",
       "      <td>['American']</td>\n",
       "      <td>https://www.skinnytaste.com/wp-content/uploads...</td>\n",
       "      <td>['olive oil spray', '4 about 5 ounce each salm...</td>\n",
       "      <td>5 minutes</td>\n",
       "      <td>Air Fryer Basil-Parmesan Salmon</td>\n",
       "      <td>4 servings</td>\n",
       "      <td>Air Fryer Recipes, Gluten Free, Keto Recipes, ...</td>\n",
       "    </tr>\n",
       "    <tr>\n",
       "      <th>3</th>\n",
       "      <td>NaN</td>\n",
       "      <td>['Preheat the oven to 400F.', 'Pour 2 tablespo...</td>\n",
       "      <td>['American']</td>\n",
       "      <td>https://www.skinnytaste.com/wp-content/uploads...</td>\n",
       "      <td>['1/2 cup freshly grated Parmesan (not pre-gra...</td>\n",
       "      <td>15 minutes</td>\n",
       "      <td>Everything Parmesan Crisps</td>\n",
       "      <td>4 servings</td>\n",
       "      <td>Gluten Free, Keto Recipes, Kid Friendly, Low C...</td>\n",
       "    </tr>\n",
       "    <tr>\n",
       "      <th>4</th>\n",
       "      <td>NaN</td>\n",
       "      <td>['Cook potatoes in a large pot of salted water...</td>\n",
       "      <td>['American']</td>\n",
       "      <td>https://www.skinnytaste.com/wp-content/uploads...</td>\n",
       "      <td>['3 1/2 pounds new potatoes (about 10 peeled a...</td>\n",
       "      <td>10 minutes</td>\n",
       "      <td>Potato and Green Bean Salad</td>\n",
       "      <td>12 servings</td>\n",
       "      <td>Dairy Free, Gluten Free, Kid Friendly, Vegetar...</td>\n",
       "    </tr>\n",
       "  </tbody>\n",
       "</table>\n",
       "</div>"
      ],
      "text/plain": [
       "  category                                     cooking_method       cuisine  \\\n",
       "0      NaN  ['Set the racks in the middle and upper thirds...  ['American']   \n",
       "1      NaN  ['Place the eggs in the air fryer basket and c...  ['American']   \n",
       "2      NaN  ['Air Fryer directions:', 'Preheat air fryer t...  ['American']   \n",
       "3      NaN  ['Preheat the oven to 400F.', 'Pour 2 tablespo...  ['American']   \n",
       "4      NaN  ['Cook potatoes in a large pot of salted water...  ['American']   \n",
       "\n",
       "                                               image  \\\n",
       "0  https://www.skinnytaste.com/wp-content/uploads...   \n",
       "1  https://www.skinnytaste.com/wp-content/uploads...   \n",
       "2  https://www.skinnytaste.com/wp-content/uploads...   \n",
       "3  https://www.skinnytaste.com/wp-content/uploads...   \n",
       "4  https://www.skinnytaste.com/wp-content/uploads...   \n",
       "\n",
       "                                         ingredients   prep_time  \\\n",
       "0  ['1 tablespoons extra virgin olive oil', '1 cu...  20 minutes   \n",
       "1  ['4 large eggs', 'Salt (black pepper, everythi...  15 minutes   \n",
       "2  ['olive oil spray', '4 about 5 ounce each salm...   5 minutes   \n",
       "3  ['1/2 cup freshly grated Parmesan (not pre-gra...  15 minutes   \n",
       "4  ['3 1/2 pounds new potatoes (about 10 peeled a...  10 minutes   \n",
       "\n",
       "                       recipe_name       serves  \\\n",
       "0           Mediterranean Sea Bass   4 servings   \n",
       "1       Air Fryer Hard Boiled Eggs       4 eggs   \n",
       "2  Air Fryer Basil-Parmesan Salmon   4 servings   \n",
       "3       Everything Parmesan Crisps   4 servings   \n",
       "4      Potato and Green Bean Salad  12 servings   \n",
       "\n",
       "                                                tags  \n",
       "0  Dairy Free, Gluten Free, Keto Recipes, Kid Fri...  \n",
       "1  Air Fryer Recipes, Dairy Free, Gluten Free, Ke...  \n",
       "2  Air Fryer Recipes, Gluten Free, Keto Recipes, ...  \n",
       "3  Gluten Free, Keto Recipes, Kid Friendly, Low C...  \n",
       "4  Dairy Free, Gluten Free, Kid Friendly, Vegetar...  "
      ]
     },
     "execution_count": 5,
     "metadata": {},
     "output_type": "execute_result"
    }
   ],
   "source": [
    "df.head()"
   ]
  },
  {
   "cell_type": "code",
   "execution_count": 6,
   "metadata": {
    "scrolled": true
   },
   "outputs": [
    {
     "name": "stdout",
     "output_type": "stream",
     "text": [
      "<class 'pandas.core.frame.DataFrame'>\n",
      "RangeIndex: 82245 entries, 0 to 82244\n",
      "Data columns (total 9 columns):\n",
      "category          18107 non-null object\n",
      "cooking_method    82245 non-null object\n",
      "cuisine           82230 non-null object\n",
      "image             82245 non-null object\n",
      "ingredients       82245 non-null object\n",
      "prep_time         58630 non-null object\n",
      "recipe_name       82245 non-null object\n",
      "serves            82244 non-null object\n",
      "tags              82011 non-null object\n",
      "dtypes: object(9)\n",
      "memory usage: 5.6+ MB\n"
     ]
    }
   ],
   "source": [
    "df.info()"
   ]
  },
  {
   "cell_type": "code",
   "execution_count": 7,
   "metadata": {},
   "outputs": [
    {
     "name": "stdout",
     "output_type": "stream",
     "text": [
      "Dupplicate entries: 9336\n"
     ]
    }
   ],
   "source": [
    "# Dropping duplicate rows\n",
    "print('Dupplicate entries: {}'.format(df.duplicated().sum()))\n",
    "df.drop_duplicates(inplace = True)"
   ]
  },
  {
   "cell_type": "code",
   "execution_count": 8,
   "metadata": {},
   "outputs": [
    {
     "data": {
      "text/plain": [
       "[]    18035\n",
       "Name: category, dtype: int64"
      ]
     },
     "execution_count": 8,
     "metadata": {},
     "output_type": "execute_result"
    }
   ],
   "source": [
    "# Category column is found to be empty.\n",
    "df.category.value_counts()"
   ]
  },
  {
   "cell_type": "code",
   "execution_count": 9,
   "metadata": {},
   "outputs": [],
   "source": [
    "# Dropping unnecessary features, or those features which seems to have very less influence. This will help improve computation speed.\n",
    "df.drop(columns=['category', 'image', 'cooking_method', 'serves','cuisine'], inplace=True)"
   ]
  },
  {
   "cell_type": "code",
   "execution_count": 10,
   "metadata": {},
   "outputs": [],
   "source": [
    "df = df.astype(str)"
   ]
  },
  {
   "cell_type": "code",
   "execution_count": 11,
   "metadata": {},
   "outputs": [
    {
     "data": {
      "text/plain": [
       "72909"
      ]
     },
     "execution_count": 11,
     "metadata": {},
     "output_type": "execute_result"
    }
   ],
   "source": [
    "len(df.tags)"
   ]
  },
  {
   "cell_type": "code",
   "execution_count": 12,
   "metadata": {
    "scrolled": true
   },
   "outputs": [
    {
     "data": {
      "text/html": [
       "<div>\n",
       "<style scoped>\n",
       "    .dataframe tbody tr th:only-of-type {\n",
       "        vertical-align: middle;\n",
       "    }\n",
       "\n",
       "    .dataframe tbody tr th {\n",
       "        vertical-align: top;\n",
       "    }\n",
       "\n",
       "    .dataframe thead th {\n",
       "        text-align: right;\n",
       "    }\n",
       "</style>\n",
       "<table border=\"1\" class=\"dataframe\">\n",
       "  <thead>\n",
       "    <tr style=\"text-align: right;\">\n",
       "      <th></th>\n",
       "      <th>ingredients</th>\n",
       "      <th>prep_time</th>\n",
       "      <th>recipe_name</th>\n",
       "      <th>tags</th>\n",
       "    </tr>\n",
       "  </thead>\n",
       "  <tbody>\n",
       "    <tr>\n",
       "      <th>0</th>\n",
       "      <td>['1 tablespoons extra virgin olive oil', '1 cu...</td>\n",
       "      <td>20 minutes</td>\n",
       "      <td>Mediterranean Sea Bass</td>\n",
       "      <td>Dairy Free, Gluten Free, Keto Recipes, Kid Fri...</td>\n",
       "    </tr>\n",
       "    <tr>\n",
       "      <th>1</th>\n",
       "      <td>['4 large eggs', 'Salt (black pepper, everythi...</td>\n",
       "      <td>15 minutes</td>\n",
       "      <td>Air Fryer Hard Boiled Eggs</td>\n",
       "      <td>Air Fryer Recipes, Dairy Free, Gluten Free, Ke...</td>\n",
       "    </tr>\n",
       "    <tr>\n",
       "      <th>2</th>\n",
       "      <td>['olive oil spray', '4 about 5 ounce each salm...</td>\n",
       "      <td>5 minutes</td>\n",
       "      <td>Air Fryer Basil-Parmesan Salmon</td>\n",
       "      <td>Air Fryer Recipes, Gluten Free, Keto Recipes, ...</td>\n",
       "    </tr>\n",
       "    <tr>\n",
       "      <th>3</th>\n",
       "      <td>['1/2 cup freshly grated Parmesan (not pre-gra...</td>\n",
       "      <td>15 minutes</td>\n",
       "      <td>Everything Parmesan Crisps</td>\n",
       "      <td>Gluten Free, Keto Recipes, Kid Friendly, Low C...</td>\n",
       "    </tr>\n",
       "    <tr>\n",
       "      <th>4</th>\n",
       "      <td>['3 1/2 pounds new potatoes (about 10 peeled a...</td>\n",
       "      <td>10 minutes</td>\n",
       "      <td>Potato and Green Bean Salad</td>\n",
       "      <td>Dairy Free, Gluten Free, Kid Friendly, Vegetar...</td>\n",
       "    </tr>\n",
       "  </tbody>\n",
       "</table>\n",
       "</div>"
      ],
      "text/plain": [
       "                                         ingredients   prep_time  \\\n",
       "0  ['1 tablespoons extra virgin olive oil', '1 cu...  20 minutes   \n",
       "1  ['4 large eggs', 'Salt (black pepper, everythi...  15 minutes   \n",
       "2  ['olive oil spray', '4 about 5 ounce each salm...   5 minutes   \n",
       "3  ['1/2 cup freshly grated Parmesan (not pre-gra...  15 minutes   \n",
       "4  ['3 1/2 pounds new potatoes (about 10 peeled a...  10 minutes   \n",
       "\n",
       "                       recipe_name  \\\n",
       "0           Mediterranean Sea Bass   \n",
       "1       Air Fryer Hard Boiled Eggs   \n",
       "2  Air Fryer Basil-Parmesan Salmon   \n",
       "3       Everything Parmesan Crisps   \n",
       "4      Potato and Green Bean Salad   \n",
       "\n",
       "                                                tags  \n",
       "0  Dairy Free, Gluten Free, Keto Recipes, Kid Fri...  \n",
       "1  Air Fryer Recipes, Dairy Free, Gluten Free, Ke...  \n",
       "2  Air Fryer Recipes, Gluten Free, Keto Recipes, ...  \n",
       "3  Gluten Free, Keto Recipes, Kid Friendly, Low C...  \n",
       "4  Dairy Free, Gluten Free, Kid Friendly, Vegetar...  "
      ]
     },
     "execution_count": 12,
     "metadata": {},
     "output_type": "execute_result"
    }
   ],
   "source": [
    "# Resetting index as there were gaps when dropped duplicate rows\n",
    "df.reset_index(drop= True, inplace=True)\n",
    "df.head()"
   ]
  },
  {
   "cell_type": "code",
   "execution_count": 13,
   "metadata": {},
   "outputs": [
    {
     "data": {
      "text/plain": [
       "ingredients    0\n",
       "prep_time      0\n",
       "recipe_name    0\n",
       "tags           0\n",
       "dtype: int64"
      ]
     },
     "execution_count": 13,
     "metadata": {},
     "output_type": "execute_result"
    }
   ],
   "source": [
    "# Checking null values.\n",
    "df.isna().sum()"
   ]
  },
  {
   "cell_type": "code",
   "execution_count": 14,
   "metadata": {},
   "outputs": [],
   "source": [
    "# Splitting tabs\n",
    "df['tags'] = df['tags'].apply(lambda x: x.split(','))"
   ]
  },
  {
   "cell_type": "code",
   "execution_count": 15,
   "metadata": {},
   "outputs": [],
   "source": [
    "# Defining function to strip extra spaces in string.\n",
    "def l_strip(list):\n",
    "    list = [item.strip() for item in list]\n",
    "    return list"
   ]
  },
  {
   "cell_type": "code",
   "execution_count": 16,
   "metadata": {},
   "outputs": [],
   "source": [
    "# After splitting in Tags column, there are extra spaces in few of them that lead to duplicate tags. So, stripping them of those white spaces.\n",
    "df['tags'] = df['tags'].apply(lambda x: l_strip(x))"
   ]
  },
  {
   "cell_type": "code",
   "execution_count": 17,
   "metadata": {},
   "outputs": [],
   "source": [
    "all_tags = [item for sublist in df['tags'].values for item in sublist]"
   ]
  },
  {
   "cell_type": "code",
   "execution_count": 18,
   "metadata": {},
   "outputs": [
    {
     "data": {
      "text/plain": [
       "645295"
      ]
     },
     "execution_count": 18,
     "metadata": {},
     "output_type": "execute_result"
    }
   ],
   "source": [
    "len(all_tags)"
   ]
  },
  {
   "cell_type": "code",
   "execution_count": 19,
   "metadata": {},
   "outputs": [
    {
     "data": {
      "text/plain": [
       "766"
      ]
     },
     "execution_count": 19,
     "metadata": {},
     "output_type": "execute_result"
    }
   ],
   "source": [
    "# All unique tags. That is found to be 766\n",
    "my_set = set(all_tags)\n",
    "unique_tags = list(my_set)\n",
    "len(unique_tags)"
   ]
  },
  {
   "cell_type": "code",
   "execution_count": 20,
   "metadata": {},
   "outputs": [],
   "source": [
    "#unique_tags"
   ]
  },
  {
   "cell_type": "code",
   "execution_count": 21,
   "metadata": {},
   "outputs": [],
   "source": [
    "flat_list = [item for sublist in df['tags'].values for item in sublist]\n",
    "\n",
    "keywords = nltk.FreqDist(flat_list)\n",
    "\n",
    "keywords = nltk.FreqDist(keywords)\n",
    "\n",
    "frequencies_words = keywords.most_common(100)\n",
    "tags_features = [word[0] for word in frequencies_words]"
   ]
  },
  {
   "cell_type": "code",
   "execution_count": 22,
   "metadata": {},
   "outputs": [
    {
     "data": {
      "image/png": "[encoded data removed]",
      "text/plain": [
       "<Figure size 1080x720 with 1 Axes>"
      ]
     },
     "metadata": {
      "needs_background": "light"
     },
     "output_type": "display_data"
    }
   ],
   "source": [
    "# Plotting the counts of tags.\n",
    "fig, ax = plt.subplots(figsize=(15, 10))\n",
    "keywords.plot(100, cumulative=False)"
   ]
  },
  {
   "cell_type": "code",
   "execution_count": 23,
   "metadata": {},
   "outputs": [
    {
     "data": {
      "text/html": [
       "<div>\n",
       "<style scoped>\n",
       "    .dataframe tbody tr th:only-of-type {\n",
       "        vertical-align: middle;\n",
       "    }\n",
       "\n",
       "    .dataframe tbody tr th {\n",
       "        vertical-align: top;\n",
       "    }\n",
       "\n",
       "    .dataframe thead th {\n",
       "        text-align: right;\n",
       "    }\n",
       "</style>\n",
       "<table border=\"1\" class=\"dataframe\">\n",
       "  <thead>\n",
       "    <tr style=\"text-align: right;\">\n",
       "      <th></th>\n",
       "      <th>ingredients</th>\n",
       "      <th>prep_time</th>\n",
       "      <th>recipe_name</th>\n",
       "      <th>tags</th>\n",
       "    </tr>\n",
       "  </thead>\n",
       "  <tbody>\n",
       "    <tr>\n",
       "      <th>0</th>\n",
       "      <td>['1 tablespoons extra virgin olive oil', '1 cu...</td>\n",
       "      <td>20 minutes</td>\n",
       "      <td>Mediterranean Sea Bass</td>\n",
       "      <td>[Dairy Free, Gluten Free, Keto Recipes, Kid Fr...</td>\n",
       "    </tr>\n",
       "    <tr>\n",
       "      <th>1</th>\n",
       "      <td>['4 large eggs', 'Salt (black pepper, everythi...</td>\n",
       "      <td>15 minutes</td>\n",
       "      <td>Air Fryer Hard Boiled Eggs</td>\n",
       "      <td>[Air Fryer Recipes, Dairy Free, Gluten Free, K...</td>\n",
       "    </tr>\n",
       "    <tr>\n",
       "      <th>2</th>\n",
       "      <td>['olive oil spray', '4 about 5 ounce each salm...</td>\n",
       "      <td>5 minutes</td>\n",
       "      <td>Air Fryer Basil-Parmesan Salmon</td>\n",
       "      <td>[Air Fryer Recipes, Gluten Free, Keto Recipes,...</td>\n",
       "    </tr>\n",
       "    <tr>\n",
       "      <th>3</th>\n",
       "      <td>['1/2 cup freshly grated Parmesan (not pre-gra...</td>\n",
       "      <td>15 minutes</td>\n",
       "      <td>Everything Parmesan Crisps</td>\n",
       "      <td>[Gluten Free, Keto Recipes, Kid Friendly, Low ...</td>\n",
       "    </tr>\n",
       "    <tr>\n",
       "      <th>4</th>\n",
       "      <td>['3 1/2 pounds new potatoes (about 10 peeled a...</td>\n",
       "      <td>10 minutes</td>\n",
       "      <td>Potato and Green Bean Salad</td>\n",
       "      <td>[Dairy Free, Gluten Free, Kid Friendly, Vegeta...</td>\n",
       "    </tr>\n",
       "  </tbody>\n",
       "</table>\n",
       "</div>"
      ],
      "text/plain": [
       "                                         ingredients   prep_time  \\\n",
       "0  ['1 tablespoons extra virgin olive oil', '1 cu...  20 minutes   \n",
       "1  ['4 large eggs', 'Salt (black pepper, everythi...  15 minutes   \n",
       "2  ['olive oil spray', '4 about 5 ounce each salm...   5 minutes   \n",
       "3  ['1/2 cup freshly grated Parmesan (not pre-gra...  15 minutes   \n",
       "4  ['3 1/2 pounds new potatoes (about 10 peeled a...  10 minutes   \n",
       "\n",
       "                       recipe_name  \\\n",
       "0           Mediterranean Sea Bass   \n",
       "1       Air Fryer Hard Boiled Eggs   \n",
       "2  Air Fryer Basil-Parmesan Salmon   \n",
       "3       Everything Parmesan Crisps   \n",
       "4      Potato and Green Bean Salad   \n",
       "\n",
       "                                                tags  \n",
       "0  [Dairy Free, Gluten Free, Keto Recipes, Kid Fr...  \n",
       "1  [Air Fryer Recipes, Dairy Free, Gluten Free, K...  \n",
       "2  [Air Fryer Recipes, Gluten Free, Keto Recipes,...  \n",
       "3  [Gluten Free, Keto Recipes, Kid Friendly, Low ...  \n",
       "4  [Dairy Free, Gluten Free, Kid Friendly, Vegeta...  "
      ]
     },
     "execution_count": 23,
     "metadata": {},
     "output_type": "execute_result"
    }
   ],
   "source": [
    "df.head()"
   ]
  },
  {
   "cell_type": "code",
   "execution_count": 24,
   "metadata": {},
   "outputs": [
    {
     "data": {
      "text/plain": [
       "\"['1 tablespoons extra virgin olive oil', '1 cup chopped yellow onion', '3 cloves garlic (minced)', '1/4 teaspoon crushed red pepper flakes (or to taste)', '1/2 cup chopped fennel', 'One 28 ounce can whole peeled tomatoes (with their juices)', '3/4 cup fresh basil leaves (very thinly sliced)', '1/2 cup dry white wine', '1/4 cup pitted Kalamata olives (halved)', 'Kosher salt', 'Freshly ground pepper', 'Four 4-6 ounce skinless Chilean sea bass fillets (or other sustainable firm white-fleshed fish fillets such as halibut, cod or striped bass)', 'Organic olive oil cooking spray', 'Kosher salt', 'Freshly ground black pepper', '1 tablespoon extra-virgin olive oil']\""
      ]
     },
     "execution_count": 24,
     "metadata": {},
     "output_type": "execute_result"
    }
   ],
   "source": [
    "df.ingredients[0]"
   ]
  },
  {
   "cell_type": "code",
   "execution_count": 25,
   "metadata": {},
   "outputs": [],
   "source": [
    "import re\n",
    "from nltk.corpus import stopwords\n",
    "from nltk.stem.porter import PorterStemmer \n",
    "stem = PorterStemmer()"
   ]
  },
  {
   "cell_type": "code",
   "execution_count": 26,
   "metadata": {},
   "outputs": [],
   "source": [
    "stop_words = set(stopwords.words('english'))"
   ]
  },
  {
   "cell_type": "code",
   "execution_count": 27,
   "metadata": {},
   "outputs": [],
   "source": [
    "# Defining few functions used to clean the data as required by the text.\n",
    "\n",
    "def t_clean(text):\n",
    "    text = text.replace(']', '')\n",
    "    text = text.replace('[', '')\n",
    "    text = text.replace(',', '')\n",
    "    text = text.replace(\"'\", \"\")\n",
    "    text = text.replace(\"(\", \"\")\n",
    "    text = text.replace(\")\", \"\")\n",
    "    text = text.replace(\"-\", \" \")\n",
    "    text = text.replace(\"/\", \"\")\n",
    "    return text\n",
    "    \n",
    "def t_split(text):\n",
    "    text = text.split(' ')\n",
    "    return text\n",
    "\n",
    "def l_remove(list): \n",
    "    pattern = '[0-9]'\n",
    "    list = [re.sub(pattern, '', i) for i in list] \n",
    "    return list\n",
    "\n",
    "def rem_sp(list):\n",
    "    while(\"\" in list):\n",
    "        list.remove(\"\")\n",
    "    return list\n",
    "\n",
    "def s_words(list):\n",
    "    stop_words = set(stopwords.words('english'))\n",
    "    filtered_sentence = []\n",
    "    for w in list:\n",
    "        if w not in stop_words:\n",
    "            filtered_sentence.append(w.lower())\n",
    "    list = filtered_sentence\n",
    "    return list\n",
    "    \n",
    "def l_stem(list):\n",
    "    list = [stem.stem(item) for item in list]\n",
    "    return list\n",
    "\n",
    "def l_keep(list): \n",
    "    pattern = '[^0-9]'\n",
    "    list = [re.sub(pattern, '', i) for i in list] \n",
    "    return list"
   ]
  },
  {
   "cell_type": "code",
   "execution_count": 28,
   "metadata": {},
   "outputs": [],
   "source": [
    "df['ingredients'] = df['ingredients'].apply(lambda x: t_clean(x))"
   ]
  },
  {
   "cell_type": "code",
   "execution_count": 29,
   "metadata": {},
   "outputs": [],
   "source": [
    "df['ingredients'] = df['ingredients'].apply(lambda x: t_split(x))"
   ]
  },
  {
   "cell_type": "code",
   "execution_count": 30,
   "metadata": {},
   "outputs": [],
   "source": [
    "df['ingredients'] = df['ingredients'].apply(lambda x: l_remove(x))"
   ]
  },
  {
   "cell_type": "code",
   "execution_count": 31,
   "metadata": {},
   "outputs": [],
   "source": [
    "df['ingredients'] = df['ingredients'].apply(lambda x: rem_sp(x))"
   ]
  },
  {
   "cell_type": "code",
   "execution_count": 32,
   "metadata": {},
   "outputs": [],
   "source": [
    "df['ingredients'] = df['ingredients'].apply(lambda x: s_words(x))"
   ]
  },
  {
   "cell_type": "code",
   "execution_count": 33,
   "metadata": {},
   "outputs": [],
   "source": [
    "df['ingredients'] = df['ingredients'].apply(lambda x: l_stem(x))"
   ]
  },
  {
   "cell_type": "code",
   "execution_count": 34,
   "metadata": {},
   "outputs": [],
   "source": [
    "df['ingredients'] = df['ingredients'].apply(lambda x: l_strip(x))"
   ]
  },
  {
   "cell_type": "code",
   "execution_count": 35,
   "metadata": {},
   "outputs": [
    {
     "data": {
      "text/html": [
       "<div>\n",
       "<style scoped>\n",
       "    .dataframe tbody tr th:only-of-type {\n",
       "        vertical-align: middle;\n",
       "    }\n",
       "\n",
       "    .dataframe tbody tr th {\n",
       "        vertical-align: top;\n",
       "    }\n",
       "\n",
       "    .dataframe thead th {\n",
       "        text-align: right;\n",
       "    }\n",
       "</style>\n",
       "<table border=\"1\" class=\"dataframe\">\n",
       "  <thead>\n",
       "    <tr style=\"text-align: right;\">\n",
       "      <th></th>\n",
       "      <th>ingredients</th>\n",
       "      <th>prep_time</th>\n",
       "      <th>recipe_name</th>\n",
       "      <th>tags</th>\n",
       "    </tr>\n",
       "  </thead>\n",
       "  <tbody>\n",
       "    <tr>\n",
       "      <th>0</th>\n",
       "      <td>[tablespoon, extra, virgin, oliv, oil, cup, ch...</td>\n",
       "      <td>20 minutes</td>\n",
       "      <td>Mediterranean Sea Bass</td>\n",
       "      <td>[Dairy Free, Gluten Free, Keto Recipes, Kid Fr...</td>\n",
       "    </tr>\n",
       "    <tr>\n",
       "      <th>1</th>\n",
       "      <td>[larg, egg, salt, black, pepper, everyth, bage...</td>\n",
       "      <td>15 minutes</td>\n",
       "      <td>Air Fryer Hard Boiled Eggs</td>\n",
       "      <td>[Air Fryer Recipes, Dairy Free, Gluten Free, K...</td>\n",
       "    </tr>\n",
       "    <tr>\n",
       "      <th>2</th>\n",
       "      <td>[oliv, oil, spray, ounc, salmon, fillet, skin,...</td>\n",
       "      <td>5 minutes</td>\n",
       "      <td>Air Fryer Basil-Parmesan Salmon</td>\n",
       "      <td>[Air Fryer Recipes, Gluten Free, Keto Recipes,...</td>\n",
       "    </tr>\n",
       "    <tr>\n",
       "      <th>3</th>\n",
       "      <td>[cup, freshli, grate, parmesan, pre, grate, us...</td>\n",
       "      <td>15 minutes</td>\n",
       "      <td>Everything Parmesan Crisps</td>\n",
       "      <td>[Gluten Free, Keto Recipes, Kid Friendly, Low ...</td>\n",
       "    </tr>\n",
       "    <tr>\n",
       "      <th>4</th>\n",
       "      <td>[pound, new, potato, peel, cut, inch, piec, lb...</td>\n",
       "      <td>10 minutes</td>\n",
       "      <td>Potato and Green Bean Salad</td>\n",
       "      <td>[Dairy Free, Gluten Free, Kid Friendly, Vegeta...</td>\n",
       "    </tr>\n",
       "  </tbody>\n",
       "</table>\n",
       "</div>"
      ],
      "text/plain": [
       "                                         ingredients   prep_time  \\\n",
       "0  [tablespoon, extra, virgin, oliv, oil, cup, ch...  20 minutes   \n",
       "1  [larg, egg, salt, black, pepper, everyth, bage...  15 minutes   \n",
       "2  [oliv, oil, spray, ounc, salmon, fillet, skin,...   5 minutes   \n",
       "3  [cup, freshli, grate, parmesan, pre, grate, us...  15 minutes   \n",
       "4  [pound, new, potato, peel, cut, inch, piec, lb...  10 minutes   \n",
       "\n",
       "                       recipe_name  \\\n",
       "0           Mediterranean Sea Bass   \n",
       "1       Air Fryer Hard Boiled Eggs   \n",
       "2  Air Fryer Basil-Parmesan Salmon   \n",
       "3       Everything Parmesan Crisps   \n",
       "4      Potato and Green Bean Salad   \n",
       "\n",
       "                                                tags  \n",
       "0  [Dairy Free, Gluten Free, Keto Recipes, Kid Fr...  \n",
       "1  [Air Fryer Recipes, Dairy Free, Gluten Free, K...  \n",
       "2  [Air Fryer Recipes, Gluten Free, Keto Recipes,...  \n",
       "3  [Gluten Free, Keto Recipes, Kid Friendly, Low ...  \n",
       "4  [Dairy Free, Gluten Free, Kid Friendly, Vegeta...  "
      ]
     },
     "execution_count": 35,
     "metadata": {},
     "output_type": "execute_result"
    }
   ],
   "source": [
    "df.head()"
   ]
  },
  {
   "cell_type": "code",
   "execution_count": 36,
   "metadata": {},
   "outputs": [],
   "source": [
    "df['recipe_name'] = df['recipe_name'].apply(lambda x: t_clean(x))"
   ]
  },
  {
   "cell_type": "code",
   "execution_count": 37,
   "metadata": {},
   "outputs": [],
   "source": [
    "df['recipe_name'] = df['recipe_name'].apply(lambda x: t_split(x))"
   ]
  },
  {
   "cell_type": "code",
   "execution_count": 38,
   "metadata": {},
   "outputs": [],
   "source": [
    "df['recipe_name'] = df['recipe_name'].apply(lambda x: l_remove(x))"
   ]
  },
  {
   "cell_type": "code",
   "execution_count": 39,
   "metadata": {},
   "outputs": [],
   "source": [
    "df['recipe_name'] = df['recipe_name'].apply(lambda x: rem_sp(x))"
   ]
  },
  {
   "cell_type": "code",
   "execution_count": 40,
   "metadata": {},
   "outputs": [],
   "source": [
    "df['recipe_name'] = df['recipe_name'].apply(lambda x: s_words(x))"
   ]
  },
  {
   "cell_type": "code",
   "execution_count": 41,
   "metadata": {},
   "outputs": [],
   "source": [
    "df['recipe_name'] = df['recipe_name'].apply(lambda x: l_stem(x))"
   ]
  },
  {
   "cell_type": "code",
   "execution_count": 42,
   "metadata": {},
   "outputs": [],
   "source": [
    "df['recipe_name'] = df['recipe_name'].apply(lambda x: l_strip(x))"
   ]
  },
  {
   "cell_type": "code",
   "execution_count": 43,
   "metadata": {},
   "outputs": [
    {
     "data": {
      "text/html": [
       "<div>\n",
       "<style scoped>\n",
       "    .dataframe tbody tr th:only-of-type {\n",
       "        vertical-align: middle;\n",
       "    }\n",
       "\n",
       "    .dataframe tbody tr th {\n",
       "        vertical-align: top;\n",
       "    }\n",
       "\n",
       "    .dataframe thead th {\n",
       "        text-align: right;\n",
       "    }\n",
       "</style>\n",
       "<table border=\"1\" class=\"dataframe\">\n",
       "  <thead>\n",
       "    <tr style=\"text-align: right;\">\n",
       "      <th></th>\n",
       "      <th>ingredients</th>\n",
       "      <th>prep_time</th>\n",
       "      <th>recipe_name</th>\n",
       "      <th>tags</th>\n",
       "    </tr>\n",
       "  </thead>\n",
       "  <tbody>\n",
       "    <tr>\n",
       "      <th>0</th>\n",
       "      <td>[tablespoon, extra, virgin, oliv, oil, cup, ch...</td>\n",
       "      <td>20 minutes</td>\n",
       "      <td>[mediterranean, sea, bass]</td>\n",
       "      <td>[Dairy Free, Gluten Free, Keto Recipes, Kid Fr...</td>\n",
       "    </tr>\n",
       "    <tr>\n",
       "      <th>1</th>\n",
       "      <td>[larg, egg, salt, black, pepper, everyth, bage...</td>\n",
       "      <td>15 minutes</td>\n",
       "      <td>[air, fryer, hard, boil, egg]</td>\n",
       "      <td>[Air Fryer Recipes, Dairy Free, Gluten Free, K...</td>\n",
       "    </tr>\n",
       "    <tr>\n",
       "      <th>2</th>\n",
       "      <td>[oliv, oil, spray, ounc, salmon, fillet, skin,...</td>\n",
       "      <td>5 minutes</td>\n",
       "      <td>[air, fryer, basil, parmesan, salmon]</td>\n",
       "      <td>[Air Fryer Recipes, Gluten Free, Keto Recipes,...</td>\n",
       "    </tr>\n",
       "    <tr>\n",
       "      <th>3</th>\n",
       "      <td>[cup, freshli, grate, parmesan, pre, grate, us...</td>\n",
       "      <td>15 minutes</td>\n",
       "      <td>[everyth, parmesan, crisp]</td>\n",
       "      <td>[Gluten Free, Keto Recipes, Kid Friendly, Low ...</td>\n",
       "    </tr>\n",
       "    <tr>\n",
       "      <th>4</th>\n",
       "      <td>[pound, new, potato, peel, cut, inch, piec, lb...</td>\n",
       "      <td>10 minutes</td>\n",
       "      <td>[potato, green, bean, salad]</td>\n",
       "      <td>[Dairy Free, Gluten Free, Kid Friendly, Vegeta...</td>\n",
       "    </tr>\n",
       "  </tbody>\n",
       "</table>\n",
       "</div>"
      ],
      "text/plain": [
       "                                         ingredients   prep_time  \\\n",
       "0  [tablespoon, extra, virgin, oliv, oil, cup, ch...  20 minutes   \n",
       "1  [larg, egg, salt, black, pepper, everyth, bage...  15 minutes   \n",
       "2  [oliv, oil, spray, ounc, salmon, fillet, skin,...   5 minutes   \n",
       "3  [cup, freshli, grate, parmesan, pre, grate, us...  15 minutes   \n",
       "4  [pound, new, potato, peel, cut, inch, piec, lb...  10 minutes   \n",
       "\n",
       "                             recipe_name  \\\n",
       "0             [mediterranean, sea, bass]   \n",
       "1          [air, fryer, hard, boil, egg]   \n",
       "2  [air, fryer, basil, parmesan, salmon]   \n",
       "3             [everyth, parmesan, crisp]   \n",
       "4           [potato, green, bean, salad]   \n",
       "\n",
       "                                                tags  \n",
       "0  [Dairy Free, Gluten Free, Keto Recipes, Kid Fr...  \n",
       "1  [Air Fryer Recipes, Dairy Free, Gluten Free, K...  \n",
       "2  [Air Fryer Recipes, Gluten Free, Keto Recipes,...  \n",
       "3  [Gluten Free, Keto Recipes, Kid Friendly, Low ...  \n",
       "4  [Dairy Free, Gluten Free, Kid Friendly, Vegeta...  "
      ]
     },
     "execution_count": 43,
     "metadata": {},
     "output_type": "execute_result"
    }
   ],
   "source": [
    "df.head()"
   ]
  },
  {
   "cell_type": "code",
   "execution_count": 44,
   "metadata": {},
   "outputs": [],
   "source": [
    "abc = ['5 minutes', '10 minutes', '15 minutes', '20 minutes', '25 minutes', '30 minutes']\n",
    "def prep_clean(list):\n",
    "    if list in abc:\n",
    "        return 'under'\n",
    "    else:\n",
    "        return 'over'"
   ]
  },
  {
   "cell_type": "code",
   "execution_count": 45,
   "metadata": {},
   "outputs": [],
   "source": [
    "# The tags seems to have only 'Under 30 minutes' which is related to prep_time. The perp_time column have data in different formats. But keeping time in mind, it is converted to either under 30 minutes or over 30 minutes.\n",
    "df['prep_time'] = df['prep_time'].apply(lambda x: prep_clean(x))"
   ]
  },
  {
   "cell_type": "code",
   "execution_count": 46,
   "metadata": {},
   "outputs": [
    {
     "data": {
      "text/html": [
       "<div>\n",
       "<style scoped>\n",
       "    .dataframe tbody tr th:only-of-type {\n",
       "        vertical-align: middle;\n",
       "    }\n",
       "\n",
       "    .dataframe tbody tr th {\n",
       "        vertical-align: top;\n",
       "    }\n",
       "\n",
       "    .dataframe thead th {\n",
       "        text-align: right;\n",
       "    }\n",
       "</style>\n",
       "<table border=\"1\" class=\"dataframe\">\n",
       "  <thead>\n",
       "    <tr style=\"text-align: right;\">\n",
       "      <th></th>\n",
       "      <th>ingredients</th>\n",
       "      <th>prep_time</th>\n",
       "      <th>recipe_name</th>\n",
       "      <th>tags</th>\n",
       "    </tr>\n",
       "  </thead>\n",
       "  <tbody>\n",
       "    <tr>\n",
       "      <th>0</th>\n",
       "      <td>[tablespoon, extra, virgin, oliv, oil, cup, ch...</td>\n",
       "      <td>under</td>\n",
       "      <td>[mediterranean, sea, bass]</td>\n",
       "      <td>[Dairy Free, Gluten Free, Keto Recipes, Kid Fr...</td>\n",
       "    </tr>\n",
       "    <tr>\n",
       "      <th>1</th>\n",
       "      <td>[larg, egg, salt, black, pepper, everyth, bage...</td>\n",
       "      <td>under</td>\n",
       "      <td>[air, fryer, hard, boil, egg]</td>\n",
       "      <td>[Air Fryer Recipes, Dairy Free, Gluten Free, K...</td>\n",
       "    </tr>\n",
       "    <tr>\n",
       "      <th>2</th>\n",
       "      <td>[oliv, oil, spray, ounc, salmon, fillet, skin,...</td>\n",
       "      <td>under</td>\n",
       "      <td>[air, fryer, basil, parmesan, salmon]</td>\n",
       "      <td>[Air Fryer Recipes, Gluten Free, Keto Recipes,...</td>\n",
       "    </tr>\n",
       "    <tr>\n",
       "      <th>3</th>\n",
       "      <td>[cup, freshli, grate, parmesan, pre, grate, us...</td>\n",
       "      <td>under</td>\n",
       "      <td>[everyth, parmesan, crisp]</td>\n",
       "      <td>[Gluten Free, Keto Recipes, Kid Friendly, Low ...</td>\n",
       "    </tr>\n",
       "    <tr>\n",
       "      <th>4</th>\n",
       "      <td>[pound, new, potato, peel, cut, inch, piec, lb...</td>\n",
       "      <td>under</td>\n",
       "      <td>[potato, green, bean, salad]</td>\n",
       "      <td>[Dairy Free, Gluten Free, Kid Friendly, Vegeta...</td>\n",
       "    </tr>\n",
       "  </tbody>\n",
       "</table>\n",
       "</div>"
      ],
      "text/plain": [
       "                                         ingredients prep_time  \\\n",
       "0  [tablespoon, extra, virgin, oliv, oil, cup, ch...     under   \n",
       "1  [larg, egg, salt, black, pepper, everyth, bage...     under   \n",
       "2  [oliv, oil, spray, ounc, salmon, fillet, skin,...     under   \n",
       "3  [cup, freshli, grate, parmesan, pre, grate, us...     under   \n",
       "4  [pound, new, potato, peel, cut, inch, piec, lb...     under   \n",
       "\n",
       "                             recipe_name  \\\n",
       "0             [mediterranean, sea, bass]   \n",
       "1          [air, fryer, hard, boil, egg]   \n",
       "2  [air, fryer, basil, parmesan, salmon]   \n",
       "3             [everyth, parmesan, crisp]   \n",
       "4           [potato, green, bean, salad]   \n",
       "\n",
       "                                                tags  \n",
       "0  [Dairy Free, Gluten Free, Keto Recipes, Kid Fr...  \n",
       "1  [Air Fryer Recipes, Dairy Free, Gluten Free, K...  \n",
       "2  [Air Fryer Recipes, Gluten Free, Keto Recipes,...  \n",
       "3  [Gluten Free, Keto Recipes, Kid Friendly, Low ...  \n",
       "4  [Dairy Free, Gluten Free, Kid Friendly, Vegeta...  "
      ]
     },
     "execution_count": 46,
     "metadata": {},
     "output_type": "execute_result"
    }
   ],
   "source": [
    "df.head()"
   ]
  },
  {
   "cell_type": "code",
   "execution_count": 47,
   "metadata": {},
   "outputs": [
    {
     "name": "stdout",
     "output_type": "stream",
     "text": [
      "<class 'pandas.core.frame.DataFrame'>\n",
      "RangeIndex: 72909 entries, 0 to 72908\n",
      "Data columns (total 4 columns):\n",
      "ingredients    72909 non-null object\n",
      "prep_time      72909 non-null object\n",
      "recipe_name    72909 non-null object\n",
      "tags           72909 non-null object\n",
      "dtypes: object(4)\n",
      "memory usage: 2.2+ MB\n"
     ]
    }
   ],
   "source": [
    "df.info()"
   ]
  },
  {
   "cell_type": "code",
   "execution_count": 48,
   "metadata": {},
   "outputs": [],
   "source": [
    "df['ingredients'] = df['ingredients'].apply(lambda x: \" \".join(x))\n",
    "df['recipe_name'] = df['recipe_name'].apply(lambda x: \" \".join(x))"
   ]
  },
  {
   "cell_type": "markdown",
   "metadata": {},
   "source": [
    "### Cleaned data"
   ]
  },
  {
   "cell_type": "code",
   "execution_count": 49,
   "metadata": {},
   "outputs": [
    {
     "data": {
      "text/html": [
       "<div>\n",
       "<style scoped>\n",
       "    .dataframe tbody tr th:only-of-type {\n",
       "        vertical-align: middle;\n",
       "    }\n",
       "\n",
       "    .dataframe tbody tr th {\n",
       "        vertical-align: top;\n",
       "    }\n",
       "\n",
       "    .dataframe thead th {\n",
       "        text-align: right;\n",
       "    }\n",
       "</style>\n",
       "<table border=\"1\" class=\"dataframe\">\n",
       "  <thead>\n",
       "    <tr style=\"text-align: right;\">\n",
       "      <th></th>\n",
       "      <th>ingredients</th>\n",
       "      <th>prep_time</th>\n",
       "      <th>recipe_name</th>\n",
       "      <th>tags</th>\n",
       "    </tr>\n",
       "  </thead>\n",
       "  <tbody>\n",
       "    <tr>\n",
       "      <th>0</th>\n",
       "      <td>tablespoon extra virgin oliv oil cup chop yell...</td>\n",
       "      <td>under</td>\n",
       "      <td>mediterranean sea bass</td>\n",
       "      <td>[Dairy Free, Gluten Free, Keto Recipes, Kid Fr...</td>\n",
       "    </tr>\n",
       "    <tr>\n",
       "      <th>1</th>\n",
       "      <td>larg egg salt black pepper everyth bagel seaso...</td>\n",
       "      <td>under</td>\n",
       "      <td>air fryer hard boil egg</td>\n",
       "      <td>[Air Fryer Recipes, Dairy Free, Gluten Free, K...</td>\n",
       "    </tr>\n",
       "    <tr>\n",
       "      <th>2</th>\n",
       "      <td>oliv oil spray ounc salmon fillet skin remov l...</td>\n",
       "      <td>under</td>\n",
       "      <td>air fryer basil parmesan salmon</td>\n",
       "      <td>[Air Fryer Recipes, Gluten Free, Keto Recipes,...</td>\n",
       "    </tr>\n",
       "    <tr>\n",
       "      <th>3</th>\n",
       "      <td>cup freshli grate parmesan pre grate use larg ...</td>\n",
       "      <td>under</td>\n",
       "      <td>everyth parmesan crisp</td>\n",
       "      <td>[Gluten Free, Keto Recipes, Kid Friendly, Low ...</td>\n",
       "    </tr>\n",
       "    <tr>\n",
       "      <th>4</th>\n",
       "      <td>pound new potato peel cut inch piec lb green b...</td>\n",
       "      <td>under</td>\n",
       "      <td>potato green bean salad</td>\n",
       "      <td>[Dairy Free, Gluten Free, Kid Friendly, Vegeta...</td>\n",
       "    </tr>\n",
       "  </tbody>\n",
       "</table>\n",
       "</div>"
      ],
      "text/plain": [
       "                                         ingredients prep_time  \\\n",
       "0  tablespoon extra virgin oliv oil cup chop yell...     under   \n",
       "1  larg egg salt black pepper everyth bagel seaso...     under   \n",
       "2  oliv oil spray ounc salmon fillet skin remov l...     under   \n",
       "3  cup freshli grate parmesan pre grate use larg ...     under   \n",
       "4  pound new potato peel cut inch piec lb green b...     under   \n",
       "\n",
       "                       recipe_name  \\\n",
       "0           mediterranean sea bass   \n",
       "1          air fryer hard boil egg   \n",
       "2  air fryer basil parmesan salmon   \n",
       "3           everyth parmesan crisp   \n",
       "4          potato green bean salad   \n",
       "\n",
       "                                                tags  \n",
       "0  [Dairy Free, Gluten Free, Keto Recipes, Kid Fr...  \n",
       "1  [Air Fryer Recipes, Dairy Free, Gluten Free, K...  \n",
       "2  [Air Fryer Recipes, Gluten Free, Keto Recipes,...  \n",
       "3  [Gluten Free, Keto Recipes, Kid Friendly, Low ...  \n",
       "4  [Dairy Free, Gluten Free, Kid Friendly, Vegeta...  "
      ]
     },
     "execution_count": 49,
     "metadata": {},
     "output_type": "execute_result"
    }
   ],
   "source": [
    "df.head()"
   ]
  },
  {
   "cell_type": "markdown",
   "metadata": {},
   "source": [
    "### ML"
   ]
  },
  {
   "cell_type": "code",
   "execution_count": 50,
   "metadata": {},
   "outputs": [],
   "source": [
    "X1 = df['ingredients']\n",
    "X2 = df['recipe_name']\n",
    "X3 = df['prep_time']\n",
    "y = df['tags']"
   ]
  },
  {
   "cell_type": "code",
   "execution_count": 51,
   "metadata": {},
   "outputs": [],
   "source": [
    "from sklearn.preprocessing import MultiLabelBinarizer\n",
    "from sklearn.feature_extraction.text import TfidfVectorizer"
   ]
  },
  {
   "cell_type": "code",
   "execution_count": 52,
   "metadata": {},
   "outputs": [],
   "source": [
    "multilabel_binarizer = MultiLabelBinarizer()\n",
    "y_bin = multilabel_binarizer.fit_transform(y)"
   ]
  },
  {
   "cell_type": "code",
   "execution_count": 53,
   "metadata": {},
   "outputs": [],
   "source": [
    "vectorizer_X = TfidfVectorizer(analyzer = 'word',\n",
    "                                       min_df=0.0,\n",
    "                                       max_df = 1.0,\n",
    "                                       strip_accents = None,\n",
    "                                       encoding = 'utf-8', \n",
    "                                       preprocessor=None,\n",
    "                                       token_pattern=r\"(?u)\\S\\S+\",\n",
    "                                       max_features=5000)"
   ]
  },
  {
   "cell_type": "code",
   "execution_count": 54,
   "metadata": {},
   "outputs": [],
   "source": [
    "X1_tfidf = vectorizer_X.fit_transform(X1)\n",
    "X2_tfidf = vectorizer_X.fit_transform(X2)\n",
    "X3_tfidf = vectorizer_X.fit_transform(X3)"
   ]
  },
  {
   "cell_type": "code",
   "execution_count": 55,
   "metadata": {},
   "outputs": [],
   "source": [
    "from scipy.sparse import hstack\n",
    "\n",
    "X_tfidf = hstack([X1_tfidf,X2_tfidf, X3_tfidf])"
   ]
  },
  {
   "cell_type": "code",
   "execution_count": 56,
   "metadata": {},
   "outputs": [],
   "source": [
    "from sklearn.model_selection import train_test_split\n",
    "from sklearn.linear_model import LogisticRegression\n",
    "from sklearn.metrics import accuracy_score\n",
    "from sklearn.model_selection import GridSearchCV"
   ]
  },
  {
   "cell_type": "code",
   "execution_count": 57,
   "metadata": {},
   "outputs": [
    {
     "data": {
      "text/plain": [
       "(72909, 10002)"
      ]
     },
     "execution_count": 57,
     "metadata": {},
     "output_type": "execute_result"
    }
   ],
   "source": [
    "X_tfidf.shape"
   ]
  },
  {
   "cell_type": "code",
   "execution_count": 58,
   "metadata": {},
   "outputs": [
    {
     "data": {
      "text/plain": [
       "(72909, 766)"
      ]
     },
     "execution_count": 58,
     "metadata": {},
     "output_type": "execute_result"
    }
   ],
   "source": [
    "y_bin.shape"
   ]
  },
  {
   "cell_type": "code",
   "execution_count": 59,
   "metadata": {},
   "outputs": [],
   "source": [
    "#Splitting the data into training and testing.\n",
    "X_train, X_test, y_train, y_test = train_test_split(X_tfidf, y_bin, test_size = 0.2, random_state = 0)"
   ]
  },
  {
   "cell_type": "code",
   "execution_count": 60,
   "metadata": {},
   "outputs": [],
   "source": [
    "from sklearn.dummy import DummyClassifier\n",
    "from sklearn.naive_bayes import MultinomialNB\n",
    "from sklearn.linear_model import SGDClassifier\n",
    "from sklearn.linear_model import LogisticRegression\n",
    "from sklearn.multiclass import OneVsRestClassifier\n",
    "from sklearn.svm import LinearSVC\n",
    "from sklearn.linear_model import Perceptron\n",
    "from sklearn.linear_model import PassiveAggressiveClassifier\n",
    "from sklearn.neural_network import MLPClassifier\n",
    "from sklearn.ensemble import RandomForestClassifier\n",
    "from sklearn.metrics import mean_squared_log_error"
   ]
  },
  {
   "cell_type": "code",
   "execution_count": 61,
   "metadata": {},
   "outputs": [],
   "source": [
    "dummy = DummyClassifier()\n",
    "sgd = SGDClassifier()\n",
    "lr = LogisticRegression()\n",
    "mn = MultinomialNB()\n",
    "svc = LinearSVC()\n",
    "perceptron = Perceptron()\n",
    "pac = PassiveAggressiveClassifier()"
   ]
  },
  {
   "cell_type": "code",
   "execution_count": 62,
   "metadata": {
    "scrolled": false
   },
   "outputs": [
    {
     "name": "stdout",
     "output_type": "stream",
     "text": [
      "Clf:  DummyClassifier\n",
      "RMSLE: 0.09906568231695445\n",
      "---\n",
      "Clf:  SGDClassifier\n",
      "RMSLE: 0.059797278602972584\n",
      "---\n",
      "Clf:  LogisticRegression\n",
      "RMSLE: 0.05947161771069925\n",
      "---\n",
      "Clf:  MultinomialNB\n",
      "RMSLE: 0.0684413335753354\n",
      "---\n",
      "Clf:  LinearSVC\n",
      "RMSLE: 0.05742126730360791\n",
      "---\n",
      "Clf:  Perceptron\n",
      "RMSLE: 0.06935531522270745\n",
      "---\n",
      "Clf:  PassiveAggressiveClassifier\n",
      "RMSLE: 0.06490798073438919\n",
      "---\n"
     ]
    }
   ],
   "source": [
    "for classifier in [dummy, sgd, lr, mn, svc, perceptron, pac]:\n",
    "    clf = OneVsRestClassifier(classifier, n_jobs=-1)\n",
    "    clf.fit(X_train, y_train)\n",
    "    y_pred = clf.predict(X_test)\n",
    "    print(\"Clf: \", classifier.__class__.__name__)\n",
    "    print(\"RMSLE: {}\".format(np.sqrt(mean_squared_log_error(y_test, y_pred))))\n",
    "    print(\"---\")"
   ]
  },
  {
   "cell_type": "markdown",
   "metadata": {},
   "source": [
    "### The Linear SVC is found to be working the best here. Further we can do Grid Search with cross validation to fine tune the hyperparameter."
   ]
  }
 ],
 "metadata": {
  "kernelspec": {
   "display_name": "Python 3",
   "language": "python",
   "name": "python3"
  },
  "language_info": {
   "codemirror_mode": {
    "name": "ipython",
    "version": 3
   },
   "file_extension": ".py",
   "mimetype": "text/x-python",
   "name": "python",
   "nbconvert_exporter": "python",
   "pygments_lexer": "ipython3",
   "version": "3.7.3"
  }
 },
 "nbformat": 4,
 "nbformat_minor": 2
}
