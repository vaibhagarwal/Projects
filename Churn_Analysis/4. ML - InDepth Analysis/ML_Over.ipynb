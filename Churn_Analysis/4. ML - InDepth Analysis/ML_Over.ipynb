{
 "cells": [
  {
   "cell_type": "markdown",
   "metadata": {},
   "source": [
    "# Applying Machine Learning Algorithms:"
   ]
  },
  {
   "cell_type": "code",
   "execution_count": 1,
   "metadata": {},
   "outputs": [],
   "source": [
    "import pandas as pd\n",
    "import numpy as np\n",
    "import matplotlib.pyplot as plt\n",
    "import matplotlib\n",
    "import seaborn as sns\n",
    "\n",
    "%matplotlib inline\n",
    "from matplotlib import rcParams\n",
    "sns.set_style(\"whitegrid\")\n",
    "sns.set_context(\"poster\")"
   ]
  },
  {
   "cell_type": "code",
   "execution_count": 2,
   "metadata": {},
   "outputs": [],
   "source": [
    "rcParams['figure.figsize'] = (8.0, 5.0)\n",
    "import warnings\n",
    "warnings.simplefilter(action='ignore', category=FutureWarning)"
   ]
  },
  {
   "cell_type": "code",
   "execution_count": 3,
   "metadata": {},
   "outputs": [],
   "source": [
    "file_1 = pd.read_csv('Churn_Modelling_Wrangled.csv')"
   ]
  },
  {
   "cell_type": "code",
   "execution_count": 4,
   "metadata": {},
   "outputs": [],
   "source": [
    "df_orig = pd.DataFrame(file_1)"
   ]
  },
  {
   "cell_type": "code",
   "execution_count": 5,
   "metadata": {},
   "outputs": [
    {
     "data": {
      "text/html": [
       "<div>\n",
       "<style scoped>\n",
       "    .dataframe tbody tr th:only-of-type {\n",
       "        vertical-align: middle;\n",
       "    }\n",
       "\n",
       "    .dataframe tbody tr th {\n",
       "        vertical-align: top;\n",
       "    }\n",
       "\n",
       "    .dataframe thead th {\n",
       "        text-align: right;\n",
       "    }\n",
       "</style>\n",
       "<table border=\"1\" class=\"dataframe\">\n",
       "  <thead>\n",
       "    <tr style=\"text-align: right;\">\n",
       "      <th></th>\n",
       "      <th>CustomerId</th>\n",
       "      <th>Surname</th>\n",
       "      <th>CreditScore</th>\n",
       "      <th>Geography</th>\n",
       "      <th>Gender</th>\n",
       "      <th>Age</th>\n",
       "      <th>Tenure</th>\n",
       "      <th>Balance</th>\n",
       "      <th>NumOfProducts</th>\n",
       "      <th>HasCrCard</th>\n",
       "      <th>IsActiveMember</th>\n",
       "      <th>EstimatedSalary</th>\n",
       "      <th>Exited</th>\n",
       "    </tr>\n",
       "  </thead>\n",
       "  <tbody>\n",
       "    <tr>\n",
       "      <th>0</th>\n",
       "      <td>15634602</td>\n",
       "      <td>Hargrave</td>\n",
       "      <td>619.0</td>\n",
       "      <td>France</td>\n",
       "      <td>Female</td>\n",
       "      <td>42.0</td>\n",
       "      <td>2.0</td>\n",
       "      <td>0.00</td>\n",
       "      <td>1.0</td>\n",
       "      <td>1.0</td>\n",
       "      <td>1.0</td>\n",
       "      <td>101348.88</td>\n",
       "      <td>1.0</td>\n",
       "    </tr>\n",
       "    <tr>\n",
       "      <th>1</th>\n",
       "      <td>15647311</td>\n",
       "      <td>Hill</td>\n",
       "      <td>608.0</td>\n",
       "      <td>Spain</td>\n",
       "      <td>Female</td>\n",
       "      <td>41.0</td>\n",
       "      <td>1.0</td>\n",
       "      <td>83807.86</td>\n",
       "      <td>1.0</td>\n",
       "      <td>0.0</td>\n",
       "      <td>1.0</td>\n",
       "      <td>112542.58</td>\n",
       "      <td>0.0</td>\n",
       "    </tr>\n",
       "    <tr>\n",
       "      <th>2</th>\n",
       "      <td>15619304</td>\n",
       "      <td>Onio</td>\n",
       "      <td>502.0</td>\n",
       "      <td>France</td>\n",
       "      <td>Female</td>\n",
       "      <td>42.0</td>\n",
       "      <td>8.0</td>\n",
       "      <td>159660.80</td>\n",
       "      <td>3.0</td>\n",
       "      <td>1.0</td>\n",
       "      <td>0.0</td>\n",
       "      <td>113931.57</td>\n",
       "      <td>1.0</td>\n",
       "    </tr>\n",
       "    <tr>\n",
       "      <th>3</th>\n",
       "      <td>15701354</td>\n",
       "      <td>Boni</td>\n",
       "      <td>699.0</td>\n",
       "      <td>France</td>\n",
       "      <td>Female</td>\n",
       "      <td>39.0</td>\n",
       "      <td>1.0</td>\n",
       "      <td>0.00</td>\n",
       "      <td>2.0</td>\n",
       "      <td>0.0</td>\n",
       "      <td>0.0</td>\n",
       "      <td>93826.63</td>\n",
       "      <td>0.0</td>\n",
       "    </tr>\n",
       "    <tr>\n",
       "      <th>4</th>\n",
       "      <td>15737888</td>\n",
       "      <td>Mitchell</td>\n",
       "      <td>850.0</td>\n",
       "      <td>Spain</td>\n",
       "      <td>Female</td>\n",
       "      <td>43.0</td>\n",
       "      <td>2.0</td>\n",
       "      <td>125510.82</td>\n",
       "      <td>1.0</td>\n",
       "      <td>1.0</td>\n",
       "      <td>1.0</td>\n",
       "      <td>79084.10</td>\n",
       "      <td>0.0</td>\n",
       "    </tr>\n",
       "  </tbody>\n",
       "</table>\n",
       "</div>"
      ],
      "text/plain": [
       "   CustomerId   Surname  CreditScore Geography  Gender   Age  Tenure  \\\n",
       "0    15634602  Hargrave        619.0    France  Female  42.0     2.0   \n",
       "1    15647311      Hill        608.0     Spain  Female  41.0     1.0   \n",
       "2    15619304      Onio        502.0    France  Female  42.0     8.0   \n",
       "3    15701354      Boni        699.0    France  Female  39.0     1.0   \n",
       "4    15737888  Mitchell        850.0     Spain  Female  43.0     2.0   \n",
       "\n",
       "     Balance  NumOfProducts  HasCrCard  IsActiveMember  EstimatedSalary  \\\n",
       "0       0.00            1.0        1.0             1.0        101348.88   \n",
       "1   83807.86            1.0        0.0             1.0        112542.58   \n",
       "2  159660.80            3.0        1.0             0.0        113931.57   \n",
       "3       0.00            2.0        0.0             0.0         93826.63   \n",
       "4  125510.82            1.0        1.0             1.0         79084.10   \n",
       "\n",
       "   Exited  \n",
       "0     1.0  \n",
       "1     0.0  \n",
       "2     1.0  \n",
       "3     0.0  \n",
       "4     0.0  "
      ]
     },
     "execution_count": 5,
     "metadata": {},
     "output_type": "execute_result"
    }
   ],
   "source": [
    "df_orig.head()"
   ]
  },
  {
   "cell_type": "code",
   "execution_count": 6,
   "metadata": {},
   "outputs": [],
   "source": [
    "df = df_orig.copy()"
   ]
  },
  {
   "cell_type": "code",
   "execution_count": 7,
   "metadata": {},
   "outputs": [
    {
     "data": {
      "text/html": [
       "<div>\n",
       "<style scoped>\n",
       "    .dataframe tbody tr th:only-of-type {\n",
       "        vertical-align: middle;\n",
       "    }\n",
       "\n",
       "    .dataframe tbody tr th {\n",
       "        vertical-align: top;\n",
       "    }\n",
       "\n",
       "    .dataframe thead th {\n",
       "        text-align: right;\n",
       "    }\n",
       "</style>\n",
       "<table border=\"1\" class=\"dataframe\">\n",
       "  <thead>\n",
       "    <tr style=\"text-align: right;\">\n",
       "      <th></th>\n",
       "      <th>CreditScore</th>\n",
       "      <th>Geography</th>\n",
       "      <th>Gender</th>\n",
       "      <th>Age</th>\n",
       "      <th>Tenure</th>\n",
       "      <th>Balance</th>\n",
       "      <th>NumOfProducts</th>\n",
       "      <th>HasCrCard</th>\n",
       "      <th>IsActiveMember</th>\n",
       "      <th>EstimatedSalary</th>\n",
       "      <th>Exited</th>\n",
       "    </tr>\n",
       "  </thead>\n",
       "  <tbody>\n",
       "    <tr>\n",
       "      <th>0</th>\n",
       "      <td>619.0</td>\n",
       "      <td>France</td>\n",
       "      <td>Female</td>\n",
       "      <td>42.0</td>\n",
       "      <td>2.0</td>\n",
       "      <td>0.00</td>\n",
       "      <td>1.0</td>\n",
       "      <td>1.0</td>\n",
       "      <td>1.0</td>\n",
       "      <td>101348.88</td>\n",
       "      <td>1.0</td>\n",
       "    </tr>\n",
       "    <tr>\n",
       "      <th>1</th>\n",
       "      <td>608.0</td>\n",
       "      <td>Spain</td>\n",
       "      <td>Female</td>\n",
       "      <td>41.0</td>\n",
       "      <td>1.0</td>\n",
       "      <td>83807.86</td>\n",
       "      <td>1.0</td>\n",
       "      <td>0.0</td>\n",
       "      <td>1.0</td>\n",
       "      <td>112542.58</td>\n",
       "      <td>0.0</td>\n",
       "    </tr>\n",
       "    <tr>\n",
       "      <th>2</th>\n",
       "      <td>502.0</td>\n",
       "      <td>France</td>\n",
       "      <td>Female</td>\n",
       "      <td>42.0</td>\n",
       "      <td>8.0</td>\n",
       "      <td>159660.80</td>\n",
       "      <td>3.0</td>\n",
       "      <td>1.0</td>\n",
       "      <td>0.0</td>\n",
       "      <td>113931.57</td>\n",
       "      <td>1.0</td>\n",
       "    </tr>\n",
       "    <tr>\n",
       "      <th>3</th>\n",
       "      <td>699.0</td>\n",
       "      <td>France</td>\n",
       "      <td>Female</td>\n",
       "      <td>39.0</td>\n",
       "      <td>1.0</td>\n",
       "      <td>0.00</td>\n",
       "      <td>2.0</td>\n",
       "      <td>0.0</td>\n",
       "      <td>0.0</td>\n",
       "      <td>93826.63</td>\n",
       "      <td>0.0</td>\n",
       "    </tr>\n",
       "    <tr>\n",
       "      <th>4</th>\n",
       "      <td>850.0</td>\n",
       "      <td>Spain</td>\n",
       "      <td>Female</td>\n",
       "      <td>43.0</td>\n",
       "      <td>2.0</td>\n",
       "      <td>125510.82</td>\n",
       "      <td>1.0</td>\n",
       "      <td>1.0</td>\n",
       "      <td>1.0</td>\n",
       "      <td>79084.10</td>\n",
       "      <td>0.0</td>\n",
       "    </tr>\n",
       "  </tbody>\n",
       "</table>\n",
       "</div>"
      ],
      "text/plain": [
       "   CreditScore Geography  Gender   Age  Tenure    Balance  NumOfProducts  \\\n",
       "0        619.0    France  Female  42.0     2.0       0.00            1.0   \n",
       "1        608.0     Spain  Female  41.0     1.0   83807.86            1.0   \n",
       "2        502.0    France  Female  42.0     8.0  159660.80            3.0   \n",
       "3        699.0    France  Female  39.0     1.0       0.00            2.0   \n",
       "4        850.0     Spain  Female  43.0     2.0  125510.82            1.0   \n",
       "\n",
       "   HasCrCard  IsActiveMember  EstimatedSalary  Exited  \n",
       "0        1.0             1.0        101348.88     1.0  \n",
       "1        0.0             1.0        112542.58     0.0  \n",
       "2        1.0             0.0        113931.57     1.0  \n",
       "3        0.0             0.0         93826.63     0.0  \n",
       "4        1.0             1.0         79084.10     0.0  "
      ]
     },
     "execution_count": 7,
     "metadata": {},
     "output_type": "execute_result"
    }
   ],
   "source": [
    "# Dropping the id and name columns.\n",
    "df.drop('CustomerId', axis=1, inplace=True)\n",
    "df.drop('Surname', axis=1, inplace=True)\n",
    "df.head()"
   ]
  },
  {
   "cell_type": "code",
   "execution_count": 8,
   "metadata": {},
   "outputs": [
    {
     "name": "stdout",
     "output_type": "stream",
     "text": [
      "<class 'pandas.core.frame.DataFrame'>\n",
      "RangeIndex: 10000 entries, 0 to 9999\n",
      "Data columns (total 11 columns):\n",
      "CreditScore        10000 non-null float64\n",
      "Geography          10000 non-null object\n",
      "Gender             10000 non-null object\n",
      "Age                10000 non-null float64\n",
      "Tenure             10000 non-null float64\n",
      "Balance            10000 non-null float64\n",
      "NumOfProducts      10000 non-null float64\n",
      "HasCrCard          10000 non-null float64\n",
      "IsActiveMember     10000 non-null float64\n",
      "EstimatedSalary    10000 non-null float64\n",
      "Exited             10000 non-null float64\n",
      "dtypes: float64(9), object(2)\n",
      "memory usage: 859.5+ KB\n"
     ]
    }
   ],
   "source": [
    "df.info()"
   ]
  },
  {
   "cell_type": "code",
   "execution_count": 9,
   "metadata": {},
   "outputs": [],
   "source": [
    "# Converting NumOfProducts column to categorical.\n",
    "df['NumOfProducts'] = df['NumOfProducts'].astype(int)\n",
    "df['NumOfProducts'] = df['NumOfProducts'].astype(object)"
   ]
  },
  {
   "cell_type": "code",
   "execution_count": 10,
   "metadata": {},
   "outputs": [
    {
     "data": {
      "text/html": [
       "<div>\n",
       "<style scoped>\n",
       "    .dataframe tbody tr th:only-of-type {\n",
       "        vertical-align: middle;\n",
       "    }\n",
       "\n",
       "    .dataframe tbody tr th {\n",
       "        vertical-align: top;\n",
       "    }\n",
       "\n",
       "    .dataframe thead th {\n",
       "        text-align: right;\n",
       "    }\n",
       "</style>\n",
       "<table border=\"1\" class=\"dataframe\">\n",
       "  <thead>\n",
       "    <tr style=\"text-align: right;\">\n",
       "      <th></th>\n",
       "      <th>CreditScore</th>\n",
       "      <th>Age</th>\n",
       "      <th>Tenure</th>\n",
       "      <th>Balance</th>\n",
       "      <th>HasCrCard</th>\n",
       "      <th>IsActiveMember</th>\n",
       "      <th>EstimatedSalary</th>\n",
       "      <th>Exited</th>\n",
       "      <th>Geography_France</th>\n",
       "      <th>Geography_Germany</th>\n",
       "      <th>Geography_Spain</th>\n",
       "      <th>Gender_Female</th>\n",
       "      <th>Gender_Male</th>\n",
       "      <th>NumOfProducts_1</th>\n",
       "      <th>NumOfProducts_2</th>\n",
       "      <th>NumOfProducts_3</th>\n",
       "      <th>NumOfProducts_4</th>\n",
       "    </tr>\n",
       "  </thead>\n",
       "  <tbody>\n",
       "    <tr>\n",
       "      <th>0</th>\n",
       "      <td>619.0</td>\n",
       "      <td>42.0</td>\n",
       "      <td>2.0</td>\n",
       "      <td>0.00</td>\n",
       "      <td>1.0</td>\n",
       "      <td>1.0</td>\n",
       "      <td>101348.88</td>\n",
       "      <td>1.0</td>\n",
       "      <td>1</td>\n",
       "      <td>0</td>\n",
       "      <td>0</td>\n",
       "      <td>1</td>\n",
       "      <td>0</td>\n",
       "      <td>1</td>\n",
       "      <td>0</td>\n",
       "      <td>0</td>\n",
       "      <td>0</td>\n",
       "    </tr>\n",
       "    <tr>\n",
       "      <th>1</th>\n",
       "      <td>608.0</td>\n",
       "      <td>41.0</td>\n",
       "      <td>1.0</td>\n",
       "      <td>83807.86</td>\n",
       "      <td>0.0</td>\n",
       "      <td>1.0</td>\n",
       "      <td>112542.58</td>\n",
       "      <td>0.0</td>\n",
       "      <td>0</td>\n",
       "      <td>0</td>\n",
       "      <td>1</td>\n",
       "      <td>1</td>\n",
       "      <td>0</td>\n",
       "      <td>1</td>\n",
       "      <td>0</td>\n",
       "      <td>0</td>\n",
       "      <td>0</td>\n",
       "    </tr>\n",
       "    <tr>\n",
       "      <th>2</th>\n",
       "      <td>502.0</td>\n",
       "      <td>42.0</td>\n",
       "      <td>8.0</td>\n",
       "      <td>159660.80</td>\n",
       "      <td>1.0</td>\n",
       "      <td>0.0</td>\n",
       "      <td>113931.57</td>\n",
       "      <td>1.0</td>\n",
       "      <td>1</td>\n",
       "      <td>0</td>\n",
       "      <td>0</td>\n",
       "      <td>1</td>\n",
       "      <td>0</td>\n",
       "      <td>0</td>\n",
       "      <td>0</td>\n",
       "      <td>1</td>\n",
       "      <td>0</td>\n",
       "    </tr>\n",
       "    <tr>\n",
       "      <th>3</th>\n",
       "      <td>699.0</td>\n",
       "      <td>39.0</td>\n",
       "      <td>1.0</td>\n",
       "      <td>0.00</td>\n",
       "      <td>0.0</td>\n",
       "      <td>0.0</td>\n",
       "      <td>93826.63</td>\n",
       "      <td>0.0</td>\n",
       "      <td>1</td>\n",
       "      <td>0</td>\n",
       "      <td>0</td>\n",
       "      <td>1</td>\n",
       "      <td>0</td>\n",
       "      <td>0</td>\n",
       "      <td>1</td>\n",
       "      <td>0</td>\n",
       "      <td>0</td>\n",
       "    </tr>\n",
       "    <tr>\n",
       "      <th>4</th>\n",
       "      <td>850.0</td>\n",
       "      <td>43.0</td>\n",
       "      <td>2.0</td>\n",
       "      <td>125510.82</td>\n",
       "      <td>1.0</td>\n",
       "      <td>1.0</td>\n",
       "      <td>79084.10</td>\n",
       "      <td>0.0</td>\n",
       "      <td>0</td>\n",
       "      <td>0</td>\n",
       "      <td>1</td>\n",
       "      <td>1</td>\n",
       "      <td>0</td>\n",
       "      <td>1</td>\n",
       "      <td>0</td>\n",
       "      <td>0</td>\n",
       "      <td>0</td>\n",
       "    </tr>\n",
       "  </tbody>\n",
       "</table>\n",
       "</div>"
      ],
      "text/plain": [
       "   CreditScore   Age  Tenure    Balance  HasCrCard  IsActiveMember  \\\n",
       "0        619.0  42.0     2.0       0.00        1.0             1.0   \n",
       "1        608.0  41.0     1.0   83807.86        0.0             1.0   \n",
       "2        502.0  42.0     8.0  159660.80        1.0             0.0   \n",
       "3        699.0  39.0     1.0       0.00        0.0             0.0   \n",
       "4        850.0  43.0     2.0  125510.82        1.0             1.0   \n",
       "\n",
       "   EstimatedSalary  Exited  Geography_France  Geography_Germany  \\\n",
       "0        101348.88     1.0                 1                  0   \n",
       "1        112542.58     0.0                 0                  0   \n",
       "2        113931.57     1.0                 1                  0   \n",
       "3         93826.63     0.0                 1                  0   \n",
       "4         79084.10     0.0                 0                  0   \n",
       "\n",
       "   Geography_Spain  Gender_Female  Gender_Male  NumOfProducts_1  \\\n",
       "0                0              1            0                1   \n",
       "1                1              1            0                1   \n",
       "2                0              1            0                0   \n",
       "3                0              1            0                0   \n",
       "4                1              1            0                1   \n",
       "\n",
       "   NumOfProducts_2  NumOfProducts_3  NumOfProducts_4  \n",
       "0                0                0                0  \n",
       "1                0                0                0  \n",
       "2                0                1                0  \n",
       "3                1                0                0  \n",
       "4                0                0                0  "
      ]
     },
     "execution_count": 10,
     "metadata": {},
     "output_type": "execute_result"
    }
   ],
   "source": [
    "# Creating seperate columns for categories\n",
    "df = pd.get_dummies(df)\n",
    "df.head()"
   ]
  },
  {
   "cell_type": "code",
   "execution_count": 11,
   "metadata": {},
   "outputs": [
    {
     "data": {
      "text/html": [
       "<div>\n",
       "<style scoped>\n",
       "    .dataframe tbody tr th:only-of-type {\n",
       "        vertical-align: middle;\n",
       "    }\n",
       "\n",
       "    .dataframe tbody tr th {\n",
       "        vertical-align: top;\n",
       "    }\n",
       "\n",
       "    .dataframe thead th {\n",
       "        text-align: right;\n",
       "    }\n",
       "</style>\n",
       "<table border=\"1\" class=\"dataframe\">\n",
       "  <thead>\n",
       "    <tr style=\"text-align: right;\">\n",
       "      <th></th>\n",
       "      <th>CreditScore</th>\n",
       "      <th>Age</th>\n",
       "      <th>Tenure</th>\n",
       "      <th>Balance</th>\n",
       "      <th>HasCrCard</th>\n",
       "      <th>IsActiveMember</th>\n",
       "      <th>EstimatedSalary</th>\n",
       "      <th>Exited</th>\n",
       "      <th>Geography_France</th>\n",
       "      <th>Geography_Germany</th>\n",
       "      <th>Gender_Female</th>\n",
       "      <th>NumOfProducts_1</th>\n",
       "      <th>NumOfProducts_3</th>\n",
       "      <th>NumOfProducts_4</th>\n",
       "    </tr>\n",
       "  </thead>\n",
       "  <tbody>\n",
       "    <tr>\n",
       "      <th>0</th>\n",
       "      <td>619.0</td>\n",
       "      <td>42.0</td>\n",
       "      <td>2.0</td>\n",
       "      <td>0.00</td>\n",
       "      <td>1.0</td>\n",
       "      <td>1.0</td>\n",
       "      <td>101348.88</td>\n",
       "      <td>1.0</td>\n",
       "      <td>1</td>\n",
       "      <td>0</td>\n",
       "      <td>1</td>\n",
       "      <td>1</td>\n",
       "      <td>0</td>\n",
       "      <td>0</td>\n",
       "    </tr>\n",
       "    <tr>\n",
       "      <th>1</th>\n",
       "      <td>608.0</td>\n",
       "      <td>41.0</td>\n",
       "      <td>1.0</td>\n",
       "      <td>83807.86</td>\n",
       "      <td>0.0</td>\n",
       "      <td>1.0</td>\n",
       "      <td>112542.58</td>\n",
       "      <td>0.0</td>\n",
       "      <td>0</td>\n",
       "      <td>0</td>\n",
       "      <td>1</td>\n",
       "      <td>1</td>\n",
       "      <td>0</td>\n",
       "      <td>0</td>\n",
       "    </tr>\n",
       "    <tr>\n",
       "      <th>2</th>\n",
       "      <td>502.0</td>\n",
       "      <td>42.0</td>\n",
       "      <td>8.0</td>\n",
       "      <td>159660.80</td>\n",
       "      <td>1.0</td>\n",
       "      <td>0.0</td>\n",
       "      <td>113931.57</td>\n",
       "      <td>1.0</td>\n",
       "      <td>1</td>\n",
       "      <td>0</td>\n",
       "      <td>1</td>\n",
       "      <td>0</td>\n",
       "      <td>1</td>\n",
       "      <td>0</td>\n",
       "    </tr>\n",
       "    <tr>\n",
       "      <th>3</th>\n",
       "      <td>699.0</td>\n",
       "      <td>39.0</td>\n",
       "      <td>1.0</td>\n",
       "      <td>0.00</td>\n",
       "      <td>0.0</td>\n",
       "      <td>0.0</td>\n",
       "      <td>93826.63</td>\n",
       "      <td>0.0</td>\n",
       "      <td>1</td>\n",
       "      <td>0</td>\n",
       "      <td>1</td>\n",
       "      <td>0</td>\n",
       "      <td>0</td>\n",
       "      <td>0</td>\n",
       "    </tr>\n",
       "    <tr>\n",
       "      <th>4</th>\n",
       "      <td>850.0</td>\n",
       "      <td>43.0</td>\n",
       "      <td>2.0</td>\n",
       "      <td>125510.82</td>\n",
       "      <td>1.0</td>\n",
       "      <td>1.0</td>\n",
       "      <td>79084.10</td>\n",
       "      <td>0.0</td>\n",
       "      <td>0</td>\n",
       "      <td>0</td>\n",
       "      <td>1</td>\n",
       "      <td>1</td>\n",
       "      <td>0</td>\n",
       "      <td>0</td>\n",
       "    </tr>\n",
       "  </tbody>\n",
       "</table>\n",
       "</div>"
      ],
      "text/plain": [
       "   CreditScore   Age  Tenure    Balance  HasCrCard  IsActiveMember  \\\n",
       "0        619.0  42.0     2.0       0.00        1.0             1.0   \n",
       "1        608.0  41.0     1.0   83807.86        0.0             1.0   \n",
       "2        502.0  42.0     8.0  159660.80        1.0             0.0   \n",
       "3        699.0  39.0     1.0       0.00        0.0             0.0   \n",
       "4        850.0  43.0     2.0  125510.82        1.0             1.0   \n",
       "\n",
       "   EstimatedSalary  Exited  Geography_France  Geography_Germany  \\\n",
       "0        101348.88     1.0                 1                  0   \n",
       "1        112542.58     0.0                 0                  0   \n",
       "2        113931.57     1.0                 1                  0   \n",
       "3         93826.63     0.0                 1                  0   \n",
       "4         79084.10     0.0                 0                  0   \n",
       "\n",
       "   Gender_Female  NumOfProducts_1  NumOfProducts_3  NumOfProducts_4  \n",
       "0              1                1                0                0  \n",
       "1              1                1                0                0  \n",
       "2              1                0                1                0  \n",
       "3              1                0                0                0  \n",
       "4              1                1                0                0  "
      ]
     },
     "execution_count": 11,
     "metadata": {},
     "output_type": "execute_result"
    }
   ],
   "source": [
    "# Dropping excess columns\n",
    "df.drop('Geography_Spain', axis=1, inplace=True)\n",
    "df.drop('Gender_Male', axis=1, inplace=True)\n",
    "df.drop('NumOfProducts_2', axis=1, inplace=True)\n",
    "df.head()"
   ]
  },
  {
   "cell_type": "code",
   "execution_count": 12,
   "metadata": {},
   "outputs": [
    {
     "data": {
      "text/plain": [
       "Index(['CreditScore', 'Age', 'Tenure', 'Balance', 'HasCrCard',\n",
       "       'IsActiveMember', 'EstimatedSalary', 'Exited', 'Geography_France',\n",
       "       'Geography_Germany', 'Gender_Female', 'NumOfProducts_1',\n",
       "       'NumOfProducts_3', 'NumOfProducts_4'],\n",
       "      dtype='object')"
      ]
     },
     "execution_count": 12,
     "metadata": {},
     "output_type": "execute_result"
    }
   ],
   "source": [
    "df.columns"
   ]
  },
  {
   "cell_type": "code",
   "execution_count": 13,
   "metadata": {},
   "outputs": [],
   "source": [
    "df = df[['CreditScore', 'Age', 'Tenure', 'Balance', 'HasCrCard',\n",
    "       'IsActiveMember', 'EstimatedSalary', 'Geography_Germany',\n",
    "       'Geography_France', 'Gender_Female', 'NumOfProducts_1',\n",
    "       'NumOfProducts_4', 'NumOfProducts_3', 'Exited']] "
   ]
  },
  {
   "cell_type": "code",
   "execution_count": 14,
   "metadata": {},
   "outputs": [
    {
     "data": {
      "text/html": [
       "<style  type=\"text/css\" >\n",
       "    #T_4e22d028_1cca_11ea_8857_dc4a3eac4345row0_col0 {\n",
       "            background-color:  #023858;\n",
       "            color:  #f1f1f1;\n",
       "        }    #T_4e22d028_1cca_11ea_8857_dc4a3eac4345row0_col1 {\n",
       "            background-color:  #faf3f9;\n",
       "            color:  #000000;\n",
       "        }    #T_4e22d028_1cca_11ea_8857_dc4a3eac4345row0_col2 {\n",
       "            background-color:  #fbf3f9;\n",
       "            color:  #000000;\n",
       "        }    #T_4e22d028_1cca_11ea_8857_dc4a3eac4345row0_col3 {\n",
       "            background-color:  #dddbec;\n",
       "            color:  #000000;\n",
       "        }    #T_4e22d028_1cca_11ea_8857_dc4a3eac4345row0_col4 {\n",
       "            background-color:  #fef6fa;\n",
       "            color:  #000000;\n",
       "        }    #T_4e22d028_1cca_11ea_8857_dc4a3eac4345row0_col5 {\n",
       "            background-color:  #e5e1ef;\n",
       "            color:  #000000;\n",
       "        }    #T_4e22d028_1cca_11ea_8857_dc4a3eac4345row0_col6 {\n",
       "            background-color:  #fef6fa;\n",
       "            color:  #000000;\n",
       "        }    #T_4e22d028_1cca_11ea_8857_dc4a3eac4345row0_col7 {\n",
       "            background-color:  #a8bedc;\n",
       "            color:  #000000;\n",
       "        }    #T_4e22d028_1cca_11ea_8857_dc4a3eac4345row0_col8 {\n",
       "            background-color:  #abbfdc;\n",
       "            color:  #000000;\n",
       "        }    #T_4e22d028_1cca_11ea_8857_dc4a3eac4345row0_col9 {\n",
       "            background-color:  #fbf4f9;\n",
       "            color:  #000000;\n",
       "        }    #T_4e22d028_1cca_11ea_8857_dc4a3eac4345row0_col10 {\n",
       "            background-color:  #ebe6f2;\n",
       "            color:  #000000;\n",
       "        }    #T_4e22d028_1cca_11ea_8857_dc4a3eac4345row0_col11 {\n",
       "            background-color:  #f4edf6;\n",
       "            color:  #000000;\n",
       "        }    #T_4e22d028_1cca_11ea_8857_dc4a3eac4345row0_col12 {\n",
       "            background-color:  #e9e5f1;\n",
       "            color:  #000000;\n",
       "        }    #T_4e22d028_1cca_11ea_8857_dc4a3eac4345row0_col13 {\n",
       "            background-color:  #eee9f3;\n",
       "            color:  #000000;\n",
       "        }    #T_4e22d028_1cca_11ea_8857_dc4a3eac4345row1_col0 {\n",
       "            background-color:  #fcf4fa;\n",
       "            color:  #000000;\n",
       "        }    #T_4e22d028_1cca_11ea_8857_dc4a3eac4345row1_col1 {\n",
       "            background-color:  #023858;\n",
       "            color:  #f1f1f1;\n",
       "        }    #T_4e22d028_1cca_11ea_8857_dc4a3eac4345row1_col2 {\n",
       "            background-color:  #fdf5fa;\n",
       "            color:  #000000;\n",
       "        }    #T_4e22d028_1cca_11ea_8857_dc4a3eac4345row1_col3 {\n",
       "            background-color:  #d9d8ea;\n",
       "            color:  #000000;\n",
       "        }    #T_4e22d028_1cca_11ea_8857_dc4a3eac4345row1_col4 {\n",
       "            background-color:  #fff7fb;\n",
       "            color:  #000000;\n",
       "        }    #T_4e22d028_1cca_11ea_8857_dc4a3eac4345row1_col5 {\n",
       "            background-color:  #d9d8ea;\n",
       "            color:  #000000;\n",
       "        }    #T_4e22d028_1cca_11ea_8857_dc4a3eac4345row1_col6 {\n",
       "            background-color:  #fff7fb;\n",
       "            color:  #000000;\n",
       "        }    #T_4e22d028_1cca_11ea_8857_dc4a3eac4345row1_col7 {\n",
       "            background-color:  #9ebad9;\n",
       "            color:  #000000;\n",
       "        }    #T_4e22d028_1cca_11ea_8857_dc4a3eac4345row1_col8 {\n",
       "            background-color:  #b1c2de;\n",
       "            color:  #000000;\n",
       "        }    #T_4e22d028_1cca_11ea_8857_dc4a3eac4345row1_col9 {\n",
       "            background-color:  #f8f1f8;\n",
       "            color:  #000000;\n",
       "        }    #T_4e22d028_1cca_11ea_8857_dc4a3eac4345row1_col10 {\n",
       "            background-color:  #dad9ea;\n",
       "            color:  #000000;\n",
       "        }    #T_4e22d028_1cca_11ea_8857_dc4a3eac4345row1_col11 {\n",
       "            background-color:  #ede8f3;\n",
       "            color:  #000000;\n",
       "        }    #T_4e22d028_1cca_11ea_8857_dc4a3eac4345row1_col12 {\n",
       "            background-color:  #dbdaeb;\n",
       "            color:  #000000;\n",
       "        }    #T_4e22d028_1cca_11ea_8857_dc4a3eac4345row1_col13 {\n",
       "            background-color:  #a4bcda;\n",
       "            color:  #000000;\n",
       "        }    #T_4e22d028_1cca_11ea_8857_dc4a3eac4345row2_col0 {\n",
       "            background-color:  #fbf4f9;\n",
       "            color:  #000000;\n",
       "        }    #T_4e22d028_1cca_11ea_8857_dc4a3eac4345row2_col1 {\n",
       "            background-color:  #fbf3f9;\n",
       "            color:  #000000;\n",
       "        }    #T_4e22d028_1cca_11ea_8857_dc4a3eac4345row2_col2 {\n",
       "            background-color:  #023858;\n",
       "            color:  #f1f1f1;\n",
       "        }    #T_4e22d028_1cca_11ea_8857_dc4a3eac4345row2_col3 {\n",
       "            background-color:  #e0deed;\n",
       "            color:  #000000;\n",
       "        }    #T_4e22d028_1cca_11ea_8857_dc4a3eac4345row2_col4 {\n",
       "            background-color:  #faf2f8;\n",
       "            color:  #000000;\n",
       "        }    #T_4e22d028_1cca_11ea_8857_dc4a3eac4345row2_col5 {\n",
       "            background-color:  #eee9f3;\n",
       "            color:  #000000;\n",
       "        }    #T_4e22d028_1cca_11ea_8857_dc4a3eac4345row2_col6 {\n",
       "            background-color:  #fdf5fa;\n",
       "            color:  #000000;\n",
       "        }    #T_4e22d028_1cca_11ea_8857_dc4a3eac4345row2_col7 {\n",
       "            background-color:  #a9bfdc;\n",
       "            color:  #000000;\n",
       "        }    #T_4e22d028_1cca_11ea_8857_dc4a3eac4345row2_col8 {\n",
       "            background-color:  #a9bfdc;\n",
       "            color:  #000000;\n",
       "        }    #T_4e22d028_1cca_11ea_8857_dc4a3eac4345row2_col9 {\n",
       "            background-color:  #fef6fa;\n",
       "            color:  #000000;\n",
       "        }    #T_4e22d028_1cca_11ea_8857_dc4a3eac4345row2_col10 {\n",
       "            background-color:  #ebe6f2;\n",
       "            color:  #000000;\n",
       "        }    #T_4e22d028_1cca_11ea_8857_dc4a3eac4345row2_col11 {\n",
       "            background-color:  #f3edf5;\n",
       "            color:  #000000;\n",
       "        }    #T_4e22d028_1cca_11ea_8857_dc4a3eac4345row2_col12 {\n",
       "            background-color:  #e8e4f0;\n",
       "            color:  #000000;\n",
       "        }    #T_4e22d028_1cca_11ea_8857_dc4a3eac4345row2_col13 {\n",
       "            background-color:  #ede7f2;\n",
       "            color:  #000000;\n",
       "        }    #T_4e22d028_1cca_11ea_8857_dc4a3eac4345row3_col0 {\n",
       "            background-color:  #faf3f9;\n",
       "            color:  #000000;\n",
       "        }    #T_4e22d028_1cca_11ea_8857_dc4a3eac4345row3_col1 {\n",
       "            background-color:  #f5eff6;\n",
       "            color:  #000000;\n",
       "        }    #T_4e22d028_1cca_11ea_8857_dc4a3eac4345row3_col2 {\n",
       "            background-color:  #fdf5fa;\n",
       "            color:  #000000;\n",
       "        }    #T_4e22d028_1cca_11ea_8857_dc4a3eac4345row3_col3 {\n",
       "            background-color:  #023858;\n",
       "            color:  #f1f1f1;\n",
       "        }    #T_4e22d028_1cca_11ea_8857_dc4a3eac4345row3_col4 {\n",
       "            background-color:  #fff7fb;\n",
       "            color:  #000000;\n",
       "        }    #T_4e22d028_1cca_11ea_8857_dc4a3eac4345row3_col5 {\n",
       "            background-color:  #ece7f2;\n",
       "            color:  #000000;\n",
       "        }    #T_4e22d028_1cca_11ea_8857_dc4a3eac4345row3_col6 {\n",
       "            background-color:  #fbf4f9;\n",
       "            color:  #000000;\n",
       "        }    #T_4e22d028_1cca_11ea_8857_dc4a3eac4345row3_col7 {\n",
       "            background-color:  #3790c0;\n",
       "            color:  #000000;\n",
       "        }    #T_4e22d028_1cca_11ea_8857_dc4a3eac4345row3_col8 {\n",
       "            background-color:  #d7d6e9;\n",
       "            color:  #000000;\n",
       "        }    #T_4e22d028_1cca_11ea_8857_dc4a3eac4345row3_col9 {\n",
       "            background-color:  #fef6fa;\n",
       "            color:  #000000;\n",
       "        }    #T_4e22d028_1cca_11ea_8857_dc4a3eac4345row3_col10 {\n",
       "            background-color:  #88b1d4;\n",
       "            color:  #000000;\n",
       "        }    #T_4e22d028_1cca_11ea_8857_dc4a3eac4345row3_col11 {\n",
       "            background-color:  #f1ebf5;\n",
       "            color:  #000000;\n",
       "        }    #T_4e22d028_1cca_11ea_8857_dc4a3eac4345row3_col12 {\n",
       "            background-color:  #e8e4f0;\n",
       "            color:  #000000;\n",
       "        }    #T_4e22d028_1cca_11ea_8857_dc4a3eac4345row3_col13 {\n",
       "            background-color:  #d3d4e7;\n",
       "            color:  #000000;\n",
       "        }    #T_4e22d028_1cca_11ea_8857_dc4a3eac4345row4_col0 {\n",
       "            background-color:  #fcf4fa;\n",
       "            color:  #000000;\n",
       "        }    #T_4e22d028_1cca_11ea_8857_dc4a3eac4345row4_col1 {\n",
       "            background-color:  #fbf4f9;\n",
       "            color:  #000000;\n",
       "        }    #T_4e22d028_1cca_11ea_8857_dc4a3eac4345row4_col2 {\n",
       "            background-color:  #f8f1f8;\n",
       "            color:  #000000;\n",
       "        }    #T_4e22d028_1cca_11ea_8857_dc4a3eac4345row4_col3 {\n",
       "            background-color:  #e0deed;\n",
       "            color:  #000000;\n",
       "        }    #T_4e22d028_1cca_11ea_8857_dc4a3eac4345row4_col4 {\n",
       "            background-color:  #023858;\n",
       "            color:  #f1f1f1;\n",
       "        }    #T_4e22d028_1cca_11ea_8857_dc4a3eac4345row4_col5 {\n",
       "            background-color:  #ede7f2;\n",
       "            color:  #000000;\n",
       "        }    #T_4e22d028_1cca_11ea_8857_dc4a3eac4345row4_col6 {\n",
       "            background-color:  #fff7fb;\n",
       "            color:  #000000;\n",
       "        }    #T_4e22d028_1cca_11ea_8857_dc4a3eac4345row4_col7 {\n",
       "            background-color:  #a7bddb;\n",
       "            color:  #000000;\n",
       "        }    #T_4e22d028_1cca_11ea_8857_dc4a3eac4345row4_col8 {\n",
       "            background-color:  #a8bedc;\n",
       "            color:  #000000;\n",
       "        }    #T_4e22d028_1cca_11ea_8857_dc4a3eac4345row4_col9 {\n",
       "            background-color:  #fdf5fa;\n",
       "            color:  #000000;\n",
       "        }    #T_4e22d028_1cca_11ea_8857_dc4a3eac4345row4_col10 {\n",
       "            background-color:  #e9e5f1;\n",
       "            color:  #000000;\n",
       "        }    #T_4e22d028_1cca_11ea_8857_dc4a3eac4345row4_col11 {\n",
       "            background-color:  #f5eef6;\n",
       "            color:  #000000;\n",
       "        }    #T_4e22d028_1cca_11ea_8857_dc4a3eac4345row4_col12 {\n",
       "            background-color:  #e7e3f0;\n",
       "            color:  #000000;\n",
       "        }    #T_4e22d028_1cca_11ea_8857_dc4a3eac4345row4_col13 {\n",
       "            background-color:  #ebe6f2;\n",
       "            color:  #000000;\n",
       "        }    #T_4e22d028_1cca_11ea_8857_dc4a3eac4345row5_col0 {\n",
       "            background-color:  #f7f0f7;\n",
       "            color:  #000000;\n",
       "        }    #T_4e22d028_1cca_11ea_8857_dc4a3eac4345row5_col1 {\n",
       "            background-color:  #ede8f3;\n",
       "            color:  #000000;\n",
       "        }    #T_4e22d028_1cca_11ea_8857_dc4a3eac4345row5_col2 {\n",
       "            background-color:  #fff7fb;\n",
       "            color:  #000000;\n",
       "        }    #T_4e22d028_1cca_11ea_8857_dc4a3eac4345row5_col3 {\n",
       "            background-color:  #e0dded;\n",
       "            color:  #000000;\n",
       "        }    #T_4e22d028_1cca_11ea_8857_dc4a3eac4345row5_col4 {\n",
       "            background-color:  #fff7fb;\n",
       "            color:  #000000;\n",
       "        }    #T_4e22d028_1cca_11ea_8857_dc4a3eac4345row5_col5 {\n",
       "            background-color:  #023858;\n",
       "            color:  #f1f1f1;\n",
       "        }    #T_4e22d028_1cca_11ea_8857_dc4a3eac4345row5_col6 {\n",
       "            background-color:  #fff7fb;\n",
       "            color:  #000000;\n",
       "        }    #T_4e22d028_1cca_11ea_8857_dc4a3eac4345row5_col7 {\n",
       "            background-color:  #adc1dd;\n",
       "            color:  #000000;\n",
       "        }    #T_4e22d028_1cca_11ea_8857_dc4a3eac4345row5_col8 {\n",
       "            background-color:  #a8bedc;\n",
       "            color:  #000000;\n",
       "        }    #T_4e22d028_1cca_11ea_8857_dc4a3eac4345row5_col9 {\n",
       "            background-color:  #fff7fb;\n",
       "            color:  #000000;\n",
       "        }    #T_4e22d028_1cca_11ea_8857_dc4a3eac4345row5_col10 {\n",
       "            background-color:  #ede7f2;\n",
       "            color:  #000000;\n",
       "        }    #T_4e22d028_1cca_11ea_8857_dc4a3eac4345row5_col11 {\n",
       "            background-color:  #f5eef6;\n",
       "            color:  #000000;\n",
       "        }    #T_4e22d028_1cca_11ea_8857_dc4a3eac4345row5_col12 {\n",
       "            background-color:  #ede8f3;\n",
       "            color:  #000000;\n",
       "        }    #T_4e22d028_1cca_11ea_8857_dc4a3eac4345row5_col13 {\n",
       "            background-color:  #fff7fb;\n",
       "            color:  #000000;\n",
       "        }    #T_4e22d028_1cca_11ea_8857_dc4a3eac4345row6_col0 {\n",
       "            background-color:  #fbf4f9;\n",
       "            color:  #000000;\n",
       "        }    #T_4e22d028_1cca_11ea_8857_dc4a3eac4345row6_col1 {\n",
       "            background-color:  #fbf3f9;\n",
       "            color:  #000000;\n",
       "        }    #T_4e22d028_1cca_11ea_8857_dc4a3eac4345row6_col2 {\n",
       "            background-color:  #faf3f9;\n",
       "            color:  #000000;\n",
       "        }    #T_4e22d028_1cca_11ea_8857_dc4a3eac4345row6_col3 {\n",
       "            background-color:  #dcdaeb;\n",
       "            color:  #000000;\n",
       "        }    #T_4e22d028_1cca_11ea_8857_dc4a3eac4345row6_col4 {\n",
       "            background-color:  #fef6fb;\n",
       "            color:  #000000;\n",
       "        }    #T_4e22d028_1cca_11ea_8857_dc4a3eac4345row6_col5 {\n",
       "            background-color:  #ece7f2;\n",
       "            color:  #000000;\n",
       "        }    #T_4e22d028_1cca_11ea_8857_dc4a3eac4345row6_col6 {\n",
       "            background-color:  #023858;\n",
       "            color:  #f1f1f1;\n",
       "        }    #T_4e22d028_1cca_11ea_8857_dc4a3eac4345row6_col7 {\n",
       "            background-color:  #a7bddb;\n",
       "            color:  #000000;\n",
       "        }    #T_4e22d028_1cca_11ea_8857_dc4a3eac4345row6_col8 {\n",
       "            background-color:  #a9bfdc;\n",
       "            color:  #000000;\n",
       "        }    #T_4e22d028_1cca_11ea_8857_dc4a3eac4345row6_col9 {\n",
       "            background-color:  #fbf3f9;\n",
       "            color:  #000000;\n",
       "        }    #T_4e22d028_1cca_11ea_8857_dc4a3eac4345row6_col10 {\n",
       "            background-color:  #eae6f1;\n",
       "            color:  #000000;\n",
       "        }    #T_4e22d028_1cca_11ea_8857_dc4a3eac4345row6_col11 {\n",
       "            background-color:  #f3edf5;\n",
       "            color:  #000000;\n",
       "        }    #T_4e22d028_1cca_11ea_8857_dc4a3eac4345row6_col12 {\n",
       "            background-color:  #e6e2ef;\n",
       "            color:  #000000;\n",
       "        }    #T_4e22d028_1cca_11ea_8857_dc4a3eac4345row6_col13 {\n",
       "            background-color:  #e7e3f0;\n",
       "            color:  #000000;\n",
       "        }    #T_4e22d028_1cca_11ea_8857_dc4a3eac4345row7_col0 {\n",
       "            background-color:  #fbf3f9;\n",
       "            color:  #000000;\n",
       "        }    #T_4e22d028_1cca_11ea_8857_dc4a3eac4345row7_col1 {\n",
       "            background-color:  #f2ecf5;\n",
       "            color:  #000000;\n",
       "        }    #T_4e22d028_1cca_11ea_8857_dc4a3eac4345row7_col2 {\n",
       "            background-color:  #fbf4f9;\n",
       "            color:  #000000;\n",
       "        }    #T_4e22d028_1cca_11ea_8857_dc4a3eac4345row7_col3 {\n",
       "            background-color:  #6da6cd;\n",
       "            color:  #000000;\n",
       "        }    #T_4e22d028_1cca_11ea_8857_dc4a3eac4345row7_col4 {\n",
       "            background-color:  #fbf4f9;\n",
       "            color:  #000000;\n",
       "        }    #T_4e22d028_1cca_11ea_8857_dc4a3eac4345row7_col5 {\n",
       "            background-color:  #ede8f3;\n",
       "            color:  #000000;\n",
       "        }    #T_4e22d028_1cca_11ea_8857_dc4a3eac4345row7_col6 {\n",
       "            background-color:  #fcf4fa;\n",
       "            color:  #000000;\n",
       "        }    #T_4e22d028_1cca_11ea_8857_dc4a3eac4345row7_col7 {\n",
       "            background-color:  #023858;\n",
       "            color:  #f1f1f1;\n",
       "        }    #T_4e22d028_1cca_11ea_8857_dc4a3eac4345row7_col8 {\n",
       "            background-color:  #fff7fb;\n",
       "            color:  #000000;\n",
       "        }    #T_4e22d028_1cca_11ea_8857_dc4a3eac4345row7_col9 {\n",
       "            background-color:  #f8f1f8;\n",
       "            color:  #000000;\n",
       "        }    #T_4e22d028_1cca_11ea_8857_dc4a3eac4345row7_col10 {\n",
       "            background-color:  #e1dfed;\n",
       "            color:  #000000;\n",
       "        }    #T_4e22d028_1cca_11ea_8857_dc4a3eac4345row7_col11 {\n",
       "            background-color:  #f0eaf4;\n",
       "            color:  #000000;\n",
       "        }    #T_4e22d028_1cca_11ea_8857_dc4a3eac4345row7_col12 {\n",
       "            background-color:  #e0deed;\n",
       "            color:  #000000;\n",
       "        }    #T_4e22d028_1cca_11ea_8857_dc4a3eac4345row7_col13 {\n",
       "            background-color:  #c5cce3;\n",
       "            color:  #000000;\n",
       "        }    #T_4e22d028_1cca_11ea_8857_dc4a3eac4345row8_col0 {\n",
       "            background-color:  #fdf5fa;\n",
       "            color:  #000000;\n",
       "        }    #T_4e22d028_1cca_11ea_8857_dc4a3eac4345row8_col1 {\n",
       "            background-color:  #fff7fb;\n",
       "            color:  #000000;\n",
       "        }    #T_4e22d028_1cca_11ea_8857_dc4a3eac4345row8_col2 {\n",
       "            background-color:  #fbf4f9;\n",
       "            color:  #000000;\n",
       "        }    #T_4e22d028_1cca_11ea_8857_dc4a3eac4345row8_col3 {\n",
       "            background-color:  #fff7fb;\n",
       "            color:  #000000;\n",
       "        }    #T_4e22d028_1cca_11ea_8857_dc4a3eac4345row8_col4 {\n",
       "            background-color:  #fdf5fa;\n",
       "            color:  #000000;\n",
       "        }    #T_4e22d028_1cca_11ea_8857_dc4a3eac4345row8_col5 {\n",
       "            background-color:  #e9e5f1;\n",
       "            color:  #000000;\n",
       "        }    #T_4e22d028_1cca_11ea_8857_dc4a3eac4345row8_col6 {\n",
       "            background-color:  #fef6fa;\n",
       "            color:  #000000;\n",
       "        }    #T_4e22d028_1cca_11ea_8857_dc4a3eac4345row8_col7 {\n",
       "            background-color:  #fff7fb;\n",
       "            color:  #000000;\n",
       "        }    #T_4e22d028_1cca_11ea_8857_dc4a3eac4345row8_col8 {\n",
       "            background-color:  #023858;\n",
       "            color:  #f1f1f1;\n",
       "        }    #T_4e22d028_1cca_11ea_8857_dc4a3eac4345row8_col9 {\n",
       "            background-color:  #fdf5fa;\n",
       "            color:  #000000;\n",
       "        }    #T_4e22d028_1cca_11ea_8857_dc4a3eac4345row8_col10 {\n",
       "            background-color:  #ebe6f2;\n",
       "            color:  #000000;\n",
       "        }    #T_4e22d028_1cca_11ea_8857_dc4a3eac4345row8_col11 {\n",
       "            background-color:  #f4eef6;\n",
       "            color:  #000000;\n",
       "        }    #T_4e22d028_1cca_11ea_8857_dc4a3eac4345row8_col12 {\n",
       "            background-color:  #eee9f3;\n",
       "            color:  #000000;\n",
       "        }    #T_4e22d028_1cca_11ea_8857_dc4a3eac4345row8_col13 {\n",
       "            background-color:  #f8f1f8;\n",
       "            color:  #000000;\n",
       "        }    #T_4e22d028_1cca_11ea_8857_dc4a3eac4345row9_col0 {\n",
       "            background-color:  #fbf3f9;\n",
       "            color:  #000000;\n",
       "        }    #T_4e22d028_1cca_11ea_8857_dc4a3eac4345row9_col1 {\n",
       "            background-color:  #f5eff6;\n",
       "            color:  #000000;\n",
       "        }    #T_4e22d028_1cca_11ea_8857_dc4a3eac4345row9_col2 {\n",
       "            background-color:  #fdf5fa;\n",
       "            color:  #000000;\n",
       "        }    #T_4e22d028_1cca_11ea_8857_dc4a3eac4345row9_col3 {\n",
       "            background-color:  #e0deed;\n",
       "            color:  #000000;\n",
       "        }    #T_4e22d028_1cca_11ea_8857_dc4a3eac4345row9_col4 {\n",
       "            background-color:  #fef6fa;\n",
       "            color:  #000000;\n",
       "        }    #T_4e22d028_1cca_11ea_8857_dc4a3eac4345row9_col5 {\n",
       "            background-color:  #eee8f3;\n",
       "            color:  #000000;\n",
       "        }    #T_4e22d028_1cca_11ea_8857_dc4a3eac4345row9_col6 {\n",
       "            background-color:  #fcf4fa;\n",
       "            color:  #000000;\n",
       "        }    #T_4e22d028_1cca_11ea_8857_dc4a3eac4345row9_col7 {\n",
       "            background-color:  #a2bcda;\n",
       "            color:  #000000;\n",
       "        }    #T_4e22d028_1cca_11ea_8857_dc4a3eac4345row9_col8 {\n",
       "            background-color:  #abbfdc;\n",
       "            color:  #000000;\n",
       "        }    #T_4e22d028_1cca_11ea_8857_dc4a3eac4345row9_col9 {\n",
       "            background-color:  #023858;\n",
       "            color:  #f1f1f1;\n",
       "        }    #T_4e22d028_1cca_11ea_8857_dc4a3eac4345row9_col10 {\n",
       "            background-color:  #e9e5f1;\n",
       "            color:  #000000;\n",
       "        }    #T_4e22d028_1cca_11ea_8857_dc4a3eac4345row9_col11 {\n",
       "            background-color:  #f0eaf4;\n",
       "            color:  #000000;\n",
       "        }    #T_4e22d028_1cca_11ea_8857_dc4a3eac4345row9_col12 {\n",
       "            background-color:  #e1dfed;\n",
       "            color:  #000000;\n",
       "        }    #T_4e22d028_1cca_11ea_8857_dc4a3eac4345row9_col13 {\n",
       "            background-color:  #d5d5e8;\n",
       "            color:  #000000;\n",
       "        }    #T_4e22d028_1cca_11ea_8857_dc4a3eac4345row10_col0 {\n",
       "            background-color:  #fdf5fa;\n",
       "            color:  #000000;\n",
       "        }    #T_4e22d028_1cca_11ea_8857_dc4a3eac4345row10_col1 {\n",
       "            background-color:  #efe9f3;\n",
       "            color:  #000000;\n",
       "        }    #T_4e22d028_1cca_11ea_8857_dc4a3eac4345row10_col2 {\n",
       "            background-color:  #fdf5fa;\n",
       "            color:  #000000;\n",
       "        }    #T_4e22d028_1cca_11ea_8857_dc4a3eac4345row10_col3 {\n",
       "            background-color:  #7dacd1;\n",
       "            color:  #000000;\n",
       "        }    #T_4e22d028_1cca_11ea_8857_dc4a3eac4345row10_col4 {\n",
       "            background-color:  #fef6fa;\n",
       "            color:  #000000;\n",
       "        }    #T_4e22d028_1cca_11ea_8857_dc4a3eac4345row10_col5 {\n",
       "            background-color:  #eee8f3;\n",
       "            color:  #000000;\n",
       "        }    #T_4e22d028_1cca_11ea_8857_dc4a3eac4345row10_col6 {\n",
       "            background-color:  #fff7fb;\n",
       "            color:  #000000;\n",
       "        }    #T_4e22d028_1cca_11ea_8857_dc4a3eac4345row10_col7 {\n",
       "            background-color:  #a1bbda;\n",
       "            color:  #000000;\n",
       "        }    #T_4e22d028_1cca_11ea_8857_dc4a3eac4345row10_col8 {\n",
       "            background-color:  #acc0dd;\n",
       "            color:  #000000;\n",
       "        }    #T_4e22d028_1cca_11ea_8857_dc4a3eac4345row10_col9 {\n",
       "            background-color:  #fdf5fa;\n",
       "            color:  #000000;\n",
       "        }    #T_4e22d028_1cca_11ea_8857_dc4a3eac4345row10_col10 {\n",
       "            background-color:  #023858;\n",
       "            color:  #f1f1f1;\n",
       "        }    #T_4e22d028_1cca_11ea_8857_dc4a3eac4345row10_col11 {\n",
       "            background-color:  #fff7fb;\n",
       "            color:  #000000;\n",
       "        }    #T_4e22d028_1cca_11ea_8857_dc4a3eac4345row10_col12 {\n",
       "            background-color:  #fff7fb;\n",
       "            color:  #000000;\n",
       "        }    #T_4e22d028_1cca_11ea_8857_dc4a3eac4345row10_col13 {\n",
       "            background-color:  #c1cae2;\n",
       "            color:  #000000;\n",
       "        }    #T_4e22d028_1cca_11ea_8857_dc4a3eac4345row11_col0 {\n",
       "            background-color:  #fbf3f9;\n",
       "            color:  #000000;\n",
       "        }    #T_4e22d028_1cca_11ea_8857_dc4a3eac4345row11_col1 {\n",
       "            background-color:  #f2ecf5;\n",
       "            color:  #000000;\n",
       "        }    #T_4e22d028_1cca_11ea_8857_dc4a3eac4345row11_col2 {\n",
       "            background-color:  #faf3f9;\n",
       "            color:  #000000;\n",
       "        }    #T_4e22d028_1cca_11ea_8857_dc4a3eac4345row11_col3 {\n",
       "            background-color:  #dad9ea;\n",
       "            color:  #000000;\n",
       "        }    #T_4e22d028_1cca_11ea_8857_dc4a3eac4345row11_col4 {\n",
       "            background-color:  #fef6fa;\n",
       "            color:  #000000;\n",
       "        }    #T_4e22d028_1cca_11ea_8857_dc4a3eac4345row11_col5 {\n",
       "            background-color:  #ebe6f2;\n",
       "            color:  #000000;\n",
       "        }    #T_4e22d028_1cca_11ea_8857_dc4a3eac4345row11_col6 {\n",
       "            background-color:  #fdf5fa;\n",
       "            color:  #000000;\n",
       "        }    #T_4e22d028_1cca_11ea_8857_dc4a3eac4345row11_col7 {\n",
       "            background-color:  #a2bcda;\n",
       "            color:  #000000;\n",
       "        }    #T_4e22d028_1cca_11ea_8857_dc4a3eac4345row11_col8 {\n",
       "            background-color:  #a9bfdc;\n",
       "            color:  #000000;\n",
       "        }    #T_4e22d028_1cca_11ea_8857_dc4a3eac4345row11_col9 {\n",
       "            background-color:  #f8f1f8;\n",
       "            color:  #000000;\n",
       "        }    #T_4e22d028_1cca_11ea_8857_dc4a3eac4345row11_col10 {\n",
       "            background-color:  #f4edf6;\n",
       "            color:  #000000;\n",
       "        }    #T_4e22d028_1cca_11ea_8857_dc4a3eac4345row11_col11 {\n",
       "            background-color:  #023858;\n",
       "            color:  #f1f1f1;\n",
       "        }    #T_4e22d028_1cca_11ea_8857_dc4a3eac4345row11_col12 {\n",
       "            background-color:  #ebe6f2;\n",
       "            color:  #000000;\n",
       "        }    #T_4e22d028_1cca_11ea_8857_dc4a3eac4345row11_col13 {\n",
       "            background-color:  #cacee5;\n",
       "            color:  #000000;\n",
       "        }    #T_4e22d028_1cca_11ea_8857_dc4a3eac4345row12_col0 {\n",
       "            background-color:  #fcf4fa;\n",
       "            color:  #000000;\n",
       "        }    #T_4e22d028_1cca_11ea_8857_dc4a3eac4345row12_col1 {\n",
       "            background-color:  #f0eaf4;\n",
       "            color:  #000000;\n",
       "        }    #T_4e22d028_1cca_11ea_8857_dc4a3eac4345row12_col2 {\n",
       "            background-color:  #fbf4f9;\n",
       "            color:  #000000;\n",
       "        }    #T_4e22d028_1cca_11ea_8857_dc4a3eac4345row12_col3 {\n",
       "            background-color:  #dfddec;\n",
       "            color:  #000000;\n",
       "        }    #T_4e22d028_1cca_11ea_8857_dc4a3eac4345row12_col4 {\n",
       "            background-color:  #fdf5fa;\n",
       "            color:  #000000;\n",
       "        }    #T_4e22d028_1cca_11ea_8857_dc4a3eac4345row12_col5 {\n",
       "            background-color:  #efe9f3;\n",
       "            color:  #000000;\n",
       "        }    #T_4e22d028_1cca_11ea_8857_dc4a3eac4345row12_col6 {\n",
       "            background-color:  #fcf4fa;\n",
       "            color:  #000000;\n",
       "        }    #T_4e22d028_1cca_11ea_8857_dc4a3eac4345row12_col7 {\n",
       "            background-color:  #9fbad9;\n",
       "            color:  #000000;\n",
       "        }    #T_4e22d028_1cca_11ea_8857_dc4a3eac4345row12_col8 {\n",
       "            background-color:  #b0c2de;\n",
       "            color:  #000000;\n",
       "        }    #T_4e22d028_1cca_11ea_8857_dc4a3eac4345row12_col9 {\n",
       "            background-color:  #f7f0f7;\n",
       "            color:  #000000;\n",
       "        }    #T_4e22d028_1cca_11ea_8857_dc4a3eac4345row12_col10 {\n",
       "            background-color:  #fff7fb;\n",
       "            color:  #000000;\n",
       "        }    #T_4e22d028_1cca_11ea_8857_dc4a3eac4345row12_col11 {\n",
       "            background-color:  #f6eff7;\n",
       "            color:  #000000;\n",
       "        }    #T_4e22d028_1cca_11ea_8857_dc4a3eac4345row12_col12 {\n",
       "            background-color:  #023858;\n",
       "            color:  #f1f1f1;\n",
       "        }    #T_4e22d028_1cca_11ea_8857_dc4a3eac4345row12_col13 {\n",
       "            background-color:  #adc1dd;\n",
       "            color:  #000000;\n",
       "        }    #T_4e22d028_1cca_11ea_8857_dc4a3eac4345row13_col0 {\n",
       "            background-color:  #fff7fb;\n",
       "            color:  #000000;\n",
       "        }    #T_4e22d028_1cca_11ea_8857_dc4a3eac4345row13_col1 {\n",
       "            background-color:  #bcc7e1;\n",
       "            color:  #000000;\n",
       "        }    #T_4e22d028_1cca_11ea_8857_dc4a3eac4345row13_col2 {\n",
       "            background-color:  #fdf5fa;\n",
       "            color:  #000000;\n",
       "        }    #T_4e22d028_1cca_11ea_8857_dc4a3eac4345row13_col3 {\n",
       "            background-color:  #c5cce3;\n",
       "            color:  #000000;\n",
       "        }    #T_4e22d028_1cca_11ea_8857_dc4a3eac4345row13_col4 {\n",
       "            background-color:  #fef6fa;\n",
       "            color:  #000000;\n",
       "        }    #T_4e22d028_1cca_11ea_8857_dc4a3eac4345row13_col5 {\n",
       "            background-color:  #fff7fb;\n",
       "            color:  #000000;\n",
       "        }    #T_4e22d028_1cca_11ea_8857_dc4a3eac4345row13_col6 {\n",
       "            background-color:  #fcf4fa;\n",
       "            color:  #000000;\n",
       "        }    #T_4e22d028_1cca_11ea_8857_dc4a3eac4345row13_col7 {\n",
       "            background-color:  #7dacd1;\n",
       "            color:  #000000;\n",
       "        }    #T_4e22d028_1cca_11ea_8857_dc4a3eac4345row13_col8 {\n",
       "            background-color:  #bfc9e1;\n",
       "            color:  #000000;\n",
       "        }    #T_4e22d028_1cca_11ea_8857_dc4a3eac4345row13_col9 {\n",
       "            background-color:  #ece7f2;\n",
       "            color:  #000000;\n",
       "        }    #T_4e22d028_1cca_11ea_8857_dc4a3eac4345row13_col10 {\n",
       "            background-color:  #bfc9e1;\n",
       "            color:  #000000;\n",
       "        }    #T_4e22d028_1cca_11ea_8857_dc4a3eac4345row13_col11 {\n",
       "            background-color:  #d8d7e9;\n",
       "            color:  #000000;\n",
       "        }    #T_4e22d028_1cca_11ea_8857_dc4a3eac4345row13_col12 {\n",
       "            background-color:  #abbfdc;\n",
       "            color:  #000000;\n",
       "        }    #T_4e22d028_1cca_11ea_8857_dc4a3eac4345row13_col13 {\n",
       "            background-color:  #023858;\n",
       "            color:  #f1f1f1;\n",
       "        }</style><table id=\"T_4e22d028_1cca_11ea_8857_dc4a3eac4345\" ><thead>    <tr>        <th class=\"blank level0\" ></th>        <th class=\"col_heading level0 col0\" >CreditScore</th>        <th class=\"col_heading level0 col1\" >Age</th>        <th class=\"col_heading level0 col2\" >Tenure</th>        <th class=\"col_heading level0 col3\" >Balance</th>        <th class=\"col_heading level0 col4\" >HasCrCard</th>        <th class=\"col_heading level0 col5\" >IsActiveMember</th>        <th class=\"col_heading level0 col6\" >EstimatedSalary</th>        <th class=\"col_heading level0 col7\" >Geography_Germany</th>        <th class=\"col_heading level0 col8\" >Geography_France</th>        <th class=\"col_heading level0 col9\" >Gender_Female</th>        <th class=\"col_heading level0 col10\" >NumOfProducts_1</th>        <th class=\"col_heading level0 col11\" >NumOfProducts_4</th>        <th class=\"col_heading level0 col12\" >NumOfProducts_3</th>        <th class=\"col_heading level0 col13\" >Exited</th>    </tr></thead><tbody>\n",
       "                <tr>\n",
       "                        <th id=\"T_4e22d028_1cca_11ea_8857_dc4a3eac4345level0_row0\" class=\"row_heading level0 row0\" >CreditScore</th>\n",
       "                        <td id=\"T_4e22d028_1cca_11ea_8857_dc4a3eac4345row0_col0\" class=\"data row0 col0\" >1</td>\n",
       "                        <td id=\"T_4e22d028_1cca_11ea_8857_dc4a3eac4345row0_col1\" class=\"data row0 col1\" >-0.00406036</td>\n",
       "                        <td id=\"T_4e22d028_1cca_11ea_8857_dc4a3eac4345row0_col2\" class=\"data row0 col2\" >0.000916799</td>\n",
       "                        <td id=\"T_4e22d028_1cca_11ea_8857_dc4a3eac4345row0_col3\" class=\"data row0 col3\" >0.00654961</td>\n",
       "                        <td id=\"T_4e22d028_1cca_11ea_8857_dc4a3eac4345row0_col4\" class=\"data row0 col4\" >-0.00585786</td>\n",
       "                        <td id=\"T_4e22d028_1cca_11ea_8857_dc4a3eac4345row0_col5\" class=\"data row0 col5\" >0.0266912</td>\n",
       "                        <td id=\"T_4e22d028_1cca_11ea_8857_dc4a3eac4345row0_col6\" class=\"data row0 col6\" >-0.00120802</td>\n",
       "                        <td id=\"T_4e22d028_1cca_11ea_8857_dc4a3eac4345row0_col7\" class=\"data row0 col7\" >0.0048971</td>\n",
       "                        <td id=\"T_4e22d028_1cca_11ea_8857_dc4a3eac4345row0_col8\" class=\"data row0 col8\" >-0.00907755</td>\n",
       "                        <td id=\"T_4e22d028_1cca_11ea_8857_dc4a3eac4345row0_col9\" class=\"data row0 col9\" >0.0026385</td>\n",
       "                        <td id=\"T_4e22d028_1cca_11ea_8857_dc4a3eac4345row0_col10\" class=\"data row0 col10\" >-0.0146635</td>\n",
       "                        <td id=\"T_4e22d028_1cca_11ea_8857_dc4a3eac4345row0_col11\" class=\"data row0 col11\" >0.00245258</td>\n",
       "                        <td id=\"T_4e22d028_1cca_11ea_8857_dc4a3eac4345row0_col12\" class=\"data row0 col12\" >-0.00476923</td>\n",
       "                        <td id=\"T_4e22d028_1cca_11ea_8857_dc4a3eac4345row0_col13\" class=\"data row0 col13\" >-0.0270847</td>\n",
       "            </tr>\n",
       "            <tr>\n",
       "                        <th id=\"T_4e22d028_1cca_11ea_8857_dc4a3eac4345level0_row1\" class=\"row_heading level0 row1\" >Age</th>\n",
       "                        <td id=\"T_4e22d028_1cca_11ea_8857_dc4a3eac4345row1_col0\" class=\"data row1 col0\" >-0.00406036</td>\n",
       "                        <td id=\"T_4e22d028_1cca_11ea_8857_dc4a3eac4345row1_col1\" class=\"data row1 col1\" >1</td>\n",
       "                        <td id=\"T_4e22d028_1cca_11ea_8857_dc4a3eac4345row1_col2\" class=\"data row1 col2\" >-0.00956183</td>\n",
       "                        <td id=\"T_4e22d028_1cca_11ea_8857_dc4a3eac4345row1_col3\" class=\"data row1 col3\" >0.0282164</td>\n",
       "                        <td id=\"T_4e22d028_1cca_11ea_8857_dc4a3eac4345row1_col4\" class=\"data row1 col4\" >-0.0119417</td>\n",
       "                        <td id=\"T_4e22d028_1cca_11ea_8857_dc4a3eac4345row1_col5\" class=\"data row1 col5\" >0.0854115</td>\n",
       "                        <td id=\"T_4e22d028_1cca_11ea_8857_dc4a3eac4345row1_col6\" class=\"data row1 col6\" >-0.00805553</td>\n",
       "                        <td id=\"T_4e22d028_1cca_11ea_8857_dc4a3eac4345row1_col7\" class=\"data row1 col7\" >0.0468066</td>\n",
       "                        <td id=\"T_4e22d028_1cca_11ea_8857_dc4a3eac4345row1_col8\" class=\"data row1 col8\" >-0.0391663</td>\n",
       "                        <td id=\"T_4e22d028_1cca_11ea_8857_dc4a3eac4345row1_col9\" class=\"data row1 col9\" >0.0273788</td>\n",
       "                        <td id=\"T_4e22d028_1cca_11ea_8857_dc4a3eac4345row1_col10\" class=\"data row1 col10\" >0.0730471</td>\n",
       "                        <td id=\"T_4e22d028_1cca_11ea_8857_dc4a3eac4345row1_col11\" class=\"data row1 col11\" >0.0501181</td>\n",
       "                        <td id=\"T_4e22d028_1cca_11ea_8857_dc4a3eac4345row1_col12\" class=\"data row1 col12\" >0.0671801</td>\n",
       "                        <td id=\"T_4e22d028_1cca_11ea_8857_dc4a3eac4345row1_col13\" class=\"data row1 col13\" >0.285115</td>\n",
       "            </tr>\n",
       "            <tr>\n",
       "                        <th id=\"T_4e22d028_1cca_11ea_8857_dc4a3eac4345level0_row2\" class=\"row_heading level0 row2\" >Tenure</th>\n",
       "                        <td id=\"T_4e22d028_1cca_11ea_8857_dc4a3eac4345row2_col0\" class=\"data row2 col0\" >0.000916799</td>\n",
       "                        <td id=\"T_4e22d028_1cca_11ea_8857_dc4a3eac4345row2_col1\" class=\"data row2 col1\" >-0.00956183</td>\n",
       "                        <td id=\"T_4e22d028_1cca_11ea_8857_dc4a3eac4345row2_col2\" class=\"data row2 col2\" >1</td>\n",
       "                        <td id=\"T_4e22d028_1cca_11ea_8857_dc4a3eac4345row2_col3\" class=\"data row2 col3\" >-0.0122041</td>\n",
       "                        <td id=\"T_4e22d028_1cca_11ea_8857_dc4a3eac4345row2_col4\" class=\"data row2 col4\" >0.0223277</td>\n",
       "                        <td id=\"T_4e22d028_1cca_11ea_8857_dc4a3eac4345row2_col5\" class=\"data row2 col5\" >-0.0283336</td>\n",
       "                        <td id=\"T_4e22d028_1cca_11ea_8857_dc4a3eac4345row2_col6\" class=\"data row2 col6\" >0.00778269</td>\n",
       "                        <td id=\"T_4e22d028_1cca_11ea_8857_dc4a3eac4345row2_col7\" class=\"data row2 col7\" >-0.00118804</td>\n",
       "                        <td id=\"T_4e22d028_1cca_11ea_8857_dc4a3eac4345row2_col8\" class=\"data row2 col8\" >-0.00274256</td>\n",
       "                        <td id=\"T_4e22d028_1cca_11ea_8857_dc4a3eac4345row2_col9\" class=\"data row2 col9\" >-0.0147186</td>\n",
       "                        <td id=\"T_4e22d028_1cca_11ea_8857_dc4a3eac4345row2_col10\" class=\"data row2 col10\" >-0.0129058</td>\n",
       "                        <td id=\"T_4e22d028_1cca_11ea_8857_dc4a3eac4345row2_col11\" class=\"data row2 col11\" >0.00773091</td>\n",
       "                        <td id=\"T_4e22d028_1cca_11ea_8857_dc4a3eac4345row2_col12\" class=\"data row2 col12\" >-0.00156324</td>\n",
       "                        <td id=\"T_4e22d028_1cca_11ea_8857_dc4a3eac4345row2_col13\" class=\"data row2 col13\" >-0.0135747</td>\n",
       "            </tr>\n",
       "            <tr>\n",
       "                        <th id=\"T_4e22d028_1cca_11ea_8857_dc4a3eac4345level0_row3\" class=\"row_heading level0 row3\" >Balance</th>\n",
       "                        <td id=\"T_4e22d028_1cca_11ea_8857_dc4a3eac4345row3_col0\" class=\"data row3 col0\" >0.00654961</td>\n",
       "                        <td id=\"T_4e22d028_1cca_11ea_8857_dc4a3eac4345row3_col1\" class=\"data row3 col1\" >0.0282164</td>\n",
       "                        <td id=\"T_4e22d028_1cca_11ea_8857_dc4a3eac4345row3_col2\" class=\"data row3 col2\" >-0.0122041</td>\n",
       "                        <td id=\"T_4e22d028_1cca_11ea_8857_dc4a3eac4345row3_col3\" class=\"data row3 col3\" >1</td>\n",
       "                        <td id=\"T_4e22d028_1cca_11ea_8857_dc4a3eac4345row3_col4\" class=\"data row3 col4\" >-0.0145343</td>\n",
       "                        <td id=\"T_4e22d028_1cca_11ea_8857_dc4a3eac4345row3_col5\" class=\"data row3 col5\" >-0.00953465</td>\n",
       "                        <td id=\"T_4e22d028_1cca_11ea_8857_dc4a3eac4345row3_col6\" class=\"data row3 col6\" >0.012645</td>\n",
       "                        <td id=\"T_4e22d028_1cca_11ea_8857_dc4a3eac4345row3_col7\" class=\"data row3 col7\" >0.401498</td>\n",
       "                        <td id=\"T_4e22d028_1cca_11ea_8857_dc4a3eac4345row3_col8\" class=\"data row3 col8\" >-0.231197</td>\n",
       "                        <td id=\"T_4e22d028_1cca_11ea_8857_dc4a3eac4345row3_col9\" class=\"data row3 col9\" >-0.0120634</td>\n",
       "                        <td id=\"T_4e22d028_1cca_11ea_8857_dc4a3eac4345row3_col10\" class=\"data row3 col10\" >0.359684</td>\n",
       "                        <td id=\"T_4e22d028_1cca_11ea_8857_dc4a3eac4345row3_col11\" class=\"data row3 col11\" >0.0214855</td>\n",
       "                        <td id=\"T_4e22d028_1cca_11ea_8857_dc4a3eac4345row3_col12\" class=\"data row3 col12\" >-0.00311729</td>\n",
       "                        <td id=\"T_4e22d028_1cca_11ea_8857_dc4a3eac4345row3_col13\" class=\"data row3 col13\" >0.118645</td>\n",
       "            </tr>\n",
       "            <tr>\n",
       "                        <th id=\"T_4e22d028_1cca_11ea_8857_dc4a3eac4345level0_row4\" class=\"row_heading level0 row4\" >HasCrCard</th>\n",
       "                        <td id=\"T_4e22d028_1cca_11ea_8857_dc4a3eac4345row4_col0\" class=\"data row4 col0\" >-0.00585786</td>\n",
       "                        <td id=\"T_4e22d028_1cca_11ea_8857_dc4a3eac4345row4_col1\" class=\"data row4 col1\" >-0.0119417</td>\n",
       "                        <td id=\"T_4e22d028_1cca_11ea_8857_dc4a3eac4345row4_col2\" class=\"data row4 col2\" >0.0223277</td>\n",
       "                        <td id=\"T_4e22d028_1cca_11ea_8857_dc4a3eac4345row4_col3\" class=\"data row4 col3\" >-0.0145343</td>\n",
       "                        <td id=\"T_4e22d028_1cca_11ea_8857_dc4a3eac4345row4_col4\" class=\"data row4 col4\" >1</td>\n",
       "                        <td id=\"T_4e22d028_1cca_11ea_8857_dc4a3eac4345row4_col5\" class=\"data row4 col5\" >-0.0122428</td>\n",
       "                        <td id=\"T_4e22d028_1cca_11ea_8857_dc4a3eac4345row4_col6\" class=\"data row4 col6\" >-0.00986156</td>\n",
       "                        <td id=\"T_4e22d028_1cca_11ea_8857_dc4a3eac4345row4_col7\" class=\"data row4 col7\" >0.0112732</td>\n",
       "                        <td id=\"T_4e22d028_1cca_11ea_8857_dc4a3eac4345row4_col8\" class=\"data row4 col8\" >0.00176931</td>\n",
       "                        <td id=\"T_4e22d028_1cca_11ea_8857_dc4a3eac4345row4_col9\" class=\"data row4 col9\" >-0.00515649</td>\n",
       "                        <td id=\"T_4e22d028_1cca_11ea_8857_dc4a3eac4345row4_col10\" class=\"data row4 col10\" >-0.00372404</td>\n",
       "                        <td id=\"T_4e22d028_1cca_11ea_8857_dc4a3eac4345row4_col11\" class=\"data row4 col11\" >-0.0038131</td>\n",
       "                        <td id=\"T_4e22d028_1cca_11ea_8857_dc4a3eac4345row4_col12\" class=\"data row4 col12\" >0.00271799</td>\n",
       "                        <td id=\"T_4e22d028_1cca_11ea_8857_dc4a3eac4345row4_col13\" class=\"data row4 col13\" >-0.006433</td>\n",
       "            </tr>\n",
       "            <tr>\n",
       "                        <th id=\"T_4e22d028_1cca_11ea_8857_dc4a3eac4345level0_row5\" class=\"row_heading level0 row5\" >IsActiveMember</th>\n",
       "                        <td id=\"T_4e22d028_1cca_11ea_8857_dc4a3eac4345row5_col0\" class=\"data row5 col0\" >0.0266912</td>\n",
       "                        <td id=\"T_4e22d028_1cca_11ea_8857_dc4a3eac4345row5_col1\" class=\"data row5 col1\" >0.0854115</td>\n",
       "                        <td id=\"T_4e22d028_1cca_11ea_8857_dc4a3eac4345row5_col2\" class=\"data row5 col2\" >-0.0283336</td>\n",
       "                        <td id=\"T_4e22d028_1cca_11ea_8857_dc4a3eac4345row5_col3\" class=\"data row5 col3\" >-0.00953465</td>\n",
       "                        <td id=\"T_4e22d028_1cca_11ea_8857_dc4a3eac4345row5_col4\" class=\"data row5 col4\" >-0.0122428</td>\n",
       "                        <td id=\"T_4e22d028_1cca_11ea_8857_dc4a3eac4345row5_col5\" class=\"data row5 col5\" >1</td>\n",
       "                        <td id=\"T_4e22d028_1cca_11ea_8857_dc4a3eac4345row5_col6\" class=\"data row5 col6\" >-0.0115524</td>\n",
       "                        <td id=\"T_4e22d028_1cca_11ea_8857_dc4a3eac4345row5_col7\" class=\"data row5 col7\" >-0.0202706</td>\n",
       "                        <td id=\"T_4e22d028_1cca_11ea_8857_dc4a3eac4345row5_col8\" class=\"data row5 col8\" >0.00332721</td>\n",
       "                        <td id=\"T_4e22d028_1cca_11ea_8857_dc4a3eac4345row5_col9\" class=\"data row5 col9\" >-0.02308</td>\n",
       "                        <td id=\"T_4e22d028_1cca_11ea_8857_dc4a3eac4345row5_col10\" class=\"data row5 col10\" >-0.0221408</td>\n",
       "                        <td id=\"T_4e22d028_1cca_11ea_8857_dc4a3eac4345row5_col11\" class=\"data row5 col11\" >-0.00500066</td>\n",
       "                        <td id=\"T_4e22d028_1cca_11ea_8857_dc4a3eac4345row5_col12\" class=\"data row5 col12\" >-0.030656</td>\n",
       "                        <td id=\"T_4e22d028_1cca_11ea_8857_dc4a3eac4345row5_col13\" class=\"data row5 col13\" >-0.156309</td>\n",
       "            </tr>\n",
       "            <tr>\n",
       "                        <th id=\"T_4e22d028_1cca_11ea_8857_dc4a3eac4345level0_row6\" class=\"row_heading level0 row6\" >EstimatedSalary</th>\n",
       "                        <td id=\"T_4e22d028_1cca_11ea_8857_dc4a3eac4345row6_col0\" class=\"data row6 col0\" >-0.00120802</td>\n",
       "                        <td id=\"T_4e22d028_1cca_11ea_8857_dc4a3eac4345row6_col1\" class=\"data row6 col1\" >-0.00805553</td>\n",
       "                        <td id=\"T_4e22d028_1cca_11ea_8857_dc4a3eac4345row6_col2\" class=\"data row6 col2\" >0.00778269</td>\n",
       "                        <td id=\"T_4e22d028_1cca_11ea_8857_dc4a3eac4345row6_col3\" class=\"data row6 col3\" >0.012645</td>\n",
       "                        <td id=\"T_4e22d028_1cca_11ea_8857_dc4a3eac4345row6_col4\" class=\"data row6 col4\" >-0.00986156</td>\n",
       "                        <td id=\"T_4e22d028_1cca_11ea_8857_dc4a3eac4345row6_col5\" class=\"data row6 col5\" >-0.0115524</td>\n",
       "                        <td id=\"T_4e22d028_1cca_11ea_8857_dc4a3eac4345row6_col6\" class=\"data row6 col6\" >1</td>\n",
       "                        <td id=\"T_4e22d028_1cca_11ea_8857_dc4a3eac4345row6_col7\" class=\"data row6 col7\" >0.0103944</td>\n",
       "                        <td id=\"T_4e22d028_1cca_11ea_8857_dc4a3eac4345row6_col8\" class=\"data row6 col8\" >-0.00341328</td>\n",
       "                        <td id=\"T_4e22d028_1cca_11ea_8857_dc4a3eac4345row6_col9\" class=\"data row6 col9\" >0.00821564</td>\n",
       "                        <td id=\"T_4e22d028_1cca_11ea_8857_dc4a3eac4345row6_col10\" class=\"data row6 col10\" >-0.0105707</td>\n",
       "                        <td id=\"T_4e22d028_1cca_11ea_8857_dc4a3eac4345row6_col11\" class=\"data row6 col11\" >0.00631647</td>\n",
       "                        <td id=\"T_4e22d028_1cca_11ea_8857_dc4a3eac4345row6_col12\" class=\"data row6 col12\" >0.0119394</td>\n",
       "                        <td id=\"T_4e22d028_1cca_11ea_8857_dc4a3eac4345row6_col13\" class=\"data row6 col13\" >0.0117731</td>\n",
       "            </tr>\n",
       "            <tr>\n",
       "                        <th id=\"T_4e22d028_1cca_11ea_8857_dc4a3eac4345level0_row7\" class=\"row_heading level0 row7\" >Geography_Germany</th>\n",
       "                        <td id=\"T_4e22d028_1cca_11ea_8857_dc4a3eac4345row7_col0\" class=\"data row7 col0\" >0.0048971</td>\n",
       "                        <td id=\"T_4e22d028_1cca_11ea_8857_dc4a3eac4345row7_col1\" class=\"data row7 col1\" >0.0468066</td>\n",
       "                        <td id=\"T_4e22d028_1cca_11ea_8857_dc4a3eac4345row7_col2\" class=\"data row7 col2\" >-0.00118804</td>\n",
       "                        <td id=\"T_4e22d028_1cca_11ea_8857_dc4a3eac4345row7_col3\" class=\"data row7 col3\" >0.401498</td>\n",
       "                        <td id=\"T_4e22d028_1cca_11ea_8857_dc4a3eac4345row7_col4\" class=\"data row7 col4\" >0.0112732</td>\n",
       "                        <td id=\"T_4e22d028_1cca_11ea_8857_dc4a3eac4345row7_col5\" class=\"data row7 col5\" >-0.0202706</td>\n",
       "                        <td id=\"T_4e22d028_1cca_11ea_8857_dc4a3eac4345row7_col6\" class=\"data row7 col6\" >0.0103944</td>\n",
       "                        <td id=\"T_4e22d028_1cca_11ea_8857_dc4a3eac4345row7_col7\" class=\"data row7 col7\" >1</td>\n",
       "                        <td id=\"T_4e22d028_1cca_11ea_8857_dc4a3eac4345row7_col8\" class=\"data row7 col8\" >-0.58059</td>\n",
       "                        <td id=\"T_4e22d028_1cca_11ea_8857_dc4a3eac4345row7_col9\" class=\"data row7 col9\" >0.0247963</td>\n",
       "                        <td id=\"T_4e22d028_1cca_11ea_8857_dc4a3eac4345row7_col10\" class=\"data row7 col10\" >0.0348897</td>\n",
       "                        <td id=\"T_4e22d028_1cca_11ea_8857_dc4a3eac4345row7_col11\" class=\"data row7 col11\" >0.0266559</td>\n",
       "                        <td id=\"T_4e22d028_1cca_11ea_8857_dc4a3eac4345row7_col12\" class=\"data row7 col12\" >0.0408154</td>\n",
       "                        <td id=\"T_4e22d028_1cca_11ea_8857_dc4a3eac4345row7_col13\" class=\"data row7 col13\" >0.173245</td>\n",
       "            </tr>\n",
       "            <tr>\n",
       "                        <th id=\"T_4e22d028_1cca_11ea_8857_dc4a3eac4345level0_row8\" class=\"row_heading level0 row8\" >Geography_France</th>\n",
       "                        <td id=\"T_4e22d028_1cca_11ea_8857_dc4a3eac4345row8_col0\" class=\"data row8 col0\" >-0.00907755</td>\n",
       "                        <td id=\"T_4e22d028_1cca_11ea_8857_dc4a3eac4345row8_col1\" class=\"data row8 col1\" >-0.0391663</td>\n",
       "                        <td id=\"T_4e22d028_1cca_11ea_8857_dc4a3eac4345row8_col2\" class=\"data row8 col2\" >-0.00274256</td>\n",
       "                        <td id=\"T_4e22d028_1cca_11ea_8857_dc4a3eac4345row8_col3\" class=\"data row8 col3\" >-0.231197</td>\n",
       "                        <td id=\"T_4e22d028_1cca_11ea_8857_dc4a3eac4345row8_col4\" class=\"data row8 col4\" >0.00176931</td>\n",
       "                        <td id=\"T_4e22d028_1cca_11ea_8857_dc4a3eac4345row8_col5\" class=\"data row8 col5\" >0.00332721</td>\n",
       "                        <td id=\"T_4e22d028_1cca_11ea_8857_dc4a3eac4345row8_col6\" class=\"data row8 col6\" >-0.00341328</td>\n",
       "                        <td id=\"T_4e22d028_1cca_11ea_8857_dc4a3eac4345row8_col7\" class=\"data row8 col7\" >-0.58059</td>\n",
       "                        <td id=\"T_4e22d028_1cca_11ea_8857_dc4a3eac4345row8_col8\" class=\"data row8 col8\" >1</td>\n",
       "                        <td id=\"T_4e22d028_1cca_11ea_8857_dc4a3eac4345row8_col9\" class=\"data row8 col9\" >-0.00701036</td>\n",
       "                        <td id=\"T_4e22d028_1cca_11ea_8857_dc4a3eac4345row8_col10\" class=\"data row8 col10\" >-0.0142429</td>\n",
       "                        <td id=\"T_4e22d028_1cca_11ea_8857_dc4a3eac4345row8_col11\" class=\"data row8 col11\" >-0.00277624</td>\n",
       "                        <td id=\"T_4e22d028_1cca_11ea_8857_dc4a3eac4345row8_col12\" class=\"data row8 col12\" >-0.0358843</td>\n",
       "                        <td id=\"T_4e22d028_1cca_11ea_8857_dc4a3eac4345row8_col13\" class=\"data row8 col13\" >-0.10502</td>\n",
       "            </tr>\n",
       "            <tr>\n",
       "                        <th id=\"T_4e22d028_1cca_11ea_8857_dc4a3eac4345level0_row9\" class=\"row_heading level0 row9\" >Gender_Female</th>\n",
       "                        <td id=\"T_4e22d028_1cca_11ea_8857_dc4a3eac4345row9_col0\" class=\"data row9 col0\" >0.0026385</td>\n",
       "                        <td id=\"T_4e22d028_1cca_11ea_8857_dc4a3eac4345row9_col1\" class=\"data row9 col1\" >0.0273788</td>\n",
       "                        <td id=\"T_4e22d028_1cca_11ea_8857_dc4a3eac4345row9_col2\" class=\"data row9 col2\" >-0.0147186</td>\n",
       "                        <td id=\"T_4e22d028_1cca_11ea_8857_dc4a3eac4345row9_col3\" class=\"data row9 col3\" >-0.0120634</td>\n",
       "                        <td id=\"T_4e22d028_1cca_11ea_8857_dc4a3eac4345row9_col4\" class=\"data row9 col4\" >-0.00515649</td>\n",
       "                        <td id=\"T_4e22d028_1cca_11ea_8857_dc4a3eac4345row9_col5\" class=\"data row9 col5\" >-0.02308</td>\n",
       "                        <td id=\"T_4e22d028_1cca_11ea_8857_dc4a3eac4345row9_col6\" class=\"data row9 col6\" >0.00821564</td>\n",
       "                        <td id=\"T_4e22d028_1cca_11ea_8857_dc4a3eac4345row9_col7\" class=\"data row9 col7\" >0.0247963</td>\n",
       "                        <td id=\"T_4e22d028_1cca_11ea_8857_dc4a3eac4345row9_col8\" class=\"data row9 col8\" >-0.00701036</td>\n",
       "                        <td id=\"T_4e22d028_1cca_11ea_8857_dc4a3eac4345row9_col9\" class=\"data row9 col9\" >1</td>\n",
       "                        <td id=\"T_4e22d028_1cca_11ea_8857_dc4a3eac4345row9_col10\" class=\"data row9 col10\" >-0.0054732</td>\n",
       "                        <td id=\"T_4e22d028_1cca_11ea_8857_dc4a3eac4345row9_col11\" class=\"data row9 col11\" >0.0279201</td>\n",
       "                        <td id=\"T_4e22d028_1cca_11ea_8857_dc4a3eac4345row9_col12\" class=\"data row9 col12\" >0.0357417</td>\n",
       "                        <td id=\"T_4e22d028_1cca_11ea_8857_dc4a3eac4345row9_col13\" class=\"data row9 col13\" >0.106655</td>\n",
       "            </tr>\n",
       "            <tr>\n",
       "                        <th id=\"T_4e22d028_1cca_11ea_8857_dc4a3eac4345level0_row10\" class=\"row_heading level0 row10\" >NumOfProducts_1</th>\n",
       "                        <td id=\"T_4e22d028_1cca_11ea_8857_dc4a3eac4345row10_col0\" class=\"data row10 col0\" >-0.0146635</td>\n",
       "                        <td id=\"T_4e22d028_1cca_11ea_8857_dc4a3eac4345row10_col1\" class=\"data row10 col1\" >0.0730471</td>\n",
       "                        <td id=\"T_4e22d028_1cca_11ea_8857_dc4a3eac4345row10_col2\" class=\"data row10 col2\" >-0.0129058</td>\n",
       "                        <td id=\"T_4e22d028_1cca_11ea_8857_dc4a3eac4345row10_col3\" class=\"data row10 col3\" >0.359684</td>\n",
       "                        <td id=\"T_4e22d028_1cca_11ea_8857_dc4a3eac4345row10_col4\" class=\"data row10 col4\" >-0.00372404</td>\n",
       "                        <td id=\"T_4e22d028_1cca_11ea_8857_dc4a3eac4345row10_col5\" class=\"data row10 col5\" >-0.0221408</td>\n",
       "                        <td id=\"T_4e22d028_1cca_11ea_8857_dc4a3eac4345row10_col6\" class=\"data row10 col6\" >-0.0105707</td>\n",
       "                        <td id=\"T_4e22d028_1cca_11ea_8857_dc4a3eac4345row10_col7\" class=\"data row10 col7\" >0.0348897</td>\n",
       "                        <td id=\"T_4e22d028_1cca_11ea_8857_dc4a3eac4345row10_col8\" class=\"data row10 col8\" >-0.0142429</td>\n",
       "                        <td id=\"T_4e22d028_1cca_11ea_8857_dc4a3eac4345row10_col9\" class=\"data row10 col9\" >-0.0054732</td>\n",
       "                        <td id=\"T_4e22d028_1cca_11ea_8857_dc4a3eac4345row10_col10\" class=\"data row10 col10\" >1</td>\n",
       "                        <td id=\"T_4e22d028_1cca_11ea_8857_dc4a3eac4345row10_col11\" class=\"data row10 col11\" >-0.0790253</td>\n",
       "                        <td id=\"T_4e22d028_1cca_11ea_8857_dc4a3eac4345row10_col12\" class=\"data row10 col12\" >-0.167818</td>\n",
       "                        <td id=\"T_4e22d028_1cca_11ea_8857_dc4a3eac4345row10_col13\" class=\"data row10 col13\" >0.186129</td>\n",
       "            </tr>\n",
       "            <tr>\n",
       "                        <th id=\"T_4e22d028_1cca_11ea_8857_dc4a3eac4345level0_row11\" class=\"row_heading level0 row11\" >NumOfProducts_4</th>\n",
       "                        <td id=\"T_4e22d028_1cca_11ea_8857_dc4a3eac4345row11_col0\" class=\"data row11 col0\" >0.00245258</td>\n",
       "                        <td id=\"T_4e22d028_1cca_11ea_8857_dc4a3eac4345row11_col1\" class=\"data row11 col1\" >0.0501181</td>\n",
       "                        <td id=\"T_4e22d028_1cca_11ea_8857_dc4a3eac4345row11_col2\" class=\"data row11 col2\" >0.00773091</td>\n",
       "                        <td id=\"T_4e22d028_1cca_11ea_8857_dc4a3eac4345row11_col3\" class=\"data row11 col3\" >0.0214855</td>\n",
       "                        <td id=\"T_4e22d028_1cca_11ea_8857_dc4a3eac4345row11_col4\" class=\"data row11 col4\" >-0.0038131</td>\n",
       "                        <td id=\"T_4e22d028_1cca_11ea_8857_dc4a3eac4345row11_col5\" class=\"data row11 col5\" >-0.00500066</td>\n",
       "                        <td id=\"T_4e22d028_1cca_11ea_8857_dc4a3eac4345row11_col6\" class=\"data row11 col6\" >0.00631647</td>\n",
       "                        <td id=\"T_4e22d028_1cca_11ea_8857_dc4a3eac4345row11_col7\" class=\"data row11 col7\" >0.0266559</td>\n",
       "                        <td id=\"T_4e22d028_1cca_11ea_8857_dc4a3eac4345row11_col8\" class=\"data row11 col8\" >-0.00277624</td>\n",
       "                        <td id=\"T_4e22d028_1cca_11ea_8857_dc4a3eac4345row11_col9\" class=\"data row11 col9\" >0.0279201</td>\n",
       "                        <td id=\"T_4e22d028_1cca_11ea_8857_dc4a3eac4345row11_col10\" class=\"data row11 col10\" >-0.0790253</td>\n",
       "                        <td id=\"T_4e22d028_1cca_11ea_8857_dc4a3eac4345row11_col11\" class=\"data row11 col11\" >1</td>\n",
       "                        <td id=\"T_4e22d028_1cca_11ea_8857_dc4a3eac4345row11_col12\" class=\"data row11 col12\" >-0.0128185</td>\n",
       "                        <td id=\"T_4e22d028_1cca_11ea_8857_dc4a3eac4345row11_col13\" class=\"data row11 col13\" >0.153659</td>\n",
       "            </tr>\n",
       "            <tr>\n",
       "                        <th id=\"T_4e22d028_1cca_11ea_8857_dc4a3eac4345level0_row12\" class=\"row_heading level0 row12\" >NumOfProducts_3</th>\n",
       "                        <td id=\"T_4e22d028_1cca_11ea_8857_dc4a3eac4345row12_col0\" class=\"data row12 col0\" >-0.00476923</td>\n",
       "                        <td id=\"T_4e22d028_1cca_11ea_8857_dc4a3eac4345row12_col1\" class=\"data row12 col1\" >0.0671801</td>\n",
       "                        <td id=\"T_4e22d028_1cca_11ea_8857_dc4a3eac4345row12_col2\" class=\"data row12 col2\" >-0.00156324</td>\n",
       "                        <td id=\"T_4e22d028_1cca_11ea_8857_dc4a3eac4345row12_col3\" class=\"data row12 col3\" >-0.00311729</td>\n",
       "                        <td id=\"T_4e22d028_1cca_11ea_8857_dc4a3eac4345row12_col4\" class=\"data row12 col4\" >0.00271799</td>\n",
       "                        <td id=\"T_4e22d028_1cca_11ea_8857_dc4a3eac4345row12_col5\" class=\"data row12 col5\" >-0.030656</td>\n",
       "                        <td id=\"T_4e22d028_1cca_11ea_8857_dc4a3eac4345row12_col6\" class=\"data row12 col6\" >0.0119394</td>\n",
       "                        <td id=\"T_4e22d028_1cca_11ea_8857_dc4a3eac4345row12_col7\" class=\"data row12 col7\" >0.0408154</td>\n",
       "                        <td id=\"T_4e22d028_1cca_11ea_8857_dc4a3eac4345row12_col8\" class=\"data row12 col8\" >-0.0358843</td>\n",
       "                        <td id=\"T_4e22d028_1cca_11ea_8857_dc4a3eac4345row12_col9\" class=\"data row12 col9\" >0.0357417</td>\n",
       "                        <td id=\"T_4e22d028_1cca_11ea_8857_dc4a3eac4345row12_col10\" class=\"data row12 col10\" >-0.167818</td>\n",
       "                        <td id=\"T_4e22d028_1cca_11ea_8857_dc4a3eac4345row12_col11\" class=\"data row12 col11\" >-0.0128185</td>\n",
       "                        <td id=\"T_4e22d028_1cca_11ea_8857_dc4a3eac4345row12_col12\" class=\"data row12 col12\" >1</td>\n",
       "                        <td id=\"T_4e22d028_1cca_11ea_8857_dc4a3eac4345row12_col13\" class=\"data row12 col13\" >0.253641</td>\n",
       "            </tr>\n",
       "            <tr>\n",
       "                        <th id=\"T_4e22d028_1cca_11ea_8857_dc4a3eac4345level0_row13\" class=\"row_heading level0 row13\" >Exited</th>\n",
       "                        <td id=\"T_4e22d028_1cca_11ea_8857_dc4a3eac4345row13_col0\" class=\"data row13 col0\" >-0.0270847</td>\n",
       "                        <td id=\"T_4e22d028_1cca_11ea_8857_dc4a3eac4345row13_col1\" class=\"data row13 col1\" >0.285115</td>\n",
       "                        <td id=\"T_4e22d028_1cca_11ea_8857_dc4a3eac4345row13_col2\" class=\"data row13 col2\" >-0.0135747</td>\n",
       "                        <td id=\"T_4e22d028_1cca_11ea_8857_dc4a3eac4345row13_col3\" class=\"data row13 col3\" >0.118645</td>\n",
       "                        <td id=\"T_4e22d028_1cca_11ea_8857_dc4a3eac4345row13_col4\" class=\"data row13 col4\" >-0.006433</td>\n",
       "                        <td id=\"T_4e22d028_1cca_11ea_8857_dc4a3eac4345row13_col5\" class=\"data row13 col5\" >-0.156309</td>\n",
       "                        <td id=\"T_4e22d028_1cca_11ea_8857_dc4a3eac4345row13_col6\" class=\"data row13 col6\" >0.0117731</td>\n",
       "                        <td id=\"T_4e22d028_1cca_11ea_8857_dc4a3eac4345row13_col7\" class=\"data row13 col7\" >0.173245</td>\n",
       "                        <td id=\"T_4e22d028_1cca_11ea_8857_dc4a3eac4345row13_col8\" class=\"data row13 col8\" >-0.10502</td>\n",
       "                        <td id=\"T_4e22d028_1cca_11ea_8857_dc4a3eac4345row13_col9\" class=\"data row13 col9\" >0.106655</td>\n",
       "                        <td id=\"T_4e22d028_1cca_11ea_8857_dc4a3eac4345row13_col10\" class=\"data row13 col10\" >0.186129</td>\n",
       "                        <td id=\"T_4e22d028_1cca_11ea_8857_dc4a3eac4345row13_col11\" class=\"data row13 col11\" >0.153659</td>\n",
       "                        <td id=\"T_4e22d028_1cca_11ea_8857_dc4a3eac4345row13_col12\" class=\"data row13 col12\" >0.253641</td>\n",
       "                        <td id=\"T_4e22d028_1cca_11ea_8857_dc4a3eac4345row13_col13\" class=\"data row13 col13\" >1</td>\n",
       "            </tr>\n",
       "    </tbody></table>"
      ],
      "text/plain": [
       "<pandas.io.formats.style.Styler at 0x23e0144cb00>"
      ]
     },
     "execution_count": 14,
     "metadata": {},
     "output_type": "execute_result"
    }
   ],
   "source": [
    "# Correlation Matrix\n",
    "corr = df.corr()\n",
    "corr.style.background_gradient()"
   ]
  },
  {
   "cell_type": "code",
   "execution_count": 15,
   "metadata": {},
   "outputs": [],
   "source": [
    "# Converting all Balances more than 0 to 1\n",
    "df['Balance'] = df['Balance'].clip(upper=1)"
   ]
  },
  {
   "cell_type": "code",
   "execution_count": 16,
   "metadata": {},
   "outputs": [
    {
     "data": {
      "text/html": [
       "<div>\n",
       "<style scoped>\n",
       "    .dataframe tbody tr th:only-of-type {\n",
       "        vertical-align: middle;\n",
       "    }\n",
       "\n",
       "    .dataframe tbody tr th {\n",
       "        vertical-align: top;\n",
       "    }\n",
       "\n",
       "    .dataframe thead th {\n",
       "        text-align: right;\n",
       "    }\n",
       "</style>\n",
       "<table border=\"1\" class=\"dataframe\">\n",
       "  <thead>\n",
       "    <tr style=\"text-align: right;\">\n",
       "      <th></th>\n",
       "      <th>CreditScore</th>\n",
       "      <th>Age</th>\n",
       "      <th>Balance</th>\n",
       "      <th>IsActiveMember</th>\n",
       "      <th>Geography_Germany</th>\n",
       "      <th>Geography_France</th>\n",
       "      <th>Gender_Female</th>\n",
       "      <th>NumOfProducts_1</th>\n",
       "      <th>NumOfProducts_4</th>\n",
       "      <th>NumOfProducts_3</th>\n",
       "      <th>Exited</th>\n",
       "    </tr>\n",
       "  </thead>\n",
       "  <tbody>\n",
       "    <tr>\n",
       "      <th>0</th>\n",
       "      <td>619.0</td>\n",
       "      <td>42.0</td>\n",
       "      <td>0.0</td>\n",
       "      <td>1.0</td>\n",
       "      <td>0</td>\n",
       "      <td>1</td>\n",
       "      <td>1</td>\n",
       "      <td>1</td>\n",
       "      <td>0</td>\n",
       "      <td>0</td>\n",
       "      <td>1.0</td>\n",
       "    </tr>\n",
       "    <tr>\n",
       "      <th>1</th>\n",
       "      <td>608.0</td>\n",
       "      <td>41.0</td>\n",
       "      <td>1.0</td>\n",
       "      <td>1.0</td>\n",
       "      <td>0</td>\n",
       "      <td>0</td>\n",
       "      <td>1</td>\n",
       "      <td>1</td>\n",
       "      <td>0</td>\n",
       "      <td>0</td>\n",
       "      <td>0.0</td>\n",
       "    </tr>\n",
       "    <tr>\n",
       "      <th>2</th>\n",
       "      <td>502.0</td>\n",
       "      <td>42.0</td>\n",
       "      <td>1.0</td>\n",
       "      <td>0.0</td>\n",
       "      <td>0</td>\n",
       "      <td>1</td>\n",
       "      <td>1</td>\n",
       "      <td>0</td>\n",
       "      <td>0</td>\n",
       "      <td>1</td>\n",
       "      <td>1.0</td>\n",
       "    </tr>\n",
       "    <tr>\n",
       "      <th>3</th>\n",
       "      <td>699.0</td>\n",
       "      <td>39.0</td>\n",
       "      <td>0.0</td>\n",
       "      <td>0.0</td>\n",
       "      <td>0</td>\n",
       "      <td>1</td>\n",
       "      <td>1</td>\n",
       "      <td>0</td>\n",
       "      <td>0</td>\n",
       "      <td>0</td>\n",
       "      <td>0.0</td>\n",
       "    </tr>\n",
       "    <tr>\n",
       "      <th>4</th>\n",
       "      <td>850.0</td>\n",
       "      <td>43.0</td>\n",
       "      <td>1.0</td>\n",
       "      <td>1.0</td>\n",
       "      <td>0</td>\n",
       "      <td>0</td>\n",
       "      <td>1</td>\n",
       "      <td>1</td>\n",
       "      <td>0</td>\n",
       "      <td>0</td>\n",
       "      <td>0.0</td>\n",
       "    </tr>\n",
       "  </tbody>\n",
       "</table>\n",
       "</div>"
      ],
      "text/plain": [
       "   CreditScore   Age  Balance  IsActiveMember  Geography_Germany  \\\n",
       "0        619.0  42.0      0.0             1.0                  0   \n",
       "1        608.0  41.0      1.0             1.0                  0   \n",
       "2        502.0  42.0      1.0             0.0                  0   \n",
       "3        699.0  39.0      0.0             0.0                  0   \n",
       "4        850.0  43.0      1.0             1.0                  0   \n",
       "\n",
       "   Geography_France  Gender_Female  NumOfProducts_1  NumOfProducts_4  \\\n",
       "0                 1              1                1                0   \n",
       "1                 0              1                1                0   \n",
       "2                 1              1                0                0   \n",
       "3                 1              1                0                0   \n",
       "4                 0              1                1                0   \n",
       "\n",
       "   NumOfProducts_3  Exited  \n",
       "0                0     1.0  \n",
       "1                0     0.0  \n",
       "2                1     1.0  \n",
       "3                0     0.0  \n",
       "4                0     0.0  "
      ]
     },
     "execution_count": 16,
     "metadata": {},
     "output_type": "execute_result"
    }
   ],
   "source": [
    "# Dropping insignificant features as decided during previous excercises.\n",
    "# Age p-value = 0.0\n",
    "# Credit Score p-value = 0.0085\n",
    "# Balance p-value = 0.0\n",
    "# Estimated Salary p-value = 0.1222\n",
    "df.drop('EstimatedSalary', axis=1, inplace=True)\n",
    "df.drop('HasCrCard', axis=1, inplace=True)\n",
    "#df.drop('NumOfProducts', axis=1, inplace=True)\n",
    "df.drop('Tenure', axis=1, inplace=True)\n",
    "df.head()"
   ]
  },
  {
   "cell_type": "code",
   "execution_count": 17,
   "metadata": {},
   "outputs": [],
   "source": [
    "df = df.applymap(np.int64)"
   ]
  },
  {
   "cell_type": "code",
   "execution_count": 18,
   "metadata": {},
   "outputs": [
    {
     "data": {
      "text/html": [
       "<div>\n",
       "<style scoped>\n",
       "    .dataframe tbody tr th:only-of-type {\n",
       "        vertical-align: middle;\n",
       "    }\n",
       "\n",
       "    .dataframe tbody tr th {\n",
       "        vertical-align: top;\n",
       "    }\n",
       "\n",
       "    .dataframe thead th {\n",
       "        text-align: right;\n",
       "    }\n",
       "</style>\n",
       "<table border=\"1\" class=\"dataframe\">\n",
       "  <thead>\n",
       "    <tr style=\"text-align: right;\">\n",
       "      <th></th>\n",
       "      <th>CreditScore</th>\n",
       "      <th>Age</th>\n",
       "      <th>Balance</th>\n",
       "      <th>IsActiveMember</th>\n",
       "      <th>Geography_Germany</th>\n",
       "      <th>Geography_France</th>\n",
       "      <th>Gender_Female</th>\n",
       "      <th>NumOfProducts_1</th>\n",
       "      <th>NumOfProducts_4</th>\n",
       "      <th>NumOfProducts_3</th>\n",
       "      <th>Exited</th>\n",
       "    </tr>\n",
       "  </thead>\n",
       "  <tbody>\n",
       "    <tr>\n",
       "      <th>0</th>\n",
       "      <td>619</td>\n",
       "      <td>42</td>\n",
       "      <td>-1</td>\n",
       "      <td>1</td>\n",
       "      <td>-1</td>\n",
       "      <td>1</td>\n",
       "      <td>1</td>\n",
       "      <td>1</td>\n",
       "      <td>-1</td>\n",
       "      <td>-1</td>\n",
       "      <td>1</td>\n",
       "    </tr>\n",
       "    <tr>\n",
       "      <th>1</th>\n",
       "      <td>608</td>\n",
       "      <td>41</td>\n",
       "      <td>1</td>\n",
       "      <td>1</td>\n",
       "      <td>-1</td>\n",
       "      <td>-1</td>\n",
       "      <td>1</td>\n",
       "      <td>1</td>\n",
       "      <td>-1</td>\n",
       "      <td>-1</td>\n",
       "      <td>-1</td>\n",
       "    </tr>\n",
       "    <tr>\n",
       "      <th>2</th>\n",
       "      <td>502</td>\n",
       "      <td>42</td>\n",
       "      <td>1</td>\n",
       "      <td>-1</td>\n",
       "      <td>-1</td>\n",
       "      <td>1</td>\n",
       "      <td>1</td>\n",
       "      <td>-1</td>\n",
       "      <td>-1</td>\n",
       "      <td>1</td>\n",
       "      <td>1</td>\n",
       "    </tr>\n",
       "    <tr>\n",
       "      <th>3</th>\n",
       "      <td>699</td>\n",
       "      <td>39</td>\n",
       "      <td>-1</td>\n",
       "      <td>-1</td>\n",
       "      <td>-1</td>\n",
       "      <td>1</td>\n",
       "      <td>1</td>\n",
       "      <td>-1</td>\n",
       "      <td>-1</td>\n",
       "      <td>-1</td>\n",
       "      <td>-1</td>\n",
       "    </tr>\n",
       "    <tr>\n",
       "      <th>4</th>\n",
       "      <td>850</td>\n",
       "      <td>43</td>\n",
       "      <td>1</td>\n",
       "      <td>1</td>\n",
       "      <td>-1</td>\n",
       "      <td>-1</td>\n",
       "      <td>1</td>\n",
       "      <td>1</td>\n",
       "      <td>-1</td>\n",
       "      <td>-1</td>\n",
       "      <td>-1</td>\n",
       "    </tr>\n",
       "  </tbody>\n",
       "</table>\n",
       "</div>"
      ],
      "text/plain": [
       "   CreditScore  Age  Balance  IsActiveMember  Geography_Germany  \\\n",
       "0          619   42       -1               1                 -1   \n",
       "1          608   41        1               1                 -1   \n",
       "2          502   42        1              -1                 -1   \n",
       "3          699   39       -1              -1                 -1   \n",
       "4          850   43        1               1                 -1   \n",
       "\n",
       "   Geography_France  Gender_Female  NumOfProducts_1  NumOfProducts_4  \\\n",
       "0                 1              1                1               -1   \n",
       "1                -1              1                1               -1   \n",
       "2                 1              1               -1               -1   \n",
       "3                 1              1               -1               -1   \n",
       "4                -1              1                1               -1   \n",
       "\n",
       "   NumOfProducts_3  Exited  \n",
       "0               -1       1  \n",
       "1               -1      -1  \n",
       "2                1       1  \n",
       "3               -1      -1  \n",
       "4               -1      -1  "
      ]
     },
     "execution_count": 18,
     "metadata": {},
     "output_type": "execute_result"
    }
   ],
   "source": [
    "df.loc[df.Balance == 0, 'Balance'] = -1\n",
    "df.loc[df.IsActiveMember == 0, 'IsActiveMember'] = -1\n",
    "df.loc[df.Geography_Germany == 0, 'Geography_Germany'] = -1\n",
    "df.loc[df.Geography_France == 0, 'Geography_France'] = -1\n",
    "df.loc[df.Gender_Female == 0, 'Gender_Female'] = -1\n",
    "df.loc[df.NumOfProducts_1 == 0, 'NumOfProducts_1'] = -1\n",
    "df.loc[df.NumOfProducts_3 == 0, 'NumOfProducts_3'] = -1\n",
    "df.loc[df.NumOfProducts_4 == 0, 'NumOfProducts_4'] = -1\n",
    "df.loc[df.Exited == 0, 'Exited'] = -1\n",
    "df.head()"
   ]
  },
  {
   "cell_type": "code",
   "execution_count": 19,
   "metadata": {},
   "outputs": [
    {
     "data": {
      "text/html": [
       "<div>\n",
       "<style scoped>\n",
       "    .dataframe tbody tr th:only-of-type {\n",
       "        vertical-align: middle;\n",
       "    }\n",
       "\n",
       "    .dataframe tbody tr th {\n",
       "        vertical-align: top;\n",
       "    }\n",
       "\n",
       "    .dataframe thead th {\n",
       "        text-align: right;\n",
       "    }\n",
       "</style>\n",
       "<table border=\"1\" class=\"dataframe\">\n",
       "  <thead>\n",
       "    <tr style=\"text-align: right;\">\n",
       "      <th></th>\n",
       "      <th>CreditScore</th>\n",
       "      <th>Age</th>\n",
       "      <th>Balance</th>\n",
       "      <th>IsActiveMember</th>\n",
       "      <th>Geography_Germany</th>\n",
       "      <th>Geography_France</th>\n",
       "      <th>Gender_Female</th>\n",
       "      <th>NumOfProducts_1</th>\n",
       "      <th>NumOfProducts_4</th>\n",
       "      <th>NumOfProducts_3</th>\n",
       "      <th>Exited</th>\n",
       "    </tr>\n",
       "  </thead>\n",
       "  <tbody>\n",
       "    <tr>\n",
       "      <th>0</th>\n",
       "      <td>-0.326320</td>\n",
       "      <td>0.293823</td>\n",
       "      <td>-1</td>\n",
       "      <td>1</td>\n",
       "      <td>-1</td>\n",
       "      <td>1</td>\n",
       "      <td>1</td>\n",
       "      <td>1</td>\n",
       "      <td>-1</td>\n",
       "      <td>-1</td>\n",
       "      <td>1</td>\n",
       "    </tr>\n",
       "    <tr>\n",
       "      <th>1</th>\n",
       "      <td>-0.440154</td>\n",
       "      <td>0.198460</td>\n",
       "      <td>1</td>\n",
       "      <td>1</td>\n",
       "      <td>-1</td>\n",
       "      <td>-1</td>\n",
       "      <td>1</td>\n",
       "      <td>1</td>\n",
       "      <td>-1</td>\n",
       "      <td>-1</td>\n",
       "      <td>-1</td>\n",
       "    </tr>\n",
       "    <tr>\n",
       "      <th>2</th>\n",
       "      <td>-1.537099</td>\n",
       "      <td>0.293823</td>\n",
       "      <td>1</td>\n",
       "      <td>-1</td>\n",
       "      <td>-1</td>\n",
       "      <td>1</td>\n",
       "      <td>1</td>\n",
       "      <td>-1</td>\n",
       "      <td>-1</td>\n",
       "      <td>1</td>\n",
       "      <td>1</td>\n",
       "    </tr>\n",
       "    <tr>\n",
       "      <th>3</th>\n",
       "      <td>0.501564</td>\n",
       "      <td>0.007734</td>\n",
       "      <td>-1</td>\n",
       "      <td>-1</td>\n",
       "      <td>-1</td>\n",
       "      <td>1</td>\n",
       "      <td>1</td>\n",
       "      <td>-1</td>\n",
       "      <td>-1</td>\n",
       "      <td>-1</td>\n",
       "      <td>-1</td>\n",
       "    </tr>\n",
       "    <tr>\n",
       "      <th>4</th>\n",
       "      <td>2.064194</td>\n",
       "      <td>0.389186</td>\n",
       "      <td>1</td>\n",
       "      <td>1</td>\n",
       "      <td>-1</td>\n",
       "      <td>-1</td>\n",
       "      <td>1</td>\n",
       "      <td>1</td>\n",
       "      <td>-1</td>\n",
       "      <td>-1</td>\n",
       "      <td>-1</td>\n",
       "    </tr>\n",
       "  </tbody>\n",
       "</table>\n",
       "</div>"
      ],
      "text/plain": [
       "   CreditScore       Age  Balance  IsActiveMember  Geography_Germany  \\\n",
       "0    -0.326320  0.293823       -1               1                 -1   \n",
       "1    -0.440154  0.198460        1               1                 -1   \n",
       "2    -1.537099  0.293823        1              -1                 -1   \n",
       "3     0.501564  0.007734       -1              -1                 -1   \n",
       "4     2.064194  0.389186        1               1                 -1   \n",
       "\n",
       "   Geography_France  Gender_Female  NumOfProducts_1  NumOfProducts_4  \\\n",
       "0                 1              1                1               -1   \n",
       "1                -1              1                1               -1   \n",
       "2                 1              1               -1               -1   \n",
       "3                 1              1               -1               -1   \n",
       "4                -1              1                1               -1   \n",
       "\n",
       "   NumOfProducts_3  Exited  \n",
       "0               -1       1  \n",
       "1               -1      -1  \n",
       "2                1       1  \n",
       "3               -1      -1  \n",
       "4               -1      -1  "
      ]
     },
     "execution_count": 19,
     "metadata": {},
     "output_type": "execute_result"
    }
   ],
   "source": [
    "# Scaling the data\n",
    "from sklearn.preprocessing import scale\n",
    "\n",
    "df['CreditScore'] = scale(df['CreditScore'])\n",
    "df['Age'] = scale(df['Age'])\n",
    "#df['Tenure'] = scale(df['Tenure'])\n",
    "#df['NumOfProducts'] = scale(df['NumOfProducts'])\n",
    "\n",
    "df.head()"
   ]
  },
  {
   "cell_type": "code",
   "execution_count": 20,
   "metadata": {},
   "outputs": [
    {
     "data": {
      "text/plain": [
       "Index(['CreditScore', 'Age', 'Balance', 'IsActiveMember', 'Geography_Germany',\n",
       "       'Geography_France', 'Gender_Female', 'NumOfProducts_1',\n",
       "       'NumOfProducts_4', 'NumOfProducts_3', 'Exited'],\n",
       "      dtype='object')"
      ]
     },
     "execution_count": 20,
     "metadata": {},
     "output_type": "execute_result"
    }
   ],
   "source": [
    "df.columns"
   ]
  },
  {
   "cell_type": "code",
   "execution_count": 21,
   "metadata": {},
   "outputs": [],
   "source": [
    "X = df[['CreditScore', 'Age', 'Balance', 'IsActiveMember', 'Geography_Germany',\n",
    "       'Geography_France', 'Gender_Female', 'NumOfProducts_1',\n",
    "       'NumOfProducts_4', 'NumOfProducts_3']]\n",
    "y = df['Exited']"
   ]
  },
  {
   "cell_type": "code",
   "execution_count": 22,
   "metadata": {
    "scrolled": false
   },
   "outputs": [
    {
     "data": {
      "text/plain": [
       "([<matplotlib.axis.XTick at 0x23e01f8bfd0>,\n",
       "  <matplotlib.axis.XTick at 0x23e01940320>,\n",
       "  <matplotlib.axis.XTick at 0x23e01f8b5c0>,\n",
       "  <matplotlib.axis.XTick at 0x23e02246748>,\n",
       "  <matplotlib.axis.XTick at 0x23e02246c50>,\n",
       "  <matplotlib.axis.XTick at 0x23e02254208>,\n",
       "  <matplotlib.axis.XTick at 0x23e022547f0>,\n",
       "  <matplotlib.axis.XTick at 0x23e02254908>,\n",
       "  <matplotlib.axis.XTick at 0x23e02254e80>,\n",
       "  <matplotlib.axis.XTick at 0x23e0225c438>],\n",
       " <a list of 10 Text xticklabel objects>)"
      ]
     },
     "execution_count": 22,
     "metadata": {},
     "output_type": "execute_result"
    },
    {
     "data": {
      "image/png": "[encoded data removed]",
      "text/plain": [
       "<Figure size 576x360 with 1 Axes>"
      ]
     },
     "metadata": {},
     "output_type": "display_data"
    }
   ],
   "source": [
    "# Using Lasso to know features significance.\n",
    "from sklearn.linear_model import Lasso\n",
    "names = df.columns\n",
    "lasso = Lasso(alpha=0.1)\n",
    "lasso_coef = lasso.fit(X, y).coef_\n",
    "_ = plt.plot(range(len(names)-1), lasso_coef)\n",
    "plt.xticks(range(len(names)-1), names, rotation=60)"
   ]
  },
  {
   "cell_type": "markdown",
   "metadata": {},
   "source": [
    "## Over Sampling"
   ]
  },
  {
   "cell_type": "code",
   "execution_count": 23,
   "metadata": {},
   "outputs": [
    {
     "name": "stderr",
     "output_type": "stream",
     "text": [
      "Using TensorFlow backend.\n"
     ]
    }
   ],
   "source": [
    "from imblearn.over_sampling import SMOTE"
   ]
  },
  {
   "cell_type": "code",
   "execution_count": 24,
   "metadata": {},
   "outputs": [],
   "source": [
    "smote = SMOTE(ratio='minority')\n",
    "X_sm, y_sm = smote.fit_sample(X, y)"
   ]
  },
  {
   "cell_type": "code",
   "execution_count": 25,
   "metadata": {},
   "outputs": [
    {
     "data": {
      "text/plain": [
       "-1    7964\n",
       " 1    7964\n",
       "dtype: int64"
      ]
     },
     "execution_count": 25,
     "metadata": {},
     "output_type": "execute_result"
    }
   ],
   "source": [
    "a = pd.Series(y_sm)\n",
    "a.value_counts()"
   ]
  },
  {
   "cell_type": "code",
   "execution_count": 26,
   "metadata": {},
   "outputs": [],
   "source": [
    "#from imblearn.combine import SMOTETomek\n",
    "\n",
    "#smt = SMOTETomek(ratio='auto')\n",
    "#X_smt, y_smt = smt.fit_sample(X, y)"
   ]
  },
  {
   "cell_type": "markdown",
   "metadata": {},
   "source": [
    "# Applying:"
   ]
  },
  {
   "cell_type": "code",
   "execution_count": 27,
   "metadata": {},
   "outputs": [],
   "source": [
    "# Splitting the data in test data and train data\n",
    "from sklearn.model_selection import train_test_split\n",
    "\n",
    "X_train, X_test, y_train, y_test = train_test_split(X_sm, y_sm, test_size=0.3, random_state=51)"
   ]
  },
  {
   "cell_type": "code",
   "execution_count": 28,
   "metadata": {},
   "outputs": [],
   "source": [
    "from sklearn.metrics import roc_curve\n",
    "from sklearn.linear_model import LogisticRegression\n",
    "from sklearn.metrics import accuracy_score\n",
    "from sklearn.model_selection import GridSearchCV\n",
    "from sklearn.metrics import roc_auc_score\n",
    "from sklearn.metrics import confusion_matrix\n",
    "from sklearn.metrics import classification_report"
   ]
  },
  {
   "cell_type": "code",
   "execution_count": 29,
   "metadata": {},
   "outputs": [],
   "source": [
    "from sklearn.linear_model import LogisticRegression\n",
    "from sklearn.ensemble import RandomForestClassifier\n",
    "from sklearn.neighbors import KNeighborsClassifier\n",
    "from sklearn.svm import SVC\n",
    "from sklearn.naive_bayes import GaussianNB\n",
    "from xgboost import XGBClassifier"
   ]
  },
  {
   "cell_type": "markdown",
   "metadata": {},
   "source": [
    "## Logistic Regression:"
   ]
  },
  {
   "cell_type": "code",
   "execution_count": 30,
   "metadata": {},
   "outputs": [
    {
     "data": {
      "text/plain": [
       "LogisticRegression(C=1.0, class_weight=None, dual=False, fit_intercept=True,\n",
       "                   intercept_scaling=1, l1_ratio=None, max_iter=100,\n",
       "                   multi_class='warn', n_jobs=None, penalty='l2',\n",
       "                   random_state=None, solver='warn', tol=0.0001, verbose=0,\n",
       "                   warm_start=False)"
      ]
     },
     "execution_count": 30,
     "metadata": {},
     "output_type": "execute_result"
    }
   ],
   "source": [
    "# Fitting the data\n",
    "\n",
    "logreg = LogisticRegression(C=1.0, class_weight=None, dual=False, fit_intercept=True,\n",
    "          intercept_scaling=1, max_iter=100, multi_class='warn',\n",
    "          n_jobs=None, penalty='l2', random_state=None, solver='warn',\n",
    "          tol=0.0001, verbose=0, warm_start=False)\n",
    "logreg.fit(X_train,y_train)"
   ]
  },
  {
   "cell_type": "code",
   "execution_count": 31,
   "metadata": {},
   "outputs": [
    {
     "data": {
      "text/plain": [
       "0.7530864197530864"
      ]
     },
     "execution_count": 31,
     "metadata": {},
     "output_type": "execute_result"
    }
   ],
   "source": [
    "y_pred = logreg.predict(X_test)\n",
    "accuracy_score(y_pred, y_test)"
   ]
  },
  {
   "cell_type": "code",
   "execution_count": 32,
   "metadata": {},
   "outputs": [
    {
     "data": {
      "text/plain": [
       "<matplotlib.legend.Legend at 0x23e0a3c1ef0>"
      ]
     },
     "execution_count": 32,
     "metadata": {},
     "output_type": "execute_result"
    },
    {
     "data": {
      "image/png": "[encoded data removed]",
      "text/plain": [
       "<Figure size 576x360 with 1 Axes>"
      ]
     },
     "metadata": {},
     "output_type": "display_data"
    }
   ],
   "source": [
    "y_pred_prob = logreg.predict_proba(X_test)[:,1]\n",
    "fpr, tpr, thresholds = roc_curve(y_test, y_pred_prob)\n",
    "plt.plot([0,1], [0,1], 'k--')\n",
    "plt.plot(fpr, tpr, label='k Nearest Neighbors')\n",
    "plt.legend()"
   ]
  },
  {
   "cell_type": "code",
   "execution_count": 33,
   "metadata": {},
   "outputs": [
    {
     "data": {
      "text/plain": [
       "0.8316440398017968"
      ]
     },
     "execution_count": 33,
     "metadata": {},
     "output_type": "execute_result"
    }
   ],
   "source": [
    "roc_auc_score(y_test, y_pred_prob)"
   ]
  },
  {
   "cell_type": "code",
   "execution_count": 34,
   "metadata": {},
   "outputs": [
    {
     "name": "stdout",
     "output_type": "stream",
     "text": [
      "              precision    recall  f1-score   support\n",
      "\n",
      "          -1       0.75      0.75      0.75      2369\n",
      "           1       0.76      0.75      0.75      2410\n",
      "\n",
      "    accuracy                           0.75      4779\n",
      "   macro avg       0.75      0.75      0.75      4779\n",
      "weighted avg       0.75      0.75      0.75      4779\n",
      "\n"
     ]
    }
   ],
   "source": [
    "print(classification_report(y_test, logreg.predict(X_test)))"
   ]
  },
  {
   "cell_type": "code",
   "execution_count": null,
   "metadata": {},
   "outputs": [],
   "source": []
  },
  {
   "cell_type": "markdown",
   "metadata": {},
   "source": [
    "## kNN:"
   ]
  },
  {
   "cell_type": "code",
   "execution_count": 35,
   "metadata": {},
   "outputs": [
    {
     "data": {
      "text/plain": [
       "0.7951454279137895"
      ]
     },
     "execution_count": 35,
     "metadata": {},
     "output_type": "execute_result"
    }
   ],
   "source": [
    "knn = KNeighborsClassifier(algorithm='auto', leaf_size=30, metric='minkowski',\n",
    "           metric_params=None, n_jobs=None, n_neighbors=17, p=2,\n",
    "           weights='uniform')\n",
    "knn.fit(X_train,y_train)\n",
    "accuracy_score(knn.predict(X_test), y_test)"
   ]
  },
  {
   "cell_type": "code",
   "execution_count": 36,
   "metadata": {},
   "outputs": [
    {
     "data": {
      "text/plain": [
       "<matplotlib.legend.Legend at 0x23e0a4176a0>"
      ]
     },
     "execution_count": 36,
     "metadata": {},
     "output_type": "execute_result"
    },
    {
     "data": {
      "image/png": "[encoded data removed]",
      "text/plain": [
       "<Figure size 576x360 with 1 Axes>"
      ]
     },
     "metadata": {},
     "output_type": "display_data"
    }
   ],
   "source": [
    "y_pred_prob = knn.predict_proba(X_test)[:,1]\n",
    "fpr, tpr, thresholds = roc_curve(y_test, y_pred_prob)\n",
    "plt.plot([0,1], [0,1], 'k--')\n",
    "plt.plot(fpr, tpr, label='k Nearest Neighbors')\n",
    "plt.legend()"
   ]
  },
  {
   "cell_type": "code",
   "execution_count": 37,
   "metadata": {},
   "outputs": [
    {
     "data": {
      "text/plain": [
       "0.8806132636457422"
      ]
     },
     "execution_count": 37,
     "metadata": {},
     "output_type": "execute_result"
    }
   ],
   "source": [
    "roc_auc_score(y_test, y_pred_prob)"
   ]
  },
  {
   "cell_type": "code",
   "execution_count": 38,
   "metadata": {},
   "outputs": [
    {
     "name": "stdout",
     "output_type": "stream",
     "text": [
      "[[1826  543]\n",
      " [ 436 1974]]\n"
     ]
    }
   ],
   "source": [
    "print(confusion_matrix(y_test, knn.predict(X_test)))\n",
    "\n",
    "#Tp#Fp\n",
    "#Fn#Tn"
   ]
  },
  {
   "cell_type": "code",
   "execution_count": 39,
   "metadata": {
    "scrolled": true
   },
   "outputs": [
    {
     "name": "stdout",
     "output_type": "stream",
     "text": [
      "              precision    recall  f1-score   support\n",
      "\n",
      "          -1       0.81      0.77      0.79      2369\n",
      "           1       0.78      0.82      0.80      2410\n",
      "\n",
      "    accuracy                           0.80      4779\n",
      "   macro avg       0.80      0.79      0.79      4779\n",
      "weighted avg       0.80      0.80      0.80      4779\n",
      "\n"
     ]
    }
   ],
   "source": [
    "print(classification_report(y_test, knn.predict(X_test)))"
   ]
  },
  {
   "cell_type": "markdown",
   "metadata": {},
   "source": [
    "## SVM with 'rbf' Kernal:"
   ]
  },
  {
   "cell_type": "code",
   "execution_count": 40,
   "metadata": {},
   "outputs": [
    {
     "data": {
      "text/plain": [
       "SVC(C=100, cache_size=200, class_weight=None, coef0=0.0,\n",
       "    decision_function_shape='ovr', degree=3, gamma=0.01, kernel='rbf',\n",
       "    max_iter=-1, probability=True, random_state=None, shrinking=True, tol=0.001,\n",
       "    verbose=False)"
      ]
     },
     "execution_count": 40,
     "metadata": {},
     "output_type": "execute_result"
    }
   ],
   "source": [
    "svm_rbf = SVC(C=100, cache_size=200, class_weight=None, coef0=0.0,\n",
    "  decision_function_shape='ovr', degree=3, gamma=0.01, kernel='rbf',\n",
    "  max_iter=-1, probability=True, random_state=None, shrinking=True,\n",
    "  tol=0.001, verbose=False)\n",
    "\n",
    "svm_rbf.fit(X_train,y_train)"
   ]
  },
  {
   "cell_type": "code",
   "execution_count": 41,
   "metadata": {},
   "outputs": [
    {
     "data": {
      "text/plain": [
       "0.7748482946223059"
      ]
     },
     "execution_count": 41,
     "metadata": {},
     "output_type": "execute_result"
    }
   ],
   "source": [
    "y_pred = svm_rbf.predict(X_test)\n",
    "accuracy_score(y_pred, y_test)"
   ]
  },
  {
   "cell_type": "code",
   "execution_count": 42,
   "metadata": {},
   "outputs": [
    {
     "data": {
      "text/plain": [
       "<matplotlib.legend.Legend at 0x23e0a4a1828>"
      ]
     },
     "execution_count": 42,
     "metadata": {},
     "output_type": "execute_result"
    },
    {
     "data": {
      "image/png": "[encoded data removed]",
      "text/plain": [
       "<Figure size 576x360 with 1 Axes>"
      ]
     },
     "metadata": {},
     "output_type": "display_data"
    }
   ],
   "source": [
    "y_pred_prob = svm_rbf.predict_proba(X_test)[:,1]\n",
    "fpr, tpr, thresholds = roc_curve(y_test, y_pred_prob)\n",
    "plt.plot([0,1], [0,1], 'k--')\n",
    "plt.plot(fpr, tpr, label='SVM')\n",
    "plt.legend()"
   ]
  },
  {
   "cell_type": "code",
   "execution_count": 43,
   "metadata": {},
   "outputs": [
    {
     "data": {
      "text/plain": [
       "0.8642440653741533"
      ]
     },
     "execution_count": 43,
     "metadata": {},
     "output_type": "execute_result"
    }
   ],
   "source": [
    "roc_auc_score(y_test, y_pred_prob)"
   ]
  },
  {
   "cell_type": "code",
   "execution_count": 44,
   "metadata": {},
   "outputs": [
    {
     "name": "stdout",
     "output_type": "stream",
     "text": [
      "[[1832  537]\n",
      " [ 539 1871]]\n"
     ]
    }
   ],
   "source": [
    "print(confusion_matrix(y_test, svm_rbf.predict(X_test)))\n",
    "\n",
    "#Tp#Fp\n",
    "#Fn#Tn"
   ]
  },
  {
   "cell_type": "code",
   "execution_count": 45,
   "metadata": {},
   "outputs": [
    {
     "name": "stdout",
     "output_type": "stream",
     "text": [
      "              precision    recall  f1-score   support\n",
      "\n",
      "          -1       0.77      0.77      0.77      2369\n",
      "           1       0.78      0.78      0.78      2410\n",
      "\n",
      "    accuracy                           0.77      4779\n",
      "   macro avg       0.77      0.77      0.77      4779\n",
      "weighted avg       0.77      0.77      0.77      4779\n",
      "\n"
     ]
    }
   ],
   "source": [
    "print(classification_report(y_test, svm_rbf.predict(X_test)))"
   ]
  },
  {
   "cell_type": "markdown",
   "metadata": {},
   "source": [
    "## SVM with 'poly' Kernal"
   ]
  },
  {
   "cell_type": "code",
   "execution_count": 46,
   "metadata": {},
   "outputs": [
    {
     "data": {
      "text/plain": [
       "SVC(C=0.1, cache_size=200, class_weight=None, coef0=0.0,\n",
       "    decision_function_shape='ovr', degree=3, gamma=0.5, kernel='poly',\n",
       "    max_iter=-1, probability=True, random_state=None, shrinking=True, tol=0.001,\n",
       "    verbose=False)"
      ]
     },
     "execution_count": 46,
     "metadata": {},
     "output_type": "execute_result"
    }
   ],
   "source": [
    "from sklearn.svm import SVC\n",
    "\n",
    "SVM_poly_cv = SVC(C=0.1, cache_size=200, class_weight=None, coef0=0.0,\n",
    "  decision_function_shape='ovr', degree=3, gamma=0.5, kernel='poly',\n",
    "  max_iter=-1, probability=True, random_state=None, shrinking=True,\n",
    "  tol=0.001, verbose=False)\n",
    "\n",
    "SVM_poly_cv.fit(X_train,y_train)"
   ]
  },
  {
   "cell_type": "code",
   "execution_count": 47,
   "metadata": {},
   "outputs": [
    {
     "data": {
      "text/plain": [
       "<matplotlib.legend.Legend at 0x23e172ad710>"
      ]
     },
     "execution_count": 47,
     "metadata": {},
     "output_type": "execute_result"
    },
    {
     "data": {
      "image/png": "[encoded data removed]",
      "text/plain": [
       "<Figure size 576x360 with 1 Axes>"
      ]
     },
     "metadata": {},
     "output_type": "display_data"
    }
   ],
   "source": [
    "y_pred_prob = SVM_poly_cv.predict_proba(X_test)[:,1]\n",
    "fpr, tpr, thresholds = roc_curve(y_test, y_pred_prob)\n",
    "plt.plot([0,1], [0,1], 'k--')\n",
    "plt.plot(fpr, tpr, label='SVM')\n",
    "plt.legend()"
   ]
  },
  {
   "cell_type": "code",
   "execution_count": 48,
   "metadata": {},
   "outputs": [
    {
     "data": {
      "text/plain": [
       "0.8617699398699312"
      ]
     },
     "execution_count": 48,
     "metadata": {},
     "output_type": "execute_result"
    }
   ],
   "source": [
    "roc_auc_score(y_test, y_pred_prob)"
   ]
  },
  {
   "cell_type": "code",
   "execution_count": 49,
   "metadata": {},
   "outputs": [
    {
     "name": "stdout",
     "output_type": "stream",
     "text": [
      "[[1864  505]\n",
      " [ 564 1846]]\n"
     ]
    }
   ],
   "source": [
    "print(confusion_matrix(y_test, SVM_poly_cv.predict(X_test)))\n",
    "\n",
    "#Tp#Fp\n",
    "#Fn#Tn"
   ]
  },
  {
   "cell_type": "code",
   "execution_count": 50,
   "metadata": {},
   "outputs": [
    {
     "name": "stdout",
     "output_type": "stream",
     "text": [
      "              precision    recall  f1-score   support\n",
      "\n",
      "          -1       0.77      0.79      0.78      2369\n",
      "           1       0.79      0.77      0.78      2410\n",
      "\n",
      "    accuracy                           0.78      4779\n",
      "   macro avg       0.78      0.78      0.78      4779\n",
      "weighted avg       0.78      0.78      0.78      4779\n",
      "\n"
     ]
    }
   ],
   "source": [
    "print(classification_report(y_test, SVM_poly_cv.predict(X_test)))"
   ]
  },
  {
   "cell_type": "markdown",
   "metadata": {},
   "source": [
    "## Random Forest"
   ]
  },
  {
   "cell_type": "code",
   "execution_count": 51,
   "metadata": {},
   "outputs": [
    {
     "data": {
      "text/plain": [
       "RandomForestClassifier(bootstrap=True, class_weight=None, criterion='gini',\n",
       "                       max_depth=5, max_features='auto', max_leaf_nodes=None,\n",
       "                       min_impurity_decrease=0.0, min_impurity_split=None,\n",
       "                       min_samples_leaf=1, min_samples_split=11,\n",
       "                       min_weight_fraction_leaf=0.0, n_estimators=155,\n",
       "                       n_jobs=None, oob_score=False, random_state=None,\n",
       "                       verbose=0, warm_start=False)"
      ]
     },
     "execution_count": 51,
     "metadata": {},
     "output_type": "execute_result"
    }
   ],
   "source": [
    "RF_cv = RandomForestClassifier(bootstrap=True, class_weight=None, criterion='gini',\n",
    "            max_depth=5, max_features='auto', max_leaf_nodes=None,\n",
    "            min_impurity_decrease=0.0, min_impurity_split=None,\n",
    "            min_samples_leaf=1, min_samples_split=11,\n",
    "            min_weight_fraction_leaf=0.0, n_estimators=155, n_jobs=None,\n",
    "            oob_score=False, random_state=None, verbose=0,\n",
    "            warm_start=False)\n",
    "\n",
    "RF_cv.fit(X_train,y_train)"
   ]
  },
  {
   "cell_type": "code",
   "execution_count": 52,
   "metadata": {},
   "outputs": [
    {
     "data": {
      "text/plain": [
       "<matplotlib.legend.Legend at 0x23e18309a58>"
      ]
     },
     "execution_count": 52,
     "metadata": {},
     "output_type": "execute_result"
    },
    {
     "data": {
      "image/png": "[encoded data removed]",
      "text/plain": [
       "<Figure size 576x360 with 1 Axes>"
      ]
     },
     "metadata": {},
     "output_type": "display_data"
    }
   ],
   "source": [
    "y_pred_prob = RF_cv.predict_proba(X_test)[:,1]\n",
    "fpr, tpr, thresholds = roc_curve(y_test, y_pred_prob)\n",
    "plt.plot([0,1], [0,1], 'k--')\n",
    "plt.plot(fpr, tpr, label='Random Forest')\n",
    "plt.legend()"
   ]
  },
  {
   "cell_type": "code",
   "execution_count": 53,
   "metadata": {},
   "outputs": [
    {
     "data": {
      "text/plain": [
       "0.8644896300590792"
      ]
     },
     "execution_count": 53,
     "metadata": {},
     "output_type": "execute_result"
    }
   ],
   "source": [
    "roc_auc_score(y_test, y_pred_prob)"
   ]
  },
  {
   "cell_type": "code",
   "execution_count": 54,
   "metadata": {},
   "outputs": [
    {
     "name": "stdout",
     "output_type": "stream",
     "text": [
      "[[1895  474]\n",
      " [ 566 1844]]\n"
     ]
    }
   ],
   "source": [
    "print(confusion_matrix(y_test, RF_cv.predict(X_test)))\n",
    "\n",
    "#Tp#Fp\n",
    "#Fn#Tn"
   ]
  },
  {
   "cell_type": "code",
   "execution_count": 55,
   "metadata": {},
   "outputs": [
    {
     "name": "stdout",
     "output_type": "stream",
     "text": [
      "              precision    recall  f1-score   support\n",
      "\n",
      "          -1       0.77      0.80      0.78      2369\n",
      "           1       0.80      0.77      0.78      2410\n",
      "\n",
      "    accuracy                           0.78      4779\n",
      "   macro avg       0.78      0.78      0.78      4779\n",
      "weighted avg       0.78      0.78      0.78      4779\n",
      "\n"
     ]
    }
   ],
   "source": [
    "print(classification_report(y_test, RF_cv.predict(X_test)))"
   ]
  },
  {
   "cell_type": "markdown",
   "metadata": {},
   "source": [
    "## Extreme Gradient boosting:"
   ]
  },
  {
   "cell_type": "code",
   "execution_count": 56,
   "metadata": {},
   "outputs": [
    {
     "data": {
      "text/plain": [
       "XGBClassifier(base_score=0.5, booster='gbtree', colsample_bylevel=1,\n",
       "              colsample_bynode=1, colsample_bytree=1, gamma=0.001,\n",
       "              learning_rate=0.05, max_delta_step=0, max_depth=5,\n",
       "              min_child_weight=1, missing=None, n_estimators=100, n_jobs=1,\n",
       "              nthread=None, objective='binary:logistic', random_state=0,\n",
       "              reg_alpha=0, reg_lambda=1, scale_pos_weight=1, seed=None,\n",
       "              silent=None, subsample=1, verbosity=1)"
      ]
     },
     "execution_count": 56,
     "metadata": {},
     "output_type": "execute_result"
    }
   ],
   "source": [
    "xgb_cv = XGBClassifier(base_score=0.5, booster='gbtree', colsample_bylevel=1,\n",
    "       colsample_bynode=1, colsample_bytree=1, gamma=0.001,\n",
    "       learning_rate=0.05, max_delta_step=0, max_depth=5,\n",
    "       min_child_weight=1, missing=None, n_estimators=100, n_jobs=1,\n",
    "       nthread=None, objective='binary:logistic', random_state=0,\n",
    "       reg_alpha=0, reg_lambda=1, scale_pos_weight=1, seed=None,\n",
    "       silent=None, subsample=1, verbosity=1)\n",
    "\n",
    "xgb_cv.fit(X_train,y_train)"
   ]
  },
  {
   "cell_type": "code",
   "execution_count": 57,
   "metadata": {},
   "outputs": [
    {
     "data": {
      "text/plain": [
       "<matplotlib.legend.Legend at 0x23e1837fcf8>"
      ]
     },
     "execution_count": 57,
     "metadata": {},
     "output_type": "execute_result"
    },
    {
     "data": {
      "image/png": "[encoded data removed]",
      "text/plain": [
       "<Figure size 576x360 with 1 Axes>"
      ]
     },
     "metadata": {},
     "output_type": "display_data"
    }
   ],
   "source": [
    "y_pred_prob = xgb_cv.predict_proba(X_test)[:,1]\n",
    "fpr, tpr, thresholds = roc_curve(y_test, y_pred_prob)\n",
    "plt.plot([0,1], [0,1], 'k--')\n",
    "plt.plot(fpr, tpr, label='xgb')\n",
    "plt.legend()"
   ]
  },
  {
   "cell_type": "code",
   "execution_count": 58,
   "metadata": {},
   "outputs": [
    {
     "data": {
      "text/plain": [
       "0.9051987199809434"
      ]
     },
     "execution_count": 58,
     "metadata": {},
     "output_type": "execute_result"
    }
   ],
   "source": [
    "roc_auc_score(y_test, y_pred_prob)"
   ]
  },
  {
   "cell_type": "code",
   "execution_count": 59,
   "metadata": {},
   "outputs": [
    {
     "name": "stdout",
     "output_type": "stream",
     "text": [
      "[[1995  374]\n",
      " [ 426 1984]]\n"
     ]
    }
   ],
   "source": [
    "print(confusion_matrix(y_test, xgb_cv.predict(X_test)))\n",
    "\n",
    "#Tp#Fp\n",
    "#Fn#Tn"
   ]
  },
  {
   "cell_type": "code",
   "execution_count": 60,
   "metadata": {},
   "outputs": [
    {
     "name": "stdout",
     "output_type": "stream",
     "text": [
      "              precision    recall  f1-score   support\n",
      "\n",
      "          -1       0.82      0.84      0.83      2369\n",
      "           1       0.84      0.82      0.83      2410\n",
      "\n",
      "    accuracy                           0.83      4779\n",
      "   macro avg       0.83      0.83      0.83      4779\n",
      "weighted avg       0.83      0.83      0.83      4779\n",
      "\n"
     ]
    }
   ],
   "source": [
    "print(classification_report(y_test, xgb_cv.predict(X_test)))"
   ]
  },
  {
   "cell_type": "code",
   "execution_count": 64,
   "metadata": {},
   "outputs": [
    {
     "data": {
      "text/plain": [
       "<matplotlib.legend.Legend at 0x23e19fc7a90>"
      ]
     },
     "execution_count": 64,
     "metadata": {},
     "output_type": "execute_result"
    },
    {
     "data": {
      "image/png": "[encoded data removed]",
      "text/plain": [
       "<Figure size 864x576 with 1 Axes>"
      ]
     },
     "metadata": {},
     "output_type": "display_data"
    }
   ],
   "source": [
    "algos = [logreg, knn, svm_rbf, SVM_poly_cv, RF_cv, xgb_cv]\n",
    "labels = ['Logistic Regression', 'knn', 'SVM rbf', 'SVM poly', 'Random Forest', 'XGB']\n",
    "\n",
    "plt.figure(figsize = (12,8))\n",
    "plt.plot([0,1], [0,1], 'k--')\n",
    "\n",
    "for i in range(len(algos)):\n",
    "    y_pred_prob = algos[i].predict_proba(X_test)[:,1]\n",
    "    fpr, tpr, thresholds = roc_curve(y_test, y_pred_prob)\n",
    "    plt.plot(fpr, tpr, label=labels[i])\n",
    "\n",
    "plt.xlabel('False positive rate')\n",
    "plt.ylabel('True positive rate')\n",
    "plt.title('ROC Curve')\n",
    "plt.legend(loc='best')"
   ]
  },
  {
   "cell_type": "code",
   "execution_count": 65,
   "metadata": {},
   "outputs": [],
   "source": [
    "from sklearn import model_selection\n",
    "from sklearn.ensemble import VotingClassifier"
   ]
  },
  {
   "cell_type": "code",
   "execution_count": 66,
   "metadata": {},
   "outputs": [],
   "source": [
    "estimators = []\n",
    "\n",
    "model1 = RandomForestClassifier(bootstrap=True, class_weight=None, criterion='gini',\n",
    "            max_depth=5, max_features='auto', max_leaf_nodes=None,\n",
    "            min_impurity_decrease=0.0, min_impurity_split=None,\n",
    "            min_samples_leaf=1, min_samples_split=11,\n",
    "            min_weight_fraction_leaf=0.0, n_estimators=155, n_jobs=None,\n",
    "            oob_score=False, random_state=None, verbose=0,\n",
    "            warm_start=False)\n",
    "\n",
    "estimators.append(('r_forest', model1))\n",
    "\n",
    "model2 = SVC(C=100, cache_size=200, class_weight=None, coef0=0.0,\n",
    "  decision_function_shape='ovr', degree=3, gamma=0.01, kernel='rbf',\n",
    "  max_iter=-1, probability=True, random_state=None, shrinking=True,\n",
    "  tol=0.001, verbose=False)\n",
    "\n",
    "estimators.append(('svm', model2))\n",
    "\n",
    "model3 = XGBClassifier(base_score=0.5, booster='gbtree', colsample_bylevel=1,\n",
    "       colsample_bynode=1, colsample_bytree=1, gamma=0.001,\n",
    "       learning_rate=0.05, max_delta_step=0, max_depth=5,\n",
    "       min_child_weight=1, missing=None, n_estimators=100, n_jobs=1,\n",
    "       nthread=None, objective='binary:logistic', random_state=0,\n",
    "       reg_alpha=0, reg_lambda=1, scale_pos_weight=1, seed=None,\n",
    "       silent=None, subsample=1, verbosity=1)\n",
    "\n",
    "estimators.append(('xgb', model3))"
   ]
  },
  {
   "cell_type": "code",
   "execution_count": 67,
   "metadata": {
    "scrolled": true
   },
   "outputs": [
    {
     "data": {
      "text/plain": [
       "[('r_forest',\n",
       "  RandomForestClassifier(bootstrap=True, class_weight=None, criterion='gini',\n",
       "                         max_depth=5, max_features='auto', max_leaf_nodes=None,\n",
       "                         min_impurity_decrease=0.0, min_impurity_split=None,\n",
       "                         min_samples_leaf=1, min_samples_split=11,\n",
       "                         min_weight_fraction_leaf=0.0, n_estimators=155,\n",
       "                         n_jobs=None, oob_score=False, random_state=None,\n",
       "                         verbose=0, warm_start=False)),\n",
       " ('svm', SVC(C=100, cache_size=200, class_weight=None, coef0=0.0,\n",
       "      decision_function_shape='ovr', degree=3, gamma=0.01, kernel='rbf',\n",
       "      max_iter=-1, probability=True, random_state=None, shrinking=True, tol=0.001,\n",
       "      verbose=False)),\n",
       " ('xgb', XGBClassifier(base_score=0.5, booster='gbtree', colsample_bylevel=1,\n",
       "                colsample_bynode=1, colsample_bytree=1, gamma=0.001,\n",
       "                learning_rate=0.05, max_delta_step=0, max_depth=5,\n",
       "                min_child_weight=1, missing=None, n_estimators=100, n_jobs=1,\n",
       "                nthread=None, objective='binary:logistic', random_state=0,\n",
       "                reg_alpha=0, reg_lambda=1, scale_pos_weight=1, seed=None,\n",
       "                silent=None, subsample=1, verbosity=1))]"
      ]
     },
     "execution_count": 67,
     "metadata": {},
     "output_type": "execute_result"
    }
   ],
   "source": [
    "estimators"
   ]
  },
  {
   "cell_type": "code",
   "execution_count": 68,
   "metadata": {},
   "outputs": [],
   "source": [
    "ensemble = VotingClassifier(estimators, voting='hard')"
   ]
  },
  {
   "cell_type": "code",
   "execution_count": 69,
   "metadata": {},
   "outputs": [
    {
     "data": {
      "text/plain": [
       "VotingClassifier(estimators=[('r_forest',\n",
       "                              RandomForestClassifier(bootstrap=True,\n",
       "                                                     class_weight=None,\n",
       "                                                     criterion='gini',\n",
       "                                                     max_depth=5,\n",
       "                                                     max_features='auto',\n",
       "                                                     max_leaf_nodes=None,\n",
       "                                                     min_impurity_decrease=0.0,\n",
       "                                                     min_impurity_split=None,\n",
       "                                                     min_samples_leaf=1,\n",
       "                                                     min_samples_split=11,\n",
       "                                                     min_weight_fraction_leaf=0.0,\n",
       "                                                     n_estimators=155,\n",
       "                                                     n_jobs=None,\n",
       "                                                     oob_score=False,\n",
       "                                                     random_state=None,\n",
       "                                                     ve...\n",
       "                                            colsample_bynode=1,\n",
       "                                            colsample_bytree=1, gamma=0.001,\n",
       "                                            learning_rate=0.05,\n",
       "                                            max_delta_step=0, max_depth=5,\n",
       "                                            min_child_weight=1, missing=None,\n",
       "                                            n_estimators=100, n_jobs=1,\n",
       "                                            nthread=None,\n",
       "                                            objective='binary:logistic',\n",
       "                                            random_state=0, reg_alpha=0,\n",
       "                                            reg_lambda=1, scale_pos_weight=1,\n",
       "                                            seed=None, silent=None, subsample=1,\n",
       "                                            verbosity=1))],\n",
       "                 flatten_transform=True, n_jobs=None, voting='hard',\n",
       "                 weights=None)"
      ]
     },
     "execution_count": 69,
     "metadata": {},
     "output_type": "execute_result"
    }
   ],
   "source": [
    "ensemble.fit(X_train, y_train)"
   ]
  },
  {
   "cell_type": "code",
   "execution_count": null,
   "metadata": {},
   "outputs": [],
   "source": [
    "#results = model_selection.cross_val_score(ensemble, X_train, y_train, cv=kfold)"
   ]
  },
  {
   "cell_type": "code",
   "execution_count": null,
   "metadata": {},
   "outputs": [],
   "source": [
    "#results.mean()"
   ]
  },
  {
   "cell_type": "code",
   "execution_count": 70,
   "metadata": {},
   "outputs": [
    {
     "data": {
      "text/plain": [
       "0.8089558485038711"
      ]
     },
     "execution_count": 70,
     "metadata": {},
     "output_type": "execute_result"
    }
   ],
   "source": [
    "ensemble.score(X_test, y_test)"
   ]
  },
  {
   "cell_type": "code",
   "execution_count": 71,
   "metadata": {},
   "outputs": [
    {
     "data": {
      "text/plain": [
       "0.9051987199809434"
      ]
     },
     "execution_count": 71,
     "metadata": {},
     "output_type": "execute_result"
    }
   ],
   "source": [
    "roc_auc_score(y_test, y_pred_prob)"
   ]
  },
  {
   "cell_type": "code",
   "execution_count": 72,
   "metadata": {},
   "outputs": [
    {
     "name": "stdout",
     "output_type": "stream",
     "text": [
      "              precision    recall  f1-score   support\n",
      "\n",
      "          -1       0.80      0.82      0.81      2369\n",
      "           1       0.82      0.80      0.81      2410\n",
      "\n",
      "    accuracy                           0.81      4779\n",
      "   macro avg       0.81      0.81      0.81      4779\n",
      "weighted avg       0.81      0.81      0.81      4779\n",
      "\n"
     ]
    }
   ],
   "source": [
    "print(classification_report(y_test, ensemble.predict(X_test)))"
   ]
  },
  {
   "cell_type": "code",
   "execution_count": null,
   "metadata": {},
   "outputs": [],
   "source": []
  },
  {
   "cell_type": "code",
   "execution_count": null,
   "metadata": {},
   "outputs": [],
   "source": []
  },
  {
   "cell_type": "code",
   "execution_count": null,
   "metadata": {},
   "outputs": [],
   "source": []
  },
  {
   "cell_type": "code",
   "execution_count": null,
   "metadata": {},
   "outputs": [],
   "source": []
  },
  {
   "cell_type": "code",
   "execution_count": null,
   "metadata": {},
   "outputs": [],
   "source": []
  },
  {
   "cell_type": "code",
   "execution_count": null,
   "metadata": {},
   "outputs": [],
   "source": []
  },
  {
   "cell_type": "code",
   "execution_count": null,
   "metadata": {},
   "outputs": [],
   "source": []
  },
  {
   "cell_type": "code",
   "execution_count": null,
   "metadata": {},
   "outputs": [],
   "source": []
  }
 ],
 "metadata": {
  "kernelspec": {
   "display_name": "Python 3",
   "language": "python",
   "name": "python3"
  },
  "language_info": {
   "codemirror_mode": {
    "name": "ipython",
    "version": 3
   },
   "file_extension": ".py",
   "mimetype": "text/x-python",
   "name": "python",
   "nbconvert_exporter": "python",
   "pygments_lexer": "ipython3",
   "version": "3.7.3"
  }
 },
 "nbformat": 4,
 "nbformat_minor": 2
}
