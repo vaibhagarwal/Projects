{
 "cells": [
  {
   "cell_type": "code",
   "execution_count": 1,
   "metadata": {
    "colab": {
     "base_uri": "https://localhost:8080/",
     "height": 99
    },
    "colab_type": "code",
    "id": "Set0MNg7lYKV",
    "outputId": "a6f30c82-dbcb-4e91-a84b-c92388909800"
   },
   "outputs": [
    {
     "name": "stderr",
     "output_type": "stream",
     "text": [
      "Using TensorFlow backend.\n"
     ]
    },
    {
     "data": {
      "text/html": [
       "<p style=\"color: red;\">\n",
       "The default version of TensorFlow in Colab will soon switch to TensorFlow 2.x.<br>\n",
       "We recommend you <a href=\"https://www.tensorflow.org/guide/migrate\" target=\"_blank\">upgrade</a> now \n",
       "or ensure your notebook will continue to use TensorFlow 1.x via the <code>%tensorflow_version 1.x</code> magic:\n",
       "<a href=\"https://colab.research.google.com/notebooks/tensorflow_version.ipynb\" target=\"_blank\">more info</a>.</p>\n"
      ],
      "text/plain": [
       "<IPython.core.display.HTML object>"
      ]
     },
     "metadata": {
      "tags": []
     },
     "output_type": "display_data"
    }
   ],
   "source": [
    "import numpy as np\n",
    "import pandas as pd\n",
    "from matplotlib import pyplot\n",
    "import matplotlib.pyplot as plt\n",
    "import cv2\n",
    "from PIL import Image\n",
    "import os\n",
    "import keras\n",
    "from keras.utils import to_categorical"
   ]
  },
  {
   "cell_type": "code",
   "execution_count": 0,
   "metadata": {
    "colab": {},
    "colab_type": "code",
    "id": "zcYDn8b0UURx"
   },
   "outputs": [],
   "source": [
    "import warnings\n",
    "warnings.filterwarnings('ignore')"
   ]
  },
  {
   "cell_type": "code",
   "execution_count": 0,
   "metadata": {
    "colab": {},
    "colab_type": "code",
    "id": "vJO5F6r4UUR0"
   },
   "outputs": [],
   "source": [
    "#defining empty data and label lists\n",
    "data_1 = []\n",
    "labels_1 = []"
   ]
  },
  {
   "cell_type": "code",
   "execution_count": 0,
   "metadata": {
    "colab": {},
    "colab_type": "code",
    "id": "5LIfdyB7UUR4"
   },
   "outputs": [],
   "source": [
    "#importing and processing the infected cell images\n",
    "parasitized = \"/content/cell_images/Parasitized/\"\n",
    "for filename in os.listdir(parasitized):\n",
    "    img = cv2.imread(parasitized+filename)     # Read image as an array\n",
    "    if img is not None:\n",
    "        img_arr = Image.fromarray(img , 'RGB') #Converting image from array to an RGB image.\n",
    "        re_img = img_arr.resize((64 , 64))     #Resizing image\n",
    "        data_1.append(np.array(re_img))          #appending image after converting it back to array\n",
    "        labels_1.append(to_categorical(1, num_classes=2))"
   ]
  },
  {
   "cell_type": "code",
   "execution_count": 0,
   "metadata": {
    "colab": {},
    "colab_type": "code",
    "id": "FVEGXLwDUUR8"
   },
   "outputs": [],
   "source": [
    "#importing and processing the infected cell images\n",
    "uninfected = \"/content/cell_images/Uninfected/\"\n",
    "for filename in os.listdir(uninfected):\n",
    "    img = cv2.imread(uninfected+filename)\n",
    "    if img is not None:\n",
    "        img_arr = Image.fromarray(img , 'RGB')\n",
    "        re_img = img_arr.resize((64 , 64))\n",
    "        data_1.append(np.array(re_img))\n",
    "        labels_1.append(to_categorical(0, num_classes=2))"
   ]
  },
  {
   "cell_type": "code",
   "execution_count": 0,
   "metadata": {
    "colab": {},
    "colab_type": "code",
    "id": "PTt_g2xBlYKn"
   },
   "outputs": [],
   "source": [
    "#Converting data and labels to numpy array\n",
    "data = np.array(data_1)\n",
    "labels = np.array(labels_1)"
   ]
  },
  {
   "cell_type": "code",
   "execution_count": 10,
   "metadata": {
    "colab": {
     "base_uri": "https://localhost:8080/",
     "height": 35
    },
    "colab_type": "code",
    "id": "1IJEitnVlYKq",
    "outputId": "4c24f506-c91a-4dac-f89b-a380153226a0"
   },
   "outputs": [
    {
     "data": {
      "text/plain": [
       "(27558, 64, 64, 3)"
      ]
     },
     "execution_count": 10,
     "metadata": {
      "tags": []
     },
     "output_type": "execute_result"
    }
   ],
   "source": [
    "data.shape"
   ]
  },
  {
   "cell_type": "code",
   "execution_count": 11,
   "metadata": {
    "colab": {
     "base_uri": "https://localhost:8080/",
     "height": 35
    },
    "colab_type": "code",
    "id": "66h7g0sjUUSK",
    "outputId": "dc3ef582-d5e7-49c3-833e-3d5f91742d3e"
   },
   "outputs": [
    {
     "data": {
      "text/plain": [
       "(27558, 2)"
      ]
     },
     "execution_count": 11,
     "metadata": {
      "tags": []
     },
     "output_type": "execute_result"
    }
   ],
   "source": [
    "labels.shape"
   ]
  },
  {
   "cell_type": "code",
   "execution_count": 12,
   "metadata": {
    "colab": {
     "base_uri": "https://localhost:8080/",
     "height": 431
    },
    "colab_type": "code",
    "id": "vUEEvNr3lYKt",
    "outputId": "1f4ab2b6-66cb-4330-d447-99ff899e982b"
   },
   "outputs": [
    {
     "data": {
      "image/png": "[encoded data removed]",
      "text/plain": [
       "<Figure size 1080x504 with 2 Axes>"
      ]
     },
     "metadata": {
      "tags": []
     },
     "output_type": "display_data"
    }
   ],
   "source": [
    "plt.figure(1, figsize = (15 , 7))\n",
    "plt.subplot(1 , 2 , 1)\n",
    "plt.imshow(data[0])\n",
    "plt.title('Infected Cell')\n",
    "plt.xticks([]) , plt.yticks([])\n",
    "\n",
    "plt.subplot(1 , 2 , 2)\n",
    "plt.imshow(data[16000])\n",
    "plt.title('Uninfected Cell')\n",
    "plt.xticks([]) , plt.yticks([])\n",
    "\n",
    "plt.show()"
   ]
  },
  {
   "cell_type": "code",
   "execution_count": 13,
   "metadata": {
    "colab": {
     "base_uri": "https://localhost:8080/",
     "height": 431
    },
    "colab_type": "code",
    "id": "xgzBiAzXUUST",
    "outputId": "f97fd562-de7a-4052-ef56-6361a748a971",
    "scrolled": false
   },
   "outputs": [
    {
     "data": {
      "image/png": "[encoded data removed]",
      "text/plain": [
       "<Figure size 1080x504 with 2 Axes>"
      ]
     },
     "metadata": {
      "tags": []
     },
     "output_type": "display_data"
    }
   ],
   "source": [
    "plt.figure(1, figsize = (15 , 7))\n",
    "plt.subplot(1 , 2 , 1)\n",
    "plt.imshow(data[1])\n",
    "plt.title('Infected Cell')\n",
    "plt.xticks([]) , plt.yticks([])\n",
    "\n",
    "plt.subplot(1 , 2 , 2)\n",
    "plt.imshow(data[15999])\n",
    "plt.title('Uninfected Cell')\n",
    "plt.xticks([]) , plt.yticks([])\n",
    "\n",
    "plt.show()"
   ]
  },
  {
   "cell_type": "code",
   "execution_count": 14,
   "metadata": {
    "colab": {
     "base_uri": "https://localhost:8080/",
     "height": 35
    },
    "colab_type": "code",
    "id": "A_fgX4SeUUSW",
    "outputId": "2ecaca05-3a63-444a-ca2e-ce6ddc99de31"
   },
   "outputs": [
    {
     "data": {
      "text/plain": [
       "27558"
      ]
     },
     "execution_count": 14,
     "metadata": {
      "tags": []
     },
     "output_type": "execute_result"
    }
   ],
   "source": [
    "data.shape[0]"
   ]
  },
  {
   "cell_type": "code",
   "execution_count": 0,
   "metadata": {
    "colab": {},
    "colab_type": "code",
    "id": "p9xrOfaLlYKw"
   },
   "outputs": [],
   "source": [
    "#Initializing a random sequence of number which is the same length as of data\n",
    "n = np.arange(data.shape[0])\n",
    "np.random.shuffle(n)"
   ]
  },
  {
   "cell_type": "code",
   "execution_count": 16,
   "metadata": {
    "colab": {
     "base_uri": "https://localhost:8080/",
     "height": 35
    },
    "colab_type": "code",
    "id": "OBFI_nkWUUSg",
    "outputId": "660d009a-adff-434a-e4b5-7eef8a34ac68"
   },
   "outputs": [
    {
     "data": {
      "text/plain": [
       "array([ 4273, 17110,   372, ...,  6915,  1523, 23457])"
      ]
     },
     "execution_count": 16,
     "metadata": {
      "tags": []
     },
     "output_type": "execute_result"
    }
   ],
   "source": [
    "n"
   ]
  },
  {
   "cell_type": "code",
   "execution_count": 0,
   "metadata": {
    "colab": {},
    "colab_type": "code",
    "id": "W4MNNJQJlYKz"
   },
   "outputs": [],
   "source": [
    "data = data[n]\n",
    "labels = labels[n]"
   ]
  },
  {
   "cell_type": "code",
   "execution_count": 0,
   "metadata": {
    "colab": {},
    "colab_type": "code",
    "id": "pHPLwQ_oUMYH"
   },
   "outputs": [],
   "source": [
    "data = data[:5000]\n",
    "labels = labels[:5000]"
   ]
  },
  {
   "cell_type": "code",
   "execution_count": 19,
   "metadata": {
    "colab": {
     "base_uri": "https://localhost:8080/",
     "height": 139
    },
    "colab_type": "code",
    "id": "DD_crWOUUUSp",
    "outputId": "4e91523d-6bf5-46e1-a687-2dda9261cd93"
   },
   "outputs": [
    {
     "data": {
      "text/plain": [
       "array([[0., 1.],\n",
       "       [1., 0.],\n",
       "       [0., 1.],\n",
       "       ...,\n",
       "       [1., 0.],\n",
       "       [1., 0.],\n",
       "       [0., 1.]], dtype=float32)"
      ]
     },
     "execution_count": 19,
     "metadata": {
      "tags": []
     },
     "output_type": "execute_result"
    }
   ],
   "source": [
    "labels"
   ]
  },
  {
   "cell_type": "code",
   "execution_count": 0,
   "metadata": {
    "colab": {},
    "colab_type": "code",
    "id": "QdXX7ccllYK2"
   },
   "outputs": [],
   "source": [
    "#Changing data type to float\n",
    "data = data.astype(np.float32)\n",
    "labels = labels.astype(np.int32)"
   ]
  },
  {
   "cell_type": "code",
   "execution_count": 0,
   "metadata": {
    "colab": {},
    "colab_type": "code",
    "id": "UpfJv7-WlYK6"
   },
   "outputs": [],
   "source": [
    "#Scaling the data\n",
    "data = data/255"
   ]
  },
  {
   "cell_type": "code",
   "execution_count": 0,
   "metadata": {
    "colab": {},
    "colab_type": "code",
    "id": "OY8h9deslYK9"
   },
   "outputs": [],
   "source": [
    "#Splitting the data into train and eval\n",
    "from sklearn.model_selection import train_test_split\n",
    "\n",
    "train_x , eval_x , train_y , eval_y = train_test_split(data , labels , \n",
    "                                            test_size = 0.3 ,\n",
    "                                            random_state = 111)"
   ]
  },
  {
   "cell_type": "code",
   "execution_count": 0,
   "metadata": {
    "colab": {},
    "colab_type": "code",
    "id": "hRUFtQX_UUS3"
   },
   "outputs": [],
   "source": [
    "#Splitting data into test and validation\n",
    "val_x , test_x , val_y , test_y = train_test_split(eval_x, eval_y , \n",
    "                                            test_size = 0.5 ,\n",
    "                                            random_state = 111)"
   ]
  },
  {
   "cell_type": "code",
   "execution_count": 24,
   "metadata": {
    "colab": {
     "base_uri": "https://localhost:8080/",
     "height": 35
    },
    "colab_type": "code",
    "id": "UJq0MCCflYLB",
    "outputId": "f450176e-e51d-4e48-efc0-199c453883d8"
   },
   "outputs": [
    {
     "name": "stdout",
     "output_type": "stream",
     "text": [
      "train data shape (3500, 64, 64, 3) ,val data shape (750, 64, 64, 3) \n"
     ]
    }
   ],
   "source": [
    "print('train data shape {} ,val data shape {} '.format(train_x.shape, val_x.shape))"
   ]
  },
  {
   "cell_type": "code",
   "execution_count": 25,
   "metadata": {
    "colab": {
     "base_uri": "https://localhost:8080/",
     "height": 55
    },
    "colab_type": "code",
    "id": "dNuiFlj1lYLF",
    "outputId": "ae97e208-3ca8-49e5-db67-9353876a4cf7"
   },
   "outputs": [
    {
     "data": {
      "text/plain": [
       "'from keras.preprocessing.image import ImageDataGenerator\\n\\ntrain_aug = ImageDataGenerator(\\n    rescale=1./255,\\n    shear_range=0.2,  \\n    zoom_range=0.2,        \\n    horizontal_flip=True,\\n    vertical_flip=True)  \\n\\nval_aug= ImageDataGenerator(\\n    rescale=1./255)\\n\\ntest_aug= ImageDataGenerator(\\n    rescale=1./255)\\n\\ntrain_gen = train_aug.flow(\\n    train_x,\\n    train_y,\\n    batch_size=16)\\n\\nval_gen = val_aug.flow(\\n    val_x,\\n    val_y,\\n    batch_size=16)\\n\\ntest_gen = test_aug.flow(\\n    test_x,\\n    test_y,\\n    batch_size=16)'"
      ]
     },
     "execution_count": 25,
     "metadata": {
      "tags": []
     },
     "output_type": "execute_result"
    }
   ],
   "source": [
    "# Generating augmented images\n",
    "\n",
    "'''from keras.preprocessing.image import ImageDataGenerator\n",
    "\n",
    "train_aug = ImageDataGenerator(\n",
    "    rescale=1./255,\n",
    "    shear_range=0.2,  \n",
    "    zoom_range=0.2,        \n",
    "    horizontal_flip=True,\n",
    "    vertical_flip=True)  \n",
    "\n",
    "val_aug= ImageDataGenerator(\n",
    "    rescale=1./255)\n",
    "\n",
    "test_aug= ImageDataGenerator(\n",
    "    rescale=1./255)\n",
    "\n",
    "train_gen = train_aug.flow(\n",
    "    train_x,\n",
    "    train_y,\n",
    "    batch_size=16)\n",
    "\n",
    "val_gen = val_aug.flow(\n",
    "    val_x,\n",
    "    val_y,\n",
    "    batch_size=16)\n",
    "\n",
    "test_gen = test_aug.flow(\n",
    "    test_x,\n",
    "    test_y,\n",
    "    batch_size=16)'''"
   ]
  },
  {
   "cell_type": "code",
   "execution_count": 0,
   "metadata": {
    "colab": {},
    "colab_type": "code",
    "id": "WZzNJ936lYLJ"
   },
   "outputs": [],
   "source": [
    "def show_final_history(history):\n",
    "    fig, ax = plt.subplots(1, 2, figsize=(15,5))\n",
    "    ax[0].set_title('loss')\n",
    "    ax[0].plot(history.epoch, history.history[\"loss\"], label=\"Train loss\")\n",
    "    ax[0].plot(history.epoch, history.history[\"val_loss\"], label=\"Validation loss\")\n",
    "    ax[1].set_title('acc')\n",
    "    ax[1].plot(history.epoch, history.history[\"acc\"], label=\"Train acc\")\n",
    "    ax[1].plot(history.epoch, history.history[\"val_acc\"], label=\"Validation acc\")\n",
    "    ax[0].legend()\n",
    "    ax[1].legend()"
   ]
  },
  {
   "cell_type": "code",
   "execution_count": 0,
   "metadata": {
    "colab": {},
    "colab_type": "code",
    "id": "CnZz8hoLUUTJ"
   },
   "outputs": [],
   "source": [
    "from keras.models import Sequential\n",
    "from keras.layers import SeparableConv2D,BatchNormalization,MaxPooling2D,Conv2D\n",
    "from keras.callbacks import ModelCheckpoint,EarlyStopping,ReduceLROnPlateau\n",
    "from keras.layers import Dense,Flatten,Dropout,Lambda"
   ]
  },
  {
   "cell_type": "code",
   "execution_count": 28,
   "metadata": {
    "colab": {
     "base_uri": "https://localhost:8080/",
     "height": 1000
    },
    "colab_type": "code",
    "id": "ll8hJpQAlYLN",
    "outputId": "2fb815ec-a765-42b7-faec-c58c66225b7d"
   },
   "outputs": [
    {
     "name": "stdout",
     "output_type": "stream",
     "text": [
      "WARNING:tensorflow:From /usr/local/lib/python3.6/dist-packages/keras/backend/tensorflow_backend.py:66: The name tf.get_default_graph is deprecated. Please use tf.compat.v1.get_default_graph instead.\n",
      "\n",
      "WARNING:tensorflow:From /usr/local/lib/python3.6/dist-packages/keras/backend/tensorflow_backend.py:541: The name tf.placeholder is deprecated. Please use tf.compat.v1.placeholder instead.\n",
      "\n",
      "WARNING:tensorflow:From /usr/local/lib/python3.6/dist-packages/keras/backend/tensorflow_backend.py:4432: The name tf.random_uniform is deprecated. Please use tf.random.uniform instead.\n",
      "\n",
      "WARNING:tensorflow:From /usr/local/lib/python3.6/dist-packages/keras/backend/tensorflow_backend.py:190: The name tf.get_default_session is deprecated. Please use tf.compat.v1.get_default_session instead.\n",
      "\n",
      "WARNING:tensorflow:From /usr/local/lib/python3.6/dist-packages/keras/backend/tensorflow_backend.py:197: The name tf.ConfigProto is deprecated. Please use tf.compat.v1.ConfigProto instead.\n",
      "\n",
      "WARNING:tensorflow:From /usr/local/lib/python3.6/dist-packages/keras/backend/tensorflow_backend.py:203: The name tf.Session is deprecated. Please use tf.compat.v1.Session instead.\n",
      "\n",
      "WARNING:tensorflow:From /usr/local/lib/python3.6/dist-packages/keras/backend/tensorflow_backend.py:207: The name tf.global_variables is deprecated. Please use tf.compat.v1.global_variables instead.\n",
      "\n",
      "WARNING:tensorflow:From /usr/local/lib/python3.6/dist-packages/keras/backend/tensorflow_backend.py:216: The name tf.is_variable_initialized is deprecated. Please use tf.compat.v1.is_variable_initialized instead.\n",
      "\n",
      "WARNING:tensorflow:From /usr/local/lib/python3.6/dist-packages/keras/backend/tensorflow_backend.py:223: The name tf.variables_initializer is deprecated. Please use tf.compat.v1.variables_initializer instead.\n",
      "\n",
      "WARNING:tensorflow:From /usr/local/lib/python3.6/dist-packages/keras/backend/tensorflow_backend.py:2041: The name tf.nn.fused_batch_norm is deprecated. Please use tf.compat.v1.nn.fused_batch_norm instead.\n",
      "\n",
      "WARNING:tensorflow:From /usr/local/lib/python3.6/dist-packages/keras/backend/tensorflow_backend.py:148: The name tf.placeholder_with_default is deprecated. Please use tf.compat.v1.placeholder_with_default instead.\n",
      "\n",
      "WARNING:tensorflow:From /usr/local/lib/python3.6/dist-packages/keras/backend/tensorflow_backend.py:4267: The name tf.nn.max_pool is deprecated. Please use tf.nn.max_pool2d instead.\n",
      "\n",
      "WARNING:tensorflow:From /usr/local/lib/python3.6/dist-packages/keras/backend/tensorflow_backend.py:3733: calling dropout (from tensorflow.python.ops.nn_ops) with keep_prob is deprecated and will be removed in a future version.\n",
      "Instructions for updating:\n",
      "Please use `rate` instead of `keep_prob`. Rate should be set to `rate = 1 - keep_prob`.\n",
      "Model: \"sequential_1\"\n",
      "_________________________________________________________________\n",
      "Layer (type)                 Output Shape              Param #   \n",
      "=================================================================\n",
      "lambda_1 (Lambda)            (None, 64, 64, 3)         0         \n",
      "_________________________________________________________________\n",
      "block_1 (Conv2D)             (None, 62, 62, 64)        1792      \n",
      "_________________________________________________________________\n",
      "batch_normalization_1 (Batch (None, 62, 62, 64)        256       \n",
      "_________________________________________________________________\n",
      "max_pooling2d_1 (MaxPooling2 (None, 31, 31, 64)        0         \n",
      "_________________________________________________________________\n",
      "block_2 (Conv2D)             (None, 29, 29, 128)       73856     \n",
      "_________________________________________________________________\n",
      "batch_normalization_2 (Batch (None, 29, 29, 128)       512       \n",
      "_________________________________________________________________\n",
      "max_pooling2d_2 (MaxPooling2 (None, 14, 14, 128)       0         \n",
      "_________________________________________________________________\n",
      "block_3 (Conv2D)             (None, 12, 12, 256)       295168    \n",
      "_________________________________________________________________\n",
      "batch_normalization_3 (Batch (None, 12, 12, 256)       1024      \n",
      "_________________________________________________________________\n",
      "max_pooling2d_3 (MaxPooling2 (None, 6, 6, 256)         0         \n",
      "_________________________________________________________________\n",
      "block_4 (Conv2D)             (None, 4, 4, 512)         1180160   \n",
      "_________________________________________________________________\n",
      "batch_normalization_4 (Batch (None, 4, 4, 512)         2048      \n",
      "_________________________________________________________________\n",
      "max_pooling2d_4 (MaxPooling2 (None, 2, 2, 512)         0         \n",
      "_________________________________________________________________\n",
      "flatten_1 (Flatten)          (None, 2048)              0         \n",
      "_________________________________________________________________\n",
      "dense_1 (Dense)              (None, 512)               1049088   \n",
      "_________________________________________________________________\n",
      "dropout_1 (Dropout)          (None, 512)               0         \n",
      "_________________________________________________________________\n",
      "dense_2 (Dense)              (None, 2)                 1026      \n",
      "=================================================================\n",
      "Total params: 2,604,930\n",
      "Trainable params: 2,603,010\n",
      "Non-trainable params: 1,920\n",
      "_________________________________________________________________\n"
     ]
    }
   ],
   "source": [
    "#Defining model layers and parameters\n",
    "def ConvBlock(model, layers, filters,name):\n",
    "    for i in range(layers):\n",
    "        model.add(Conv2D(filters, (3, 3), activation='relu',name=name))\n",
    "        model.add(BatchNormalization())\n",
    "        model.add(MaxPooling2D((2, 2)))\n",
    "        #model.add(Dropout(0.2))\n",
    "    \n",
    "def FCN():\n",
    "    model = Sequential()\n",
    "    model.add(Lambda(lambda x: x, input_shape=(64, 64, 3)))\n",
    "    ConvBlock(model, 1, 64,'block_1')\n",
    "    ConvBlock(model, 1, 128,'block_2')\n",
    "    ConvBlock(model, 1, 256,'block_3')\n",
    "    ConvBlock(model, 1, 512,'block_4')\n",
    "    model.add(Flatten())\n",
    "    model.add(Dense(512,activation='relu'))\n",
    "    model.add(Dropout(0.4))\n",
    "    model.add(Dense(2,activation='sigmoid'))\n",
    "    return model\n",
    "\n",
    "model = FCN()\n",
    "model.summary()"
   ]
  },
  {
   "cell_type": "code",
   "execution_count": 0,
   "metadata": {
    "colab": {},
    "colab_type": "code",
    "id": "yHla-NVDlYLQ"
   },
   "outputs": [],
   "source": [
    "# Defining Callbacks\n",
    "best_model_weights = './base.model'\n",
    "\n",
    "earlystop = EarlyStopping(       # Stop training when a monitored quantity has stopped improving.\n",
    "    monitor='val_loss',\n",
    "    min_delta=0.001,\n",
    "    patience=7,\n",
    "    verbose=2,\n",
    "    mode='min')\n",
    "\n",
    "checkpoint = ModelCheckpoint(\n",
    "    best_model_weights,\n",
    "    monitor='val_loss',\n",
    "    verbose=1,\n",
    "    save_best_only=True,\n",
    "    mode='min',\n",
    "    save_weights_only=False,\n",
    "    period=1)\n",
    "\n",
    "reducelr = ReduceLROnPlateau(    #Reduce learning rate when a metric has stopped improving\n",
    "    monitor='val_loss',\n",
    "    factor=0.5,\n",
    "    patience=40,\n",
    "    verbose=1, \n",
    "    mode='auto',\n",
    "    cooldown=1 )\n",
    "\n",
    "callbacks = [earlystop]"
   ]
  },
  {
   "cell_type": "code",
   "execution_count": 30,
   "metadata": {
    "colab": {
     "base_uri": "https://localhost:8080/",
     "height": 592
    },
    "colab_type": "code",
    "id": "DjIAmDE-lYLT",
    "outputId": "2f2cafde-44ad-4068-aae9-56f466044892"
   },
   "outputs": [
    {
     "name": "stdout",
     "output_type": "stream",
     "text": [
      "WARNING:tensorflow:From /usr/local/lib/python3.6/dist-packages/keras/optimizers.py:793: The name tf.train.Optimizer is deprecated. Please use tf.compat.v1.train.Optimizer instead.\n",
      "\n",
      "WARNING:tensorflow:From /usr/local/lib/python3.6/dist-packages/keras/backend/tensorflow_backend.py:3657: The name tf.log is deprecated. Please use tf.math.log instead.\n",
      "\n",
      "WARNING:tensorflow:From /usr/local/lib/python3.6/dist-packages/tensorflow_core/python/ops/nn_impl.py:183: where (from tensorflow.python.ops.array_ops) is deprecated and will be removed in a future version.\n",
      "Instructions for updating:\n",
      "Use tf.where in 2.0, which has the same broadcast rule as np.where\n",
      "WARNING:tensorflow:From /usr/local/lib/python3.6/dist-packages/keras/backend/tensorflow_backend.py:1033: The name tf.assign_add is deprecated. Please use tf.compat.v1.assign_add instead.\n",
      "\n",
      "WARNING:tensorflow:From /usr/local/lib/python3.6/dist-packages/keras/backend/tensorflow_backend.py:1020: The name tf.assign is deprecated. Please use tf.compat.v1.assign instead.\n",
      "\n",
      "Epoch 1/10\n",
      "3500/3500 [==============================] - 11s 3ms/step - loss: 0.6608 - acc: 0.7406\n",
      "Epoch 2/10\n",
      "3500/3500 [==============================] - 3s 858us/step - loss: 0.2446 - acc: 0.9173\n",
      "Epoch 3/10\n",
      "3500/3500 [==============================] - 3s 847us/step - loss: 0.2015 - acc: 0.9347\n",
      "Epoch 4/10\n",
      "3500/3500 [==============================] - 3s 841us/step - loss: 0.1668 - acc: 0.9470\n",
      "Epoch 5/10\n",
      "3500/3500 [==============================] - 3s 892us/step - loss: 0.1581 - acc: 0.9497\n",
      "Epoch 6/10\n",
      "3500/3500 [==============================] - 3s 843us/step - loss: 0.1555 - acc: 0.9496\n",
      "Epoch 7/10\n",
      "3500/3500 [==============================] - 3s 843us/step - loss: 0.1494 - acc: 0.9551\n",
      "Epoch 8/10\n",
      "3500/3500 [==============================] - 3s 850us/step - loss: 0.1317 - acc: 0.9561\n",
      "Epoch 9/10\n",
      "3500/3500 [==============================] - 3s 854us/step - loss: 0.1367 - acc: 0.9520\n",
      "Epoch 10/10\n",
      "3500/3500 [==============================] - 3s 847us/step - loss: 0.1217 - acc: 0.9586\n"
     ]
    },
    {
     "data": {
      "text/plain": [
       "'history = model.fit_generator(\\n    train_gen, \\n    steps_per_epoch  = 500, \\n    validation_data  = val_gen,\\n    validation_steps = 200,\\n    epochs = 10,\\n    #max_queue_size=10,\\n    use_multiprocessing=True,\\n    workers=-1, \\n    verbose = 1,\\n    callbacks=callbacks\\n)'"
      ]
     },
     "execution_count": 30,
     "metadata": {
      "tags": []
     },
     "output_type": "execute_result"
    }
   ],
   "source": [
    "# Compiling model and fitting the data\n",
    "\n",
    "model.compile(\n",
    "    loss='binary_crossentropy',\n",
    "    optimizer= 'adam', #try opt1 and directly adam\n",
    "    metrics=['accuracy']\n",
    ")\n",
    "\n",
    "history = model.fit(x=train_x, y=train_y, batch_size=16,\n",
    "                        epochs=10, verbose=1, callbacks=callbacks,\n",
    "                        max_queue_size=10, workers=1, use_multiprocessing=False)\n",
    "\n",
    "'''history = model.fit_generator(\n",
    "    train_gen, \n",
    "    steps_per_epoch  = 500, \n",
    "    validation_data  = val_gen,\n",
    "    validation_steps = 200,\n",
    "    epochs = 10,\n",
    "    #max_queue_size=10,\n",
    "    use_multiprocessing=True,\n",
    "    workers=-1, \n",
    "    verbose = 1,\n",
    "    callbacks=callbacks\n",
    ")'''"
   ]
  },
  {
   "cell_type": "code",
   "execution_count": 31,
   "metadata": {
    "colab": {
     "base_uri": "https://localhost:8080/",
     "height": 69
    },
    "colab_type": "code",
    "id": "7LNjfd20UUTW",
    "outputId": "3a19aa88-3408-4cbf-908b-e6175ebd0391"
   },
   "outputs": [
    {
     "name": "stdout",
     "output_type": "stream",
     "text": [
      "1500/1500 [==============================] - 1s 440us/step\n",
      "Model Test Loss: 0.32830664404233295\n",
      "Model Test Accuracy: 0.8779999995231629\n"
     ]
    }
   ],
   "source": [
    "model_score = model.evaluate(x=eval_x, y=eval_y)\n",
    "print(\"Model Test Loss:\",model_score[0])\n",
    "print(\"Model Test Accuracy:\",model_score[1])"
   ]
  },
  {
   "cell_type": "code",
   "execution_count": 0,
   "metadata": {
    "colab": {},
    "colab_type": "code",
    "id": "1KC9ixb_ybzM"
   },
   "outputs": [],
   "source": [
    "#model_score = model.evaluate_generator(test_gen,steps=50)\n",
    "#print(\"Model Test Loss:\",model_score[0])\n",
    "#print(\"Model Test Accuracy:\",model_score[1])"
   ]
  },
  {
   "cell_type": "code",
   "execution_count": 0,
   "metadata": {
    "colab": {},
    "colab_type": "code",
    "id": "InTB-YLwrCdT"
   },
   "outputs": [],
   "source": [
    "#model_score = model.evaluate_generator(val_gen,steps=50)\n",
    "#print(\"Model Test Loss:\",model_score[0])\n",
    "#print(\"Model Test Accuracy:\",model_score[1])"
   ]
  },
  {
   "cell_type": "code",
   "execution_count": 0,
   "metadata": {
    "colab": {},
    "colab_type": "code",
    "id": "ffDo8AqYUUTZ"
   },
   "outputs": [],
   "source": [
    "#show_final_history(history)"
   ]
  },
  {
   "cell_type": "code",
   "execution_count": 35,
   "metadata": {
    "colab": {
     "base_uri": "https://localhost:8080/",
     "height": 277
    },
    "colab_type": "code",
    "id": "_JKvjvSNlYLh",
    "outputId": "20d882a1-bec8-4240-d3ac-d698687a3a5f"
   },
   "outputs": [
    {
     "name": "stdout",
     "output_type": "stream",
     "text": [
      "Confusion Matrix\n",
      "[[349   3]\n",
      " [ 87 311]]\n",
      "--\n",
      "--\n",
      "Classification Report\n",
      "              precision    recall  f1-score   support\n",
      "\n",
      "           0       0.80      0.99      0.89       352\n",
      "           1       0.99      0.78      0.87       398\n",
      "\n",
      "    accuracy                           0.88       750\n",
      "   macro avg       0.90      0.89      0.88       750\n",
      "weighted avg       0.90      0.88      0.88       750\n",
      "\n"
     ]
    }
   ],
   "source": [
    "from sklearn.metrics import confusion_matrix, classification_report\n",
    "pred = model.predict(test_x)\n",
    "pred = np.argmax(pred,axis = 1) \n",
    "y_true = np.argmax(test_y,axis = 1)\n",
    "\n",
    "CM = confusion_matrix(y_true, pred)\n",
    "print(\"Confusion Matrix\")\n",
    "print(CM)\n",
    "print(\"--\")\n",
    "print(\"--\")\n",
    "print(\"Classification Report\")\n",
    "print(classification_report(y_true, pred))"
   ]
  },
  {
   "cell_type": "code",
   "execution_count": 0,
   "metadata": {
    "colab": {},
    "colab_type": "code",
    "id": "TTD9lTillYL1"
   },
   "outputs": [],
   "source": []
  },
  {
   "cell_type": "code",
   "execution_count": 0,
   "metadata": {
    "colab": {},
    "colab_type": "code",
    "id": "oG3LwVYBlYL3"
   },
   "outputs": [],
   "source": []
  },
  {
   "cell_type": "code",
   "execution_count": 0,
   "metadata": {
    "colab": {},
    "colab_type": "code",
    "id": "bSRv37f1lYL6"
   },
   "outputs": [],
   "source": []
  },
  {
   "cell_type": "code",
   "execution_count": 0,
   "metadata": {
    "colab": {},
    "colab_type": "code",
    "id": "FEFkEYKelYL_"
   },
   "outputs": [],
   "source": []
  }
 ],
 "metadata": {
  "accelerator": "GPU",
  "colab": {
   "collapsed_sections": [],
   "name": "Malaria_prediction_2_wo_gen.ipynb",
   "provenance": []
  },
  "kernelspec": {
   "display_name": "Python 3",
   "language": "python",
   "name": "python3"
  },
  "language_info": {
   "codemirror_mode": {
    "name": "ipython",
    "version": 3
   },
   "file_extension": ".py",
   "mimetype": "text/x-python",
   "name": "python",
   "nbconvert_exporter": "python",
   "pygments_lexer": "ipython3",
   "version": "3.7.3"
  }
 },
 "nbformat": 4,
 "nbformat_minor": 1
}
