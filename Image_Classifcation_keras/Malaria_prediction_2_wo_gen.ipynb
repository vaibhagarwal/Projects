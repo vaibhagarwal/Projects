{
 "cells": [
  {
   "cell_type": "code",
   "execution_count": 1,
   "metadata": {
    "colab": {
     "base_uri": "https://localhost:8080/",
     "height": 99
    },
    "colab_type": "code",
    "id": "Set0MNg7lYKV",
    "outputId": "d9dd0595-c079-40c0-de53-a16ce74f11be"
   },
   "outputs": [
    {
     "name": "stderr",
     "output_type": "stream",
     "text": [
      "Using TensorFlow backend.\n"
     ]
    },
    {
     "data": {
      "text/html": [
       "<p style=\"color: red;\">\n",
       "The default version of TensorFlow in Colab will soon switch to TensorFlow 2.x.<br>\n",
       "We recommend you <a href=\"https://www.tensorflow.org/guide/migrate\" target=\"_blank\">upgrade</a> now \n",
       "or ensure your notebook will continue to use TensorFlow 1.x via the <code>%tensorflow_version 1.x</code> magic:\n",
       "<a href=\"https://colab.research.google.com/notebooks/tensorflow_version.ipynb\" target=\"_blank\">more info</a>.</p>\n"
      ],
      "text/plain": [
       "<IPython.core.display.HTML object>"
      ]
     },
     "metadata": {
      "tags": []
     },
     "output_type": "display_data"
    }
   ],
   "source": [
    "import numpy as np\n",
    "import pandas as pd\n",
    "from matplotlib import pyplot\n",
    "import matplotlib.pyplot as plt\n",
    "import cv2\n",
    "from PIL import Image\n",
    "import os\n",
    "import keras\n",
    "from keras.utils import to_categorical"
   ]
  },
  {
   "cell_type": "code",
   "execution_count": 0,
   "metadata": {
    "colab": {},
    "colab_type": "code",
    "id": "zcYDn8b0UURx"
   },
   "outputs": [],
   "source": [
    "import warnings\n",
    "warnings.filterwarnings('ignore')"
   ]
  },
  {
   "cell_type": "code",
   "execution_count": 3,
   "metadata": {
    "colab": {
     "base_uri": "https://localhost:8080/",
     "height": 124
    },
    "colab_type": "code",
    "id": "M23jEPF-Ulyn",
    "outputId": "16c719ff-a728-46e6-8f65-45f04f59392c"
   },
   "outputs": [
    {
     "name": "stdout",
     "output_type": "stream",
     "text": [
      "Go to this URL in a browser: https://accounts.google.com/o/oauth2/auth?client_id=947318989803-6bn6qk8qdgf4n4g3pfee6491hc0brc4i.apps.googleusercontent.com&redirect_uri=urn%3aietf%3awg%3aoauth%3a2.0%3aoob&response_type=code&scope=email%20https%3a%2f%2fwww.googleapis.com%2fauth%2fdocs.test%20https%3a%2f%2fwww.googleapis.com%2fauth%2fdrive%20https%3a%2f%2fwww.googleapis.com%2fauth%2fdrive.photos.readonly%20https%3a%2f%2fwww.googleapis.com%2fauth%2fpeopleapi.readonly\n",
      "\n",
      "Enter your authorization code:\n",
      "··········\n",
      "Mounted at /content/drive\n"
     ]
    }
   ],
   "source": [
    "from google.colab import drive\n",
    "drive.mount('/content/drive')"
   ]
  },
  {
   "cell_type": "code",
   "execution_count": 0,
   "metadata": {
    "colab": {},
    "colab_type": "code",
    "id": "vJO5F6r4UUR0"
   },
   "outputs": [],
   "source": [
    "#defining empty data and label lists\n",
    "data_1 = []\n",
    "labels_1 = []"
   ]
  },
  {
   "cell_type": "code",
   "execution_count": 0,
   "metadata": {
    "colab": {},
    "colab_type": "code",
    "id": "5LIfdyB7UUR4"
   },
   "outputs": [],
   "source": [
    "#importing and processing the infected cell images\n",
    "parasitized = \"/content/cell_images/Parasitized/\"\n",
    "for filename in os.listdir(parasitized):\n",
    "    img = cv2.imread(parasitized+filename)     # Read image as an array\n",
    "    if img is not None:\n",
    "        img_arr = Image.fromarray(img , 'RGB') #Converting image from array to an RGB image.\n",
    "        re_img = img_arr.resize((64 , 64))     #Resizing image\n",
    "        data_1.append(np.array(re_img))          #appending image after converting it back to array\n",
    "        labels_1.append(to_categorical(1, num_classes=2))"
   ]
  },
  {
   "cell_type": "code",
   "execution_count": 0,
   "metadata": {
    "colab": {},
    "colab_type": "code",
    "id": "FVEGXLwDUUR8"
   },
   "outputs": [],
   "source": [
    "#importing and processing the infected cell images\n",
    "uninfected = \"/content/cell_images/Uninfected/\"\n",
    "for filename in os.listdir(uninfected):\n",
    "    img = cv2.imread(uninfected+filename)\n",
    "    if img is not None:\n",
    "        img_arr = Image.fromarray(img , 'RGB')\n",
    "        re_img = img_arr.resize((64 , 64))\n",
    "        data_1.append(np.array(re_img))\n",
    "        labels_1.append(to_categorical(0, num_classes=2))"
   ]
  },
  {
   "cell_type": "code",
   "execution_count": 0,
   "metadata": {
    "colab": {},
    "colab_type": "code",
    "id": "PTt_g2xBlYKn"
   },
   "outputs": [],
   "source": [
    "#Converting data and labels to numpy array\n",
    "data = np.array(data_1)\n",
    "labels = np.array(labels_1)"
   ]
  },
  {
   "cell_type": "code",
   "execution_count": 9,
   "metadata": {
    "colab": {
     "base_uri": "https://localhost:8080/",
     "height": 35
    },
    "colab_type": "code",
    "id": "1IJEitnVlYKq",
    "outputId": "c7781fe7-c634-4204-832c-94bf9da33c68"
   },
   "outputs": [
    {
     "data": {
      "text/plain": [
       "(27558, 64, 64, 3)"
      ]
     },
     "execution_count": 9,
     "metadata": {
      "tags": []
     },
     "output_type": "execute_result"
    }
   ],
   "source": [
    "data.shape"
   ]
  },
  {
   "cell_type": "code",
   "execution_count": 10,
   "metadata": {
    "colab": {
     "base_uri": "https://localhost:8080/",
     "height": 35
    },
    "colab_type": "code",
    "id": "66h7g0sjUUSK",
    "outputId": "603d8e36-102d-4856-8960-01b9f10810f6"
   },
   "outputs": [
    {
     "data": {
      "text/plain": [
       "(27558, 2)"
      ]
     },
     "execution_count": 10,
     "metadata": {
      "tags": []
     },
     "output_type": "execute_result"
    }
   ],
   "source": [
    "labels.shape"
   ]
  },
  {
   "cell_type": "code",
   "execution_count": 11,
   "metadata": {
    "colab": {
     "base_uri": "https://localhost:8080/",
     "height": 451
    },
    "colab_type": "code",
    "id": "vUEEvNr3lYKt",
    "outputId": "526108dc-dc33-4286-b9ea-6bd92ffb0ffc"
   },
   "outputs": [
    {
     "data": {
      "image/png": "[encoded data removed]",
      "text/plain": [
       "<Figure size 1080x504 with 2 Axes>"
      ]
     },
     "metadata": {
      "tags": []
     },
     "output_type": "display_data"
    }
   ],
   "source": [
    "plt.figure(1, figsize = (15 , 7))\n",
    "plt.subplot(1 , 2 , 1)\n",
    "plt.imshow(data[0])\n",
    "plt.title('Infected Cell')\n",
    "plt.xticks([]) , plt.yticks([])\n",
    "\n",
    "plt.subplot(1 , 2 , 2)\n",
    "plt.imshow(data[16000])\n",
    "plt.title('Uninfected Cell')\n",
    "plt.xticks([]) , plt.yticks([])\n",
    "\n",
    "plt.show()"
   ]
  },
  {
   "cell_type": "code",
   "execution_count": 12,
   "metadata": {
    "colab": {
     "base_uri": "https://localhost:8080/",
     "height": 451
    },
    "colab_type": "code",
    "id": "xgzBiAzXUUST",
    "outputId": "106dbcc4-386f-486a-85f6-b543f6b991c1",
    "scrolled": false
   },
   "outputs": [
    {
     "data": {
      "image/png": "[encoded data removed]",
      "text/plain": [
       "<Figure size 1080x504 with 2 Axes>"
      ]
     },
     "metadata": {
      "tags": []
     },
     "output_type": "display_data"
    }
   ],
   "source": [
    "plt.figure(1, figsize = (15 , 7))\n",
    "plt.subplot(1 , 2 , 1)\n",
    "plt.imshow(data[1])\n",
    "plt.title('Infected Cell')\n",
    "plt.xticks([]) , plt.yticks([])\n",
    "\n",
    "plt.subplot(1 , 2 , 2)\n",
    "plt.imshow(data[15999])\n",
    "plt.title('Uninfected Cell')\n",
    "plt.xticks([]) , plt.yticks([])\n",
    "\n",
    "plt.show()"
   ]
  },
  {
   "cell_type": "code",
   "execution_count": 13,
   "metadata": {
    "colab": {
     "base_uri": "https://localhost:8080/",
     "height": 35
    },
    "colab_type": "code",
    "id": "A_fgX4SeUUSW",
    "outputId": "7fd59721-d623-4714-9bae-851ea7044a61"
   },
   "outputs": [
    {
     "data": {
      "text/plain": [
       "27558"
      ]
     },
     "execution_count": 13,
     "metadata": {
      "tags": []
     },
     "output_type": "execute_result"
    }
   ],
   "source": [
    "data.shape[0]"
   ]
  },
  {
   "cell_type": "code",
   "execution_count": 0,
   "metadata": {
    "colab": {},
    "colab_type": "code",
    "id": "p9xrOfaLlYKw"
   },
   "outputs": [],
   "source": [
    "#Initializing a random sequence of number which is the same length as of data\n",
    "n = np.arange(data.shape[0])\n",
    "np.random.shuffle(n)"
   ]
  },
  {
   "cell_type": "code",
   "execution_count": 15,
   "metadata": {
    "colab": {
     "base_uri": "https://localhost:8080/",
     "height": 35
    },
    "colab_type": "code",
    "id": "OBFI_nkWUUSg",
    "outputId": "2359c19c-50f7-4834-c4d5-81204ba992a8"
   },
   "outputs": [
    {
     "data": {
      "text/plain": [
       "array([ 8981,  6601, 21823, ..., 21997, 25217, 25525])"
      ]
     },
     "execution_count": 15,
     "metadata": {
      "tags": []
     },
     "output_type": "execute_result"
    }
   ],
   "source": [
    "n"
   ]
  },
  {
   "cell_type": "code",
   "execution_count": 0,
   "metadata": {
    "colab": {},
    "colab_type": "code",
    "id": "W4MNNJQJlYKz"
   },
   "outputs": [],
   "source": [
    "data = data[n]\n",
    "labels = labels[n]"
   ]
  },
  {
   "cell_type": "code",
   "execution_count": 0,
   "metadata": {
    "colab": {},
    "colab_type": "code",
    "id": "pHPLwQ_oUMYH"
   },
   "outputs": [],
   "source": [
    "data = data[:5000]\n",
    "labels = labels[:5000]"
   ]
  },
  {
   "cell_type": "code",
   "execution_count": 18,
   "metadata": {
    "colab": {
     "base_uri": "https://localhost:8080/",
     "height": 139
    },
    "colab_type": "code",
    "id": "DD_crWOUUUSp",
    "outputId": "61c8e47d-25c3-4873-e2c0-fa7253064dae"
   },
   "outputs": [
    {
     "data": {
      "text/plain": [
       "array([[0., 1.],\n",
       "       [0., 1.],\n",
       "       [1., 0.],\n",
       "       ...,\n",
       "       [1., 0.],\n",
       "       [0., 1.],\n",
       "       [0., 1.]], dtype=float32)"
      ]
     },
     "execution_count": 18,
     "metadata": {
      "tags": []
     },
     "output_type": "execute_result"
    }
   ],
   "source": [
    "labels"
   ]
  },
  {
   "cell_type": "code",
   "execution_count": 0,
   "metadata": {
    "colab": {},
    "colab_type": "code",
    "id": "QdXX7ccllYK2"
   },
   "outputs": [],
   "source": [
    "#Changing data type to float\n",
    "data = data.astype(np.float32)\n",
    "labels = labels.astype(np.int32)"
   ]
  },
  {
   "cell_type": "code",
   "execution_count": 0,
   "metadata": {
    "colab": {},
    "colab_type": "code",
    "id": "UpfJv7-WlYK6"
   },
   "outputs": [],
   "source": [
    "#Scaling the data\n",
    "data = data/255"
   ]
  },
  {
   "cell_type": "code",
   "execution_count": 0,
   "metadata": {
    "colab": {},
    "colab_type": "code",
    "id": "OY8h9deslYK9"
   },
   "outputs": [],
   "source": [
    "#Splitting the data into train and eval\n",
    "from sklearn.model_selection import train_test_split\n",
    "\n",
    "train_x , eval_x , train_y , eval_y = train_test_split(data , labels , \n",
    "                                            test_size = 0.3 ,\n",
    "                                            random_state = 111)"
   ]
  },
  {
   "cell_type": "code",
   "execution_count": 0,
   "metadata": {
    "colab": {},
    "colab_type": "code",
    "id": "hRUFtQX_UUS3"
   },
   "outputs": [],
   "source": [
    "#Splitting data into test and validation\n",
    "val_x , test_x , val_y , test_y = train_test_split(eval_x, eval_y , \n",
    "                                            test_size = 0.5 ,\n",
    "                                            random_state = 111)"
   ]
  },
  {
   "cell_type": "code",
   "execution_count": 23,
   "metadata": {
    "colab": {
     "base_uri": "https://localhost:8080/",
     "height": 35
    },
    "colab_type": "code",
    "id": "UJq0MCCflYLB",
    "outputId": "c7c57799-2a06-4762-e890-db4a80cd9aa6"
   },
   "outputs": [
    {
     "name": "stdout",
     "output_type": "stream",
     "text": [
      "train data shape (3500, 64, 64, 3) ,val data shape (750, 64, 64, 3) \n"
     ]
    }
   ],
   "source": [
    "print('train data shape {} ,val data shape {} '.format(train_x.shape, val_x.shape))"
   ]
  },
  {
   "cell_type": "code",
   "execution_count": 0,
   "metadata": {
    "colab": {},
    "colab_type": "code",
    "id": "dNuiFlj1lYLF"
   },
   "outputs": [],
   "source": [
    "# Generating augmented images\n",
    "\n",
    "'''from keras.preprocessing.image import ImageDataGenerator\n",
    "\n",
    "train_aug = ImageDataGenerator(\n",
    "    rescale=1./255,\n",
    "    shear_range=0.2,  \n",
    "    zoom_range=0.2,        \n",
    "    horizontal_flip=True,\n",
    "    vertical_flip=True)  \n",
    "\n",
    "val_aug= ImageDataGenerator(\n",
    "    rescale=1./255)\n",
    "\n",
    "test_aug= ImageDataGenerator(\n",
    "    rescale=1./255)\n",
    "\n",
    "train_gen = train_aug.flow(\n",
    "    train_x,\n",
    "    train_y,\n",
    "    batch_size=16)\n",
    "\n",
    "val_gen = val_aug.flow(\n",
    "    val_x,\n",
    "    val_y,\n",
    "    batch_size=16)\n",
    "\n",
    "test_gen = test_aug.flow(\n",
    "    test_x,\n",
    "    test_y,\n",
    "    batch_size=16)'''"
   ]
  },
  {
   "cell_type": "code",
   "execution_count": 0,
   "metadata": {
    "colab": {},
    "colab_type": "code",
    "id": "WZzNJ936lYLJ"
   },
   "outputs": [],
   "source": [
    "def show_final_history(history):\n",
    "    fig, ax = plt.subplots(1, 2, figsize=(15,5))\n",
    "    ax[0].set_title('loss')\n",
    "    ax[0].plot(history.epoch, history.history[\"loss\"], label=\"Train loss\")\n",
    "    ax[0].plot(history.epoch, history.history[\"val_loss\"], label=\"Validation loss\")\n",
    "    ax[1].set_title('acc')\n",
    "    ax[1].plot(history.epoch, history.history[\"acc\"], label=\"Train acc\")\n",
    "    ax[1].plot(history.epoch, history.history[\"val_acc\"], label=\"Validation acc\")\n",
    "    ax[0].legend()\n",
    "    ax[1].legend()"
   ]
  },
  {
   "cell_type": "code",
   "execution_count": 0,
   "metadata": {
    "colab": {},
    "colab_type": "code",
    "id": "CnZz8hoLUUTJ"
   },
   "outputs": [],
   "source": [
    "from keras.models import Sequential\n",
    "from keras.layers import SeparableConv2D,BatchNormalization,MaxPooling2D,Conv2D\n",
    "from keras.callbacks import ModelCheckpoint,EarlyStopping,ReduceLROnPlateau\n",
    "from keras.layers import Dense,Flatten,Dropout,Lambda"
   ]
  },
  {
   "cell_type": "code",
   "execution_count": 26,
   "metadata": {
    "colab": {
     "base_uri": "https://localhost:8080/",
     "height": 1000
    },
    "colab_type": "code",
    "id": "ll8hJpQAlYLN",
    "outputId": "ec504c27-509e-4718-d4ce-b0dc91229f59"
   },
   "outputs": [
    {
     "name": "stdout",
     "output_type": "stream",
     "text": [
      "WARNING:tensorflow:From /usr/local/lib/python3.6/dist-packages/keras/backend/tensorflow_backend.py:66: The name tf.get_default_graph is deprecated. Please use tf.compat.v1.get_default_graph instead.\n",
      "\n",
      "WARNING:tensorflow:From /usr/local/lib/python3.6/dist-packages/keras/backend/tensorflow_backend.py:541: The name tf.placeholder is deprecated. Please use tf.compat.v1.placeholder instead.\n",
      "\n",
      "WARNING:tensorflow:From /usr/local/lib/python3.6/dist-packages/keras/backend/tensorflow_backend.py:4432: The name tf.random_uniform is deprecated. Please use tf.random.uniform instead.\n",
      "\n",
      "WARNING:tensorflow:From /usr/local/lib/python3.6/dist-packages/keras/backend/tensorflow_backend.py:190: The name tf.get_default_session is deprecated. Please use tf.compat.v1.get_default_session instead.\n",
      "\n",
      "WARNING:tensorflow:From /usr/local/lib/python3.6/dist-packages/keras/backend/tensorflow_backend.py:197: The name tf.ConfigProto is deprecated. Please use tf.compat.v1.ConfigProto instead.\n",
      "\n",
      "WARNING:tensorflow:From /usr/local/lib/python3.6/dist-packages/keras/backend/tensorflow_backend.py:203: The name tf.Session is deprecated. Please use tf.compat.v1.Session instead.\n",
      "\n",
      "WARNING:tensorflow:From /usr/local/lib/python3.6/dist-packages/keras/backend/tensorflow_backend.py:207: The name tf.global_variables is deprecated. Please use tf.compat.v1.global_variables instead.\n",
      "\n",
      "WARNING:tensorflow:From /usr/local/lib/python3.6/dist-packages/keras/backend/tensorflow_backend.py:216: The name tf.is_variable_initialized is deprecated. Please use tf.compat.v1.is_variable_initialized instead.\n",
      "\n",
      "WARNING:tensorflow:From /usr/local/lib/python3.6/dist-packages/keras/backend/tensorflow_backend.py:223: The name tf.variables_initializer is deprecated. Please use tf.compat.v1.variables_initializer instead.\n",
      "\n",
      "WARNING:tensorflow:From /usr/local/lib/python3.6/dist-packages/keras/backend/tensorflow_backend.py:2041: The name tf.nn.fused_batch_norm is deprecated. Please use tf.compat.v1.nn.fused_batch_norm instead.\n",
      "\n",
      "WARNING:tensorflow:From /usr/local/lib/python3.6/dist-packages/keras/backend/tensorflow_backend.py:148: The name tf.placeholder_with_default is deprecated. Please use tf.compat.v1.placeholder_with_default instead.\n",
      "\n",
      "WARNING:tensorflow:From /usr/local/lib/python3.6/dist-packages/keras/backend/tensorflow_backend.py:4267: The name tf.nn.max_pool is deprecated. Please use tf.nn.max_pool2d instead.\n",
      "\n",
      "WARNING:tensorflow:From /usr/local/lib/python3.6/dist-packages/keras/backend/tensorflow_backend.py:3733: calling dropout (from tensorflow.python.ops.nn_ops) with keep_prob is deprecated and will be removed in a future version.\n",
      "Instructions for updating:\n",
      "Please use `rate` instead of `keep_prob`. Rate should be set to `rate = 1 - keep_prob`.\n",
      "Model: \"sequential_1\"\n",
      "_________________________________________________________________\n",
      "Layer (type)                 Output Shape              Param #   \n",
      "=================================================================\n",
      "lambda_1 (Lambda)            (None, 64, 64, 3)         0         \n",
      "_________________________________________________________________\n",
      "block_1 (Conv2D)             (None, 62, 62, 64)        1792      \n",
      "_________________________________________________________________\n",
      "batch_normalization_1 (Batch (None, 62, 62, 64)        256       \n",
      "_________________________________________________________________\n",
      "max_pooling2d_1 (MaxPooling2 (None, 31, 31, 64)        0         \n",
      "_________________________________________________________________\n",
      "dropout_1 (Dropout)          (None, 31, 31, 64)        0         \n",
      "_________________________________________________________________\n",
      "block_2 (Conv2D)             (None, 29, 29, 64)        36928     \n",
      "_________________________________________________________________\n",
      "batch_normalization_2 (Batch (None, 29, 29, 64)        256       \n",
      "_________________________________________________________________\n",
      "max_pooling2d_2 (MaxPooling2 (None, 14, 14, 64)        0         \n",
      "_________________________________________________________________\n",
      "dropout_2 (Dropout)          (None, 14, 14, 64)        0         \n",
      "_________________________________________________________________\n",
      "block_3 (Conv2D)             (None, 12, 12, 64)        36928     \n",
      "_________________________________________________________________\n",
      "batch_normalization_3 (Batch (None, 12, 12, 64)        256       \n",
      "_________________________________________________________________\n",
      "max_pooling2d_3 (MaxPooling2 (None, 6, 6, 64)          0         \n",
      "_________________________________________________________________\n",
      "dropout_3 (Dropout)          (None, 6, 6, 64)          0         \n",
      "_________________________________________________________________\n",
      "flatten_1 (Flatten)          (None, 2304)              0         \n",
      "_________________________________________________________________\n",
      "dense_1 (Dense)              (None, 256)               590080    \n",
      "_________________________________________________________________\n",
      "dropout_4 (Dropout)          (None, 256)               0         \n",
      "_________________________________________________________________\n",
      "dense_2 (Dense)              (None, 2)                 514       \n",
      "=================================================================\n",
      "Total params: 667,010\n",
      "Trainable params: 666,626\n",
      "Non-trainable params: 384\n",
      "_________________________________________________________________\n"
     ]
    }
   ],
   "source": [
    "#Defining model layers and parameters\n",
    "def ConvBlock(model, layers, filters,name):\n",
    "    for i in range(layers):\n",
    "        model.add(Conv2D(filters, (3, 3), activation='relu',name=name))\n",
    "        model.add(BatchNormalization())\n",
    "        model.add(MaxPooling2D((2, 2)))\n",
    "        model.add(Dropout(0.2))\n",
    "    \n",
    "def FCN():\n",
    "    model = Sequential()\n",
    "    model.add(Lambda(lambda x: x, input_shape=(64, 64, 3)))\n",
    "    ConvBlock(model, 1, 64,'block_1')\n",
    "    ConvBlock(model, 1, 64,'block_2')\n",
    "    ConvBlock(model, 1, 64,'block_3')\n",
    "    #ConvBlock(model, 1, 64,'block_4')\n",
    "    model.add(Flatten())\n",
    "    model.add(Dense(256,activation='relu'))\n",
    "    model.add(Dropout(0.2))\n",
    "    model.add(Dense(2,activation='sigmoid'))\n",
    "    return model\n",
    "\n",
    "model = FCN()\n",
    "model.summary()"
   ]
  },
  {
   "cell_type": "code",
   "execution_count": 0,
   "metadata": {
    "colab": {},
    "colab_type": "code",
    "id": "yHla-NVDlYLQ"
   },
   "outputs": [],
   "source": [
    "# Defining Callbacks\n",
    "best_model_weights = './base.model'\n",
    "\n",
    "earlystop = EarlyStopping(       # Stop training when a monitored quantity has stopped improving.\n",
    "    monitor='val_loss',\n",
    "    min_delta=0.001,\n",
    "    patience=7,\n",
    "    verbose=2,\n",
    "    mode='min')\n",
    "\n",
    "checkpoint = ModelCheckpoint(\n",
    "    best_model_weights,\n",
    "    monitor='val_loss',\n",
    "    verbose=1,\n",
    "    save_best_only=True,\n",
    "    mode='min',\n",
    "    save_weights_only=False,\n",
    "    period=1)\n",
    "\n",
    "reducelr = ReduceLROnPlateau(    #Reduce learning rate when a metric has stopped improving\n",
    "    monitor='val_loss',\n",
    "    factor=0.5,\n",
    "    patience=40,\n",
    "    verbose=1, \n",
    "    mode='auto',\n",
    "    cooldown=1 )\n",
    "\n",
    "callbacks = [earlystop]"
   ]
  },
  {
   "cell_type": "code",
   "execution_count": 28,
   "metadata": {
    "colab": {
     "base_uri": "https://localhost:8080/",
     "height": 592
    },
    "colab_type": "code",
    "id": "DjIAmDE-lYLT",
    "outputId": "7212343d-a3f9-4b1f-aaed-874748f31382"
   },
   "outputs": [
    {
     "name": "stdout",
     "output_type": "stream",
     "text": [
      "WARNING:tensorflow:From /usr/local/lib/python3.6/dist-packages/keras/optimizers.py:793: The name tf.train.Optimizer is deprecated. Please use tf.compat.v1.train.Optimizer instead.\n",
      "\n",
      "WARNING:tensorflow:From /usr/local/lib/python3.6/dist-packages/keras/backend/tensorflow_backend.py:3657: The name tf.log is deprecated. Please use tf.math.log instead.\n",
      "\n",
      "WARNING:tensorflow:From /usr/local/lib/python3.6/dist-packages/tensorflow_core/python/ops/nn_impl.py:183: where (from tensorflow.python.ops.array_ops) is deprecated and will be removed in a future version.\n",
      "Instructions for updating:\n",
      "Use tf.where in 2.0, which has the same broadcast rule as np.where\n",
      "WARNING:tensorflow:From /usr/local/lib/python3.6/dist-packages/keras/backend/tensorflow_backend.py:1033: The name tf.assign_add is deprecated. Please use tf.compat.v1.assign_add instead.\n",
      "\n",
      "WARNING:tensorflow:From /usr/local/lib/python3.6/dist-packages/keras/backend/tensorflow_backend.py:1020: The name tf.assign is deprecated. Please use tf.compat.v1.assign instead.\n",
      "\n",
      "Epoch 1/10\n",
      "3500/3500 [==============================] - 9s 2ms/step - loss: 0.6526 - acc: 0.6884\n",
      "Epoch 2/10\n",
      "3500/3500 [==============================] - 2s 511us/step - loss: 0.2958 - acc: 0.8827\n",
      "Epoch 3/10\n",
      "3500/3500 [==============================] - 2s 520us/step - loss: 0.1877 - acc: 0.9374\n",
      "Epoch 4/10\n",
      "3500/3500 [==============================] - 2s 511us/step - loss: 0.1760 - acc: 0.9394\n",
      "Epoch 5/10\n",
      "3500/3500 [==============================] - 2s 521us/step - loss: 0.1405 - acc: 0.9486\n",
      "Epoch 6/10\n",
      "3500/3500 [==============================] - 2s 526us/step - loss: 0.1412 - acc: 0.9539\n",
      "Epoch 7/10\n",
      "3500/3500 [==============================] - 2s 517us/step - loss: 0.1206 - acc: 0.9601\n",
      "Epoch 8/10\n",
      "3500/3500 [==============================] - 2s 535us/step - loss: 0.1109 - acc: 0.9604\n",
      "Epoch 9/10\n",
      "3500/3500 [==============================] - 2s 526us/step - loss: 0.1014 - acc: 0.9663\n",
      "Epoch 10/10\n",
      "3500/3500 [==============================] - 2s 522us/step - loss: 0.0756 - acc: 0.9724\n"
     ]
    },
    {
     "data": {
      "text/plain": [
       "'history = model.fit_generator(\\n    train_gen, \\n    steps_per_epoch  = 500, \\n    validation_data  = val_gen,\\n    validation_steps = 200,\\n    epochs = 10,\\n    #max_queue_size=10,\\n    use_multiprocessing=True,\\n    workers=-1, \\n    verbose = 1,\\n    callbacks=callbacks\\n)'"
      ]
     },
     "execution_count": 28,
     "metadata": {
      "tags": []
     },
     "output_type": "execute_result"
    }
   ],
   "source": [
    "# Compiling model and fitting the data\n",
    "\n",
    "model.compile(\n",
    "    loss='binary_crossentropy',\n",
    "    optimizer= 'adam', #try opt1 and directly adam\n",
    "    metrics=['accuracy']\n",
    ")\n",
    "\n",
    "history = model.fit(x=train_x, y=train_y, batch_size=16,\n",
    "                        epochs=10, verbose=1, callbacks=callbacks,\n",
    "                        max_queue_size=10, workers=1, use_multiprocessing=False)\n",
    "\n",
    "'''history = model.fit_generator(\n",
    "    train_gen, \n",
    "    steps_per_epoch  = 500, \n",
    "    validation_data  = val_gen,\n",
    "    validation_steps = 200,\n",
    "    epochs = 10,\n",
    "    #max_queue_size=10,\n",
    "    use_multiprocessing=True,\n",
    "    workers=-1, \n",
    "    verbose = 1,\n",
    "    callbacks=callbacks\n",
    ")'''"
   ]
  },
  {
   "cell_type": "code",
   "execution_count": 29,
   "metadata": {
    "colab": {
     "base_uri": "https://localhost:8080/",
     "height": 69
    },
    "colab_type": "code",
    "id": "7LNjfd20UUTW",
    "outputId": "82efff79-45a8-4afe-cace-ec709c6ea8f3"
   },
   "outputs": [
    {
     "name": "stdout",
     "output_type": "stream",
     "text": [
      "1500/1500 [==============================] - 0s 232us/step\n",
      "Model Test Loss: 0.19279473927617072\n",
      "Model Test Accuracy: 0.951\n"
     ]
    }
   ],
   "source": [
    "model_score = model.evaluate(x=eval_x, y=eval_y)\n",
    "print(\"Model Test Loss:\",model_score[0])\n",
    "print(\"Model Test Accuracy:\",model_score[1])"
   ]
  },
  {
   "cell_type": "code",
   "execution_count": 0,
   "metadata": {
    "colab": {
     "base_uri": "https://localhost:8080/",
     "height": 52
    },
    "colab_type": "code",
    "id": "1KC9ixb_ybzM",
    "outputId": "a22d95d6-4373-4ab6-f441-5576fef0b14a"
   },
   "outputs": [
    {
     "name": "stdout",
     "output_type": "stream",
     "text": [
      "Model Test Loss: 0.2139452454146175\n",
      "Model Test Accuracy: 0.9417293234576557\n"
     ]
    }
   ],
   "source": [
    "#model_score = model.evaluate_generator(test_gen,steps=50)\n",
    "#print(\"Model Test Loss:\",model_score[0])\n",
    "#print(\"Model Test Accuracy:\",model_score[1])"
   ]
  },
  {
   "cell_type": "code",
   "execution_count": 0,
   "metadata": {
    "colab": {
     "base_uri": "https://localhost:8080/",
     "height": 52
    },
    "colab_type": "code",
    "id": "InTB-YLwrCdT",
    "outputId": "8336f0ec-32eb-4d70-bf15-e6ee0407557c"
   },
   "outputs": [
    {
     "name": "stdout",
     "output_type": "stream",
     "text": [
      "Model Test Loss: 0.14023035690468505\n",
      "Model Test Accuracy: 0.9611528822055138\n"
     ]
    }
   ],
   "source": [
    "#model_score = model.evaluate_generator(val_gen,steps=50)\n",
    "#print(\"Model Test Loss:\",model_score[0])\n",
    "#print(\"Model Test Accuracy:\",model_score[1])"
   ]
  },
  {
   "cell_type": "code",
   "execution_count": 0,
   "metadata": {
    "colab": {},
    "colab_type": "code",
    "id": "ffDo8AqYUUTZ"
   },
   "outputs": [],
   "source": [
    "#show_final_history(history)"
   ]
  },
  {
   "cell_type": "code",
   "execution_count": 32,
   "metadata": {
    "colab": {
     "base_uri": "https://localhost:8080/",
     "height": 277
    },
    "colab_type": "code",
    "id": "_JKvjvSNlYLh",
    "outputId": "e34fac46-c63d-49e2-9755-c9ba6065ec10"
   },
   "outputs": [
    {
     "name": "stdout",
     "output_type": "stream",
     "text": [
      "Confusion Matrix\n",
      "[[389   7]\n",
      " [ 28 326]]\n",
      "--\n",
      "--\n",
      "Classification Report\n",
      "              precision    recall  f1-score   support\n",
      "\n",
      "           0       0.93      0.98      0.96       396\n",
      "           1       0.98      0.92      0.95       354\n",
      "\n",
      "    accuracy                           0.95       750\n",
      "   macro avg       0.96      0.95      0.95       750\n",
      "weighted avg       0.95      0.95      0.95       750\n",
      "\n"
     ]
    }
   ],
   "source": [
    "from sklearn.metrics import confusion_matrix, classification_report\n",
    "pred = model.predict(test_x)\n",
    "pred = np.argmax(pred,axis = 1) \n",
    "y_true = np.argmax(test_y,axis = 1)\n",
    "\n",
    "CM = confusion_matrix(y_true, pred)\n",
    "print(\"Confusion Matrix\")\n",
    "print(CM)\n",
    "print(\"--\")\n",
    "print(\"--\")\n",
    "print(\"Classification Report\")\n",
    "print(classification_report(y_true, pred))"
   ]
  },
  {
   "cell_type": "code",
   "execution_count": 0,
   "metadata": {
    "colab": {},
    "colab_type": "code",
    "id": "TTD9lTillYL1"
   },
   "outputs": [],
   "source": []
  },
  {
   "cell_type": "code",
   "execution_count": 0,
   "metadata": {
    "colab": {},
    "colab_type": "code",
    "id": "oG3LwVYBlYL3"
   },
   "outputs": [],
   "source": []
  },
  {
   "cell_type": "code",
   "execution_count": 0,
   "metadata": {
    "colab": {},
    "colab_type": "code",
    "id": "bSRv37f1lYL6"
   },
   "outputs": [],
   "source": []
  },
  {
   "cell_type": "code",
   "execution_count": 0,
   "metadata": {
    "colab": {},
    "colab_type": "code",
    "id": "FEFkEYKelYL_"
   },
   "outputs": [],
   "source": []
  }
 ],
 "metadata": {
  "accelerator": "GPU",
  "colab": {
   "collapsed_sections": [],
   "name": "Malaria_prediction_2_wo_gen.ipynb",
   "provenance": []
  },
  "kernelspec": {
   "display_name": "Python 3",
   "language": "python",
   "name": "python3"
  },
  "language_info": {
   "codemirror_mode": {
    "name": "ipython",
    "version": 3
   },
   "file_extension": ".py",
   "mimetype": "text/x-python",
   "name": "python",
   "nbconvert_exporter": "python",
   "pygments_lexer": "ipython3",
   "version": "3.7.3"
  }
 },
 "nbformat": 4,
 "nbformat_minor": 1
}
