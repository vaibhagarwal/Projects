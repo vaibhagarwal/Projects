{
 "cells": [
  {
   "cell_type": "code",
   "execution_count": 0,
   "metadata": {
    "colab": {},
    "colab_type": "code",
    "id": "Set0MNg7lYKV"
   },
   "outputs": [],
   "source": [
    "import numpy as np\n",
    "import pandas as pd\n",
    "from matplotlib import pyplot\n",
    "import matplotlib.pyplot as plt\n",
    "import cv2\n",
    "from PIL import Image\n",
    "import os\n",
    "import keras\n",
    "from keras.utils import to_categorical"
   ]
  },
  {
   "cell_type": "code",
   "execution_count": 0,
   "metadata": {
    "colab": {},
    "colab_type": "code",
    "id": "zcYDn8b0UURx"
   },
   "outputs": [],
   "source": [
    "import warnings\n",
    "warnings.filterwarnings('ignore')"
   ]
  },
  {
   "cell_type": "code",
   "execution_count": 0,
   "metadata": {
    "colab": {},
    "colab_type": "code",
    "id": "vJO5F6r4UUR0"
   },
   "outputs": [],
   "source": [
    "#defining empty data and label lists\n",
    "data_1 = []\n",
    "labels_1 = []"
   ]
  },
  {
   "cell_type": "code",
   "execution_count": 0,
   "metadata": {
    "colab": {},
    "colab_type": "code",
    "id": "5LIfdyB7UUR4"
   },
   "outputs": [],
   "source": [
    "#importing and processing the infected cell images\n",
    "parasitized = \"/content/cell_images/Parasitized/\"\n",
    "for filename in os.listdir(parasitized):\n",
    "    img = cv2.imread(parasitized+filename)     # Read image as an array\n",
    "    if img is not None:\n",
    "        img_arr = Image.fromarray(img , 'RGB') #Converting image from array to an RGB image.\n",
    "        re_img = img_arr.resize((64 , 64))     #Resizing image\n",
    "        data_1.append(np.array(re_img))          #appending image after converting it back to array\n",
    "        labels_1.append(to_categorical(1, num_classes=2))"
   ]
  },
  {
   "cell_type": "code",
   "execution_count": 0,
   "metadata": {
    "colab": {},
    "colab_type": "code",
    "id": "FVEGXLwDUUR8"
   },
   "outputs": [],
   "source": [
    "#importing and processing the infected cell images\n",
    "uninfected = \"/content/cell_images/Uninfected/\"\n",
    "for filename in os.listdir(uninfected):\n",
    "    img = cv2.imread(uninfected+filename)\n",
    "    if img is not None:\n",
    "        img_arr = Image.fromarray(img , 'RGB')\n",
    "        re_img = img_arr.resize((64 , 64))\n",
    "        data_1.append(np.array(re_img))\n",
    "        labels_1.append(to_categorical(0, num_classes=2))"
   ]
  },
  {
   "cell_type": "code",
   "execution_count": 0,
   "metadata": {
    "colab": {},
    "colab_type": "code",
    "id": "PTt_g2xBlYKn"
   },
   "outputs": [],
   "source": [
    "#Converting data and labels to numpy array\n",
    "data = np.array(data_1)\n",
    "labels = np.array(labels_1)"
   ]
  },
  {
   "cell_type": "code",
   "execution_count": 52,
   "metadata": {
    "colab": {
     "base_uri": "https://localhost:8080/",
     "height": 35
    },
    "colab_type": "code",
    "id": "1IJEitnVlYKq",
    "outputId": "f5c04464-5d5a-4b12-a0e1-a9c684d774c1"
   },
   "outputs": [
    {
     "data": {
      "text/plain": [
       "(27558, 64, 64, 3)"
      ]
     },
     "execution_count": 52,
     "metadata": {
      "tags": []
     },
     "output_type": "execute_result"
    }
   ],
   "source": [
    "#Shape of data\n",
    "data.shape"
   ]
  },
  {
   "cell_type": "code",
   "execution_count": 53,
   "metadata": {
    "colab": {
     "base_uri": "https://localhost:8080/",
     "height": 35
    },
    "colab_type": "code",
    "id": "66h7g0sjUUSK",
    "outputId": "f4ca3efc-bf3f-4461-a118-5972afa4c76e"
   },
   "outputs": [
    {
     "data": {
      "text/plain": [
       "(27558, 2)"
      ]
     },
     "execution_count": 53,
     "metadata": {
      "tags": []
     },
     "output_type": "execute_result"
    }
   ],
   "source": [
    "#Shape of labels\n",
    "labels.shape"
   ]
  },
  {
   "cell_type": "code",
   "execution_count": 54,
   "metadata": {
    "colab": {
     "base_uri": "https://localhost:8080/",
     "height": 431
    },
    "colab_type": "code",
    "id": "vUEEvNr3lYKt",
    "outputId": "d3753385-8907-4e8d-cd8d-1291b904e671"
   },
   "outputs": [
    {
     "data": {
      "image/png": "[encoded data removed]",
      "text/plain": [
       "<Figure size 1080x504 with 2 Axes>"
      ]
     },
     "metadata": {
      "tags": []
     },
     "output_type": "display_data"
    }
   ],
   "source": [
    "plt.figure(1, figsize = (15 , 7))\n",
    "plt.subplot(1 , 2 , 1)\n",
    "plt.imshow(data[0])\n",
    "plt.title('Infected Cell')\n",
    "plt.xticks([]) , plt.yticks([])\n",
    "\n",
    "plt.subplot(1 , 2 , 2)\n",
    "plt.imshow(data[16000])\n",
    "plt.title('Uninfected Cell')\n",
    "plt.xticks([]) , plt.yticks([])\n",
    "\n",
    "plt.show()"
   ]
  },
  {
   "cell_type": "code",
   "execution_count": 55,
   "metadata": {
    "colab": {
     "base_uri": "https://localhost:8080/",
     "height": 431
    },
    "colab_type": "code",
    "id": "xgzBiAzXUUST",
    "outputId": "625a3059-08df-49e2-91f1-b691a6edf47b",
    "scrolled": false
   },
   "outputs": [
    {
     "data": {
      "image/png": "[encoded data removed]",
      "text/plain": [
       "<Figure size 1080x504 with 2 Axes>"
      ]
     },
     "metadata": {
      "tags": []
     },
     "output_type": "display_data"
    }
   ],
   "source": [
    "plt.figure(1, figsize = (15 , 7))\n",
    "plt.subplot(1 , 2 , 1)\n",
    "plt.imshow(data[1])\n",
    "plt.title('Infected Cell')\n",
    "plt.xticks([]) , plt.yticks([])\n",
    "\n",
    "plt.subplot(1 , 2 , 2)\n",
    "plt.imshow(data[15999])\n",
    "plt.title('Uninfected Cell')\n",
    "plt.xticks([]) , plt.yticks([])\n",
    "\n",
    "plt.show()"
   ]
  },
  {
   "cell_type": "code",
   "execution_count": 56,
   "metadata": {
    "colab": {
     "base_uri": "https://localhost:8080/",
     "height": 35
    },
    "colab_type": "code",
    "id": "A_fgX4SeUUSW",
    "outputId": "c5afc36d-a3cf-4d17-fbf3-b8cf12564d84"
   },
   "outputs": [
    {
     "data": {
      "text/plain": [
       "27558"
      ]
     },
     "execution_count": 56,
     "metadata": {
      "tags": []
     },
     "output_type": "execute_result"
    }
   ],
   "source": [
    "data.shape[0]"
   ]
  },
  {
   "cell_type": "code",
   "execution_count": 0,
   "metadata": {
    "colab": {},
    "colab_type": "code",
    "id": "p9xrOfaLlYKw"
   },
   "outputs": [],
   "source": [
    "#Initializing a random sequence of number which is the same length as of data\n",
    "np.random.seed(21)\n",
    "n = np.arange(data.shape[0])\n",
    "np.random.shuffle(n)"
   ]
  },
  {
   "cell_type": "code",
   "execution_count": 58,
   "metadata": {
    "colab": {
     "base_uri": "https://localhost:8080/",
     "height": 35
    },
    "colab_type": "code",
    "id": "OBFI_nkWUUSg",
    "outputId": "10875358-d89d-4bfb-ef94-6385b57c0354"
   },
   "outputs": [
    {
     "data": {
      "text/plain": [
       "array([ 9908,  2649, 17946, ...,  5944,  5327, 15305])"
      ]
     },
     "execution_count": 58,
     "metadata": {
      "tags": []
     },
     "output_type": "execute_result"
    }
   ],
   "source": [
    "n"
   ]
  },
  {
   "cell_type": "code",
   "execution_count": 0,
   "metadata": {
    "colab": {},
    "colab_type": "code",
    "id": "W4MNNJQJlYKz"
   },
   "outputs": [],
   "source": [
    "#Shuffling data\n",
    "data = data[n]\n",
    "labels = labels[n]"
   ]
  },
  {
   "cell_type": "code",
   "execution_count": 61,
   "metadata": {
    "colab": {
     "base_uri": "https://localhost:8080/",
     "height": 139
    },
    "colab_type": "code",
    "id": "DD_crWOUUUSp",
    "outputId": "d0433ced-4f6e-4649-f426-f17327adf0b2"
   },
   "outputs": [
    {
     "data": {
      "text/plain": [
       "array([[0., 1.],\n",
       "       [0., 1.],\n",
       "       [1., 0.],\n",
       "       ...,\n",
       "       [0., 1.],\n",
       "       [0., 1.],\n",
       "       [1., 0.]], dtype=float32)"
      ]
     },
     "execution_count": 61,
     "metadata": {
      "tags": []
     },
     "output_type": "execute_result"
    }
   ],
   "source": [
    "labels"
   ]
  },
  {
   "cell_type": "code",
   "execution_count": 0,
   "metadata": {
    "colab": {},
    "colab_type": "code",
    "id": "QdXX7ccllYK2"
   },
   "outputs": [],
   "source": [
    "#Changing data type to float\n",
    "data = data.astype(np.float32)\n",
    "labels = labels.astype(np.int32)"
   ]
  },
  {
   "cell_type": "code",
   "execution_count": 0,
   "metadata": {
    "colab": {},
    "colab_type": "code",
    "id": "UpfJv7-WlYK6"
   },
   "outputs": [],
   "source": [
    "#Scaling the data\n",
    "data = data/255"
   ]
  },
  {
   "cell_type": "code",
   "execution_count": 0,
   "metadata": {
    "colab": {},
    "colab_type": "code",
    "id": "OY8h9deslYK9"
   },
   "outputs": [],
   "source": [
    "#Splitting the data into train and eval\n",
    "from sklearn.model_selection import train_test_split\n",
    "\n",
    "train_x , eval_x , train_y , eval_y = train_test_split(data , labels , \n",
    "                                            test_size = 0.3 ,\n",
    "                                            random_state = 111)"
   ]
  },
  {
   "cell_type": "code",
   "execution_count": 0,
   "metadata": {
    "colab": {},
    "colab_type": "code",
    "id": "hRUFtQX_UUS3"
   },
   "outputs": [],
   "source": [
    "#Splitting data into test and validation\n",
    "val_x , test_x , val_y , test_y = train_test_split(eval_x, eval_y , \n",
    "                                            test_size = 0.5 ,\n",
    "                                            random_state = 111)"
   ]
  },
  {
   "cell_type": "code",
   "execution_count": 66,
   "metadata": {
    "colab": {
     "base_uri": "https://localhost:8080/",
     "height": 35
    },
    "colab_type": "code",
    "id": "UJq0MCCflYLB",
    "outputId": "458fb35d-5551-4087-8bf8-c9da05a239f8"
   },
   "outputs": [
    {
     "name": "stdout",
     "output_type": "stream",
     "text": [
      "train data shape (19290, 64, 64, 3) ,val data shape (4134, 64, 64, 3) \n"
     ]
    }
   ],
   "source": [
    "print('train data shape {} ,val data shape {} '.format(train_x.shape, val_x.shape))"
   ]
  },
  {
   "cell_type": "code",
   "execution_count": 0,
   "metadata": {
    "colab": {},
    "colab_type": "code",
    "id": "dNuiFlj1lYLF"
   },
   "outputs": [],
   "source": [
    "# Generating augmented images\n",
    "\n",
    "from keras.preprocessing.image import ImageDataGenerator\n",
    "\n",
    "train_aug = ImageDataGenerator(\n",
    "    rescale=1./255,\n",
    "    shear_range=0.2,  \n",
    "    zoom_range=0.2,        \n",
    "    horizontal_flip=True,\n",
    "    vertical_flip=True)  \n",
    "\n",
    "val_aug= ImageDataGenerator(\n",
    "    rescale=1./255)\n",
    "\n",
    "test_aug= ImageDataGenerator(\n",
    "    rescale=1./255)\n",
    "\n",
    "train_gen = train_aug.flow(\n",
    "    train_x,\n",
    "    train_y,\n",
    "    batch_size=16)\n",
    "\n",
    "val_gen = val_aug.flow(\n",
    "    val_x,\n",
    "    val_y,\n",
    "    batch_size=16)\n",
    "\n",
    "test_gen = test_aug.flow(\n",
    "    test_x,\n",
    "    test_y,\n",
    "    #class_mode = \"categorical\",\n",
    "    shuffle=False,\n",
    "    batch_size=16)"
   ]
  },
  {
   "cell_type": "code",
   "execution_count": 0,
   "metadata": {
    "colab": {},
    "colab_type": "code",
    "id": "WZzNJ936lYLJ"
   },
   "outputs": [],
   "source": [
    "def show_final_history(history):\n",
    "    fig, ax = plt.subplots(1, 2, figsize=(15,5))\n",
    "    ax[0].set_title('loss')\n",
    "    ax[0].plot(history.epoch, history.history[\"loss\"], label=\"Train loss\")\n",
    "    ax[0].plot(history.epoch, history.history[\"val_loss\"], label=\"Validation loss\")\n",
    "    ax[1].set_title('acc')\n",
    "    ax[1].plot(history.epoch, history.history[\"acc\"], label=\"Train acc\")\n",
    "    ax[1].plot(history.epoch, history.history[\"val_acc\"], label=\"Validation acc\")\n",
    "    ax[0].legend()\n",
    "    ax[1].legend()"
   ]
  },
  {
   "cell_type": "code",
   "execution_count": 0,
   "metadata": {
    "colab": {},
    "colab_type": "code",
    "id": "CnZz8hoLUUTJ"
   },
   "outputs": [],
   "source": [
    "from keras.models import Sequential\n",
    "from keras.layers import SeparableConv2D,BatchNormalization,MaxPooling2D,Conv2D\n",
    "from keras.callbacks import ModelCheckpoint,EarlyStopping,ReduceLROnPlateau\n",
    "from keras.layers import Dense,Flatten,Dropout,Lambda"
   ]
  },
  {
   "cell_type": "code",
   "execution_count": 70,
   "metadata": {
    "colab": {
     "base_uri": "https://localhost:8080/",
     "height": 884
    },
    "colab_type": "code",
    "id": "ll8hJpQAlYLN",
    "outputId": "3b87e61c-4af2-4e7d-93fd-cb8c58adb5db"
   },
   "outputs": [
    {
     "name": "stdout",
     "output_type": "stream",
     "text": [
      "Model: \"sequential_3\"\n",
      "_________________________________________________________________\n",
      "Layer (type)                 Output Shape              Param #   \n",
      "=================================================================\n",
      "lambda_3 (Lambda)            (None, 64, 64, 3)         0         \n",
      "_________________________________________________________________\n",
      "block_1 (SeparableConv2D)    (None, 62, 62, 64)        283       \n",
      "_________________________________________________________________\n",
      "batch_normalization_8 (Batch (None, 62, 62, 64)        256       \n",
      "_________________________________________________________________\n",
      "max_pooling2d_8 (MaxPooling2 (None, 31, 31, 64)        0         \n",
      "_________________________________________________________________\n",
      "dropout_10 (Dropout)         (None, 31, 31, 64)        0         \n",
      "_________________________________________________________________\n",
      "block_2 (SeparableConv2D)    (None, 29, 29, 128)       8896      \n",
      "_________________________________________________________________\n",
      "batch_normalization_9 (Batch (None, 29, 29, 128)       512       \n",
      "_________________________________________________________________\n",
      "max_pooling2d_9 (MaxPooling2 (None, 14, 14, 128)       0         \n",
      "_________________________________________________________________\n",
      "dropout_11 (Dropout)         (None, 14, 14, 128)       0         \n",
      "_________________________________________________________________\n",
      "block_3 (SeparableConv2D)    (None, 12, 12, 256)       34176     \n",
      "_________________________________________________________________\n",
      "batch_normalization_10 (Batc (None, 12, 12, 256)       1024      \n",
      "_________________________________________________________________\n",
      "max_pooling2d_10 (MaxPooling (None, 6, 6, 256)         0         \n",
      "_________________________________________________________________\n",
      "dropout_12 (Dropout)         (None, 6, 6, 256)         0         \n",
      "_________________________________________________________________\n",
      "block_4 (SeparableConv2D)    (None, 4, 4, 64)          18752     \n",
      "_________________________________________________________________\n",
      "batch_normalization_11 (Batc (None, 4, 4, 64)          256       \n",
      "_________________________________________________________________\n",
      "max_pooling2d_11 (MaxPooling (None, 2, 2, 64)          0         \n",
      "_________________________________________________________________\n",
      "dropout_13 (Dropout)         (None, 2, 2, 64)          0         \n",
      "_________________________________________________________________\n",
      "flatten_3 (Flatten)          (None, 256)               0         \n",
      "_________________________________________________________________\n",
      "dense_5 (Dense)              (None, 256)               65792     \n",
      "_________________________________________________________________\n",
      "dropout_14 (Dropout)         (None, 256)               0         \n",
      "_________________________________________________________________\n",
      "dense_6 (Dense)              (None, 2)                 514       \n",
      "=================================================================\n",
      "Total params: 130,461\n",
      "Trainable params: 129,437\n",
      "Non-trainable params: 1,024\n",
      "_________________________________________________________________\n"
     ]
    }
   ],
   "source": [
    "#Defining model layers and parameters\n",
    "def ConvBlock(model, layers, filters,name):\n",
    "    for i in range(layers):\n",
    "        model.add(SeparableConv2D(filters, (3, 3), activation='relu',name=name))\n",
    "        model.add(BatchNormalization())\n",
    "        model.add(MaxPooling2D((2, 2)))\n",
    "        model.add(Dropout(0.2))\n",
    "    \n",
    "def FCN():\n",
    "    model = Sequential()\n",
    "    model.add(Lambda(lambda x: x, input_shape=(64, 64, 3)))\n",
    "    ConvBlock(model, 1, 64,'block_1')\n",
    "    ConvBlock(model, 1, 128,'block_2')\n",
    "    ConvBlock(model, 1, 256,'block_3')\n",
    "    ConvBlock(model, 1, 64,'block_4')\n",
    "    model.add(Flatten())\n",
    "    model.add(Dense(256,activation='relu'))\n",
    "    model.add(Dropout(0.2))\n",
    "    model.add(Dense(2,activation='sigmoid'))\n",
    "    return model\n",
    "\n",
    "model = FCN()\n",
    "model.summary()"
   ]
  },
  {
   "cell_type": "code",
   "execution_count": 0,
   "metadata": {
    "colab": {},
    "colab_type": "code",
    "id": "yHla-NVDlYLQ"
   },
   "outputs": [],
   "source": [
    "# Defining Callbacks\n",
    "best_model_weights = './base.model'\n",
    "\n",
    "earlystop = EarlyStopping(       # Stop training when a monitored quantity has stopped improving.\n",
    "    monitor='val_loss',\n",
    "    min_delta=0.001,\n",
    "    patience=7,\n",
    "    verbose=2,\n",
    "    mode='min')\n",
    "\n",
    "checkpoint = ModelCheckpoint(\n",
    "    best_model_weights,\n",
    "    monitor='val_loss',\n",
    "    verbose=1,\n",
    "    save_best_only=True,\n",
    "    mode='min',\n",
    "    save_weights_only=False,\n",
    "    period=1)\n",
    "\n",
    "\n",
    "callbacks = [earlystop, checkpoint]"
   ]
  },
  {
   "cell_type": "code",
   "execution_count": 72,
   "metadata": {
    "colab": {
     "base_uri": "https://localhost:8080/",
     "height": 731
    },
    "colab_type": "code",
    "id": "DjIAmDE-lYLT",
    "outputId": "38185f92-d9ee-4f00-ec4c-eeb5643fbe74"
   },
   "outputs": [
    {
     "name": "stdout",
     "output_type": "stream",
     "text": [
      "Epoch 1/10\n",
      "1000/1000 [==============================] - 34s 34ms/step - loss: 0.5292 - acc: 0.7363 - val_loss: 0.2361 - val_acc: 0.9219\n",
      "\n",
      "Epoch 00001: val_loss improved from inf to 0.23607, saving model to ./base.model\n",
      "Epoch 2/10\n",
      "1000/1000 [==============================] - 33s 33ms/step - loss: 0.2327 - acc: 0.9205 - val_loss: 0.1807 - val_acc: 0.9381\n",
      "\n",
      "Epoch 00002: val_loss improved from 0.23607 to 0.18068, saving model to ./base.model\n",
      "Epoch 3/10\n",
      "1000/1000 [==============================] - 32s 32ms/step - loss: 0.2132 - acc: 0.9303 - val_loss: 0.1633 - val_acc: 0.9491\n",
      "\n",
      "Epoch 00003: val_loss improved from 0.18068 to 0.16333, saving model to ./base.model\n",
      "Epoch 4/10\n",
      "1000/1000 [==============================] - 33s 33ms/step - loss: 0.2018 - acc: 0.9356 - val_loss: 0.1554 - val_acc: 0.9574\n",
      "\n",
      "Epoch 00004: val_loss improved from 0.16333 to 0.15543, saving model to ./base.model\n",
      "Epoch 5/10\n",
      "1000/1000 [==============================] - 33s 33ms/step - loss: 0.1871 - acc: 0.9377 - val_loss: 0.1859 - val_acc: 0.9387\n",
      "\n",
      "Epoch 00005: val_loss did not improve from 0.15543\n",
      "Epoch 6/10\n",
      "1000/1000 [==============================] - 33s 33ms/step - loss: 0.1847 - acc: 0.9411 - val_loss: 0.1325 - val_acc: 0.9602\n",
      "\n",
      "Epoch 00006: val_loss improved from 0.15543 to 0.13252, saving model to ./base.model\n",
      "Epoch 7/10\n",
      "1000/1000 [==============================] - 33s 33ms/step - loss: 0.1819 - acc: 0.9422 - val_loss: 0.1462 - val_acc: 0.9489\n",
      "\n",
      "Epoch 00007: val_loss did not improve from 0.13252\n",
      "Epoch 8/10\n",
      "1000/1000 [==============================] - 33s 33ms/step - loss: 0.1838 - acc: 0.9432 - val_loss: 0.1337 - val_acc: 0.9558\n",
      "\n",
      "Epoch 00008: val_loss did not improve from 0.13252\n",
      "Epoch 9/10\n",
      "1000/1000 [==============================] - 34s 34ms/step - loss: 0.1792 - acc: 0.9416 - val_loss: 0.1298 - val_acc: 0.9630\n",
      "\n",
      "Epoch 00009: val_loss improved from 0.13252 to 0.12983, saving model to ./base.model\n",
      "Epoch 10/10\n",
      "1000/1000 [==============================] - 33s 33ms/step - loss: 0.1769 - acc: 0.9452 - val_loss: 0.2932 - val_acc: 0.8785\n",
      "\n",
      "Epoch 00010: val_loss did not improve from 0.12983\n"
     ]
    }
   ],
   "source": [
    "# Compiling model and fitting the data\n",
    "\n",
    "model.compile(\n",
    "    loss='binary_crossentropy',\n",
    "    optimizer= 'adam', #try opt1 and directly adam\n",
    "    metrics=['accuracy']\n",
    ")\n",
    "\n",
    "\n",
    "history = model.fit_generator(\n",
    "    train_gen, \n",
    "    steps_per_epoch  = 1000, \n",
    "    validation_data  = val_gen,\n",
    "    validation_steps = 200,\n",
    "    epochs = 10,\n",
    "    max_queue_size=10,\n",
    "    use_multiprocessing=True,\n",
    "    workers=-1, \n",
    "    verbose = 1,\n",
    "    callbacks=callbacks\n",
    ")"
   ]
  },
  {
   "cell_type": "code",
   "execution_count": 0,
   "metadata": {
    "colab": {},
    "colab_type": "code",
    "id": "LyhcM6TRSIpp"
   },
   "outputs": [],
   "source": [
    "#Loading the best model weights from training the data\n",
    "model.load_weights('base.model')"
   ]
  },
  {
   "cell_type": "code",
   "execution_count": 75,
   "metadata": {
    "colab": {
     "base_uri": "https://localhost:8080/",
     "height": 52
    },
    "colab_type": "code",
    "id": "1KC9ixb_ybzM",
    "outputId": "1c2f9078-d127-4fa8-fdab-89fe3423ac34"
   },
   "outputs": [
    {
     "name": "stdout",
     "output_type": "stream",
     "text": [
      "Model Test Loss: 0.14899949580430985\n",
      "Model Test Accuracy: 0.950625\n"
     ]
    }
   ],
   "source": [
    "model_score = model.evaluate_generator(test_gen,steps=50)\n",
    "print(\"Model Test Loss:\",model_score[0])\n",
    "print(\"Model Test Accuracy:\",model_score[1])"
   ]
  },
  {
   "cell_type": "code",
   "execution_count": 76,
   "metadata": {
    "colab": {
     "base_uri": "https://localhost:8080/",
     "height": 52
    },
    "colab_type": "code",
    "id": "InTB-YLwrCdT",
    "outputId": "cdc074f9-2265-469b-ac93-39924af8385d"
   },
   "outputs": [
    {
     "name": "stdout",
     "output_type": "stream",
     "text": [
      "Model Test Loss: 0.13265938233584165\n",
      "Model Test Accuracy: 0.965\n"
     ]
    }
   ],
   "source": [
    "model_score = model.evaluate_generator(val_gen,steps=50)\n",
    "print(\"Model Test Loss:\",model_score[0])\n",
    "print(\"Model Test Accuracy:\",model_score[1])"
   ]
  },
  {
   "cell_type": "code",
   "execution_count": 77,
   "metadata": {
    "colab": {
     "base_uri": "https://localhost:8080/",
     "height": 356
    },
    "colab_type": "code",
    "id": "ffDo8AqYUUTZ",
    "outputId": "96b78ec4-4085-4ee7-a135-cd4b787eb5eb"
   },
   "outputs": [
    {
     "data": {
      "image/png": "[encoded data removed]",
      "text/plain": [
       "<Figure size 1080x360 with 2 Axes>"
      ]
     },
     "metadata": {
      "tags": []
     },
     "output_type": "display_data"
    }
   ],
   "source": [
    "show_final_history(history)"
   ]
  },
  {
   "cell_type": "code",
   "execution_count": 80,
   "metadata": {
    "colab": {
     "base_uri": "https://localhost:8080/",
     "height": 35
    },
    "colab_type": "code",
    "id": "EpALK5jAIbsw",
    "outputId": "40876a95-785b-414a-bcd1-6e760ff38a6b"
   },
   "outputs": [
    {
     "data": {
      "text/plain": [
       "array([0, 0, 1, ..., 1, 0, 0])"
      ]
     },
     "execution_count": 80,
     "metadata": {
      "tags": []
     },
     "output_type": "execute_result"
    }
   ],
   "source": [
    "pred = model.predict_generator(test_gen)\n",
    "pred = np.argmax(pred, axis = 1) \n",
    "pred"
   ]
  },
  {
   "cell_type": "code",
   "execution_count": 82,
   "metadata": {
    "colab": {
     "base_uri": "https://localhost:8080/",
     "height": 35
    },
    "colab_type": "code",
    "id": "E5Cqz6AVJOmx",
    "outputId": "a19bf6d3-157d-48fc-86cb-bfd8b518888f"
   },
   "outputs": [
    {
     "data": {
      "text/plain": [
       "array([0, 0, 1, ..., 1, 0, 0])"
      ]
     },
     "execution_count": 82,
     "metadata": {
      "tags": []
     },
     "output_type": "execute_result"
    }
   ],
   "source": [
    "y_true = np.argmax(test_gen.y,axis = 1)\n",
    "y_true"
   ]
  },
  {
   "cell_type": "code",
   "execution_count": 83,
   "metadata": {
    "colab": {
     "base_uri": "https://localhost:8080/",
     "height": 277
    },
    "colab_type": "code",
    "id": "_JKvjvSNlYLh",
    "outputId": "a4c5ea4b-b1ec-4345-d3ea-0e5e2cf7745b"
   },
   "outputs": [
    {
     "name": "stdout",
     "output_type": "stream",
     "text": [
      "Confusion Matrix\n",
      "[[1886   84]\n",
      " [ 103 2061]]\n",
      "--\n",
      "--\n",
      "Classification Report\n",
      "              precision    recall  f1-score   support\n",
      "\n",
      "           0       0.95      0.96      0.95      1970\n",
      "           1       0.96      0.95      0.96      2164\n",
      "\n",
      "    accuracy                           0.95      4134\n",
      "   macro avg       0.95      0.95      0.95      4134\n",
      "weighted avg       0.95      0.95      0.95      4134\n",
      "\n"
     ]
    }
   ],
   "source": [
    "from sklearn.metrics import confusion_matrix, classification_report\n",
    "\n",
    "CM = confusion_matrix(y_true, pred)\n",
    "print(\"Confusion Matrix\")\n",
    "print(CM)\n",
    "print(\"--\")\n",
    "print(\"--\")\n",
    "print(\"Classification Report\")\n",
    "print(classification_report(y_true, pred))"
   ]
  },
  {
   "cell_type": "code",
   "execution_count": 0,
   "metadata": {
    "colab": {},
    "colab_type": "code",
    "id": "TTD9lTillYL1"
   },
   "outputs": [],
   "source": []
  },
  {
   "cell_type": "code",
   "execution_count": 0,
   "metadata": {
    "colab": {},
    "colab_type": "code",
    "id": "oG3LwVYBlYL3"
   },
   "outputs": [],
   "source": []
  },
  {
   "cell_type": "code",
   "execution_count": 0,
   "metadata": {
    "colab": {},
    "colab_type": "code",
    "id": "bSRv37f1lYL6"
   },
   "outputs": [],
   "source": []
  },
  {
   "cell_type": "code",
   "execution_count": 0,
   "metadata": {
    "colab": {},
    "colab_type": "code",
    "id": "FEFkEYKelYL_"
   },
   "outputs": [],
   "source": []
  }
 ],
 "metadata": {
  "accelerator": "GPU",
  "colab": {
   "collapsed_sections": [],
   "name": "Malaria_prediction_3_w_gen.ipynb",
   "provenance": [],
   "toc_visible": true
  },
  "kernelspec": {
   "display_name": "Python 3",
   "language": "python",
   "name": "python3"
  },
  "language_info": {
   "codemirror_mode": {
    "name": "ipython",
    "version": 3
   },
   "file_extension": ".py",
   "mimetype": "text/x-python",
   "name": "python",
   "nbconvert_exporter": "python",
   "pygments_lexer": "ipython3",
   "version": "3.7.3"
  }
 },
 "nbformat": 4,
 "nbformat_minor": 1
}
