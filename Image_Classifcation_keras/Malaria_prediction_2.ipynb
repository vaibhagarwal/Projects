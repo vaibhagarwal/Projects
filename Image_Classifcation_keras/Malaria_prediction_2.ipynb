{
 "cells": [
  {
   "cell_type": "code",
   "execution_count": 0,
   "metadata": {
    "colab": {},
    "colab_type": "code",
    "id": "Set0MNg7lYKV"
   },
   "outputs": [],
   "source": [
    "import numpy as np\n",
    "import pandas as pd\n",
    "from matplotlib import pyplot\n",
    "import matplotlib.pyplot as plt\n",
    "import cv2\n",
    "from PIL import Image\n",
    "import os\n",
    "import keras\n",
    "from keras.utils import to_categorical"
   ]
  },
  {
   "cell_type": "code",
   "execution_count": 0,
   "metadata": {
    "colab": {},
    "colab_type": "code",
    "id": "zcYDn8b0UURx"
   },
   "outputs": [],
   "source": [
    "import warnings\n",
    "warnings.filterwarnings('ignore')"
   ]
  },
  {
   "cell_type": "code",
   "execution_count": 0,
   "metadata": {
    "colab": {},
    "colab_type": "code",
    "id": "vJO5F6r4UUR0"
   },
   "outputs": [],
   "source": [
    "#defining empty data and label lists\n",
    "data_1 = []\n",
    "labels_1 = []"
   ]
  },
  {
   "cell_type": "code",
   "execution_count": 0,
   "metadata": {
    "colab": {},
    "colab_type": "code",
    "id": "5LIfdyB7UUR4"
   },
   "outputs": [],
   "source": [
    "#importing and processing the infected cell images\n",
    "parasitized = \"/content/cell_images/Parasitized/\"\n",
    "for filename in os.listdir(parasitized):\n",
    "    img = cv2.imread(parasitized+filename)     # Read image as an array\n",
    "    if img is not None:\n",
    "        img_arr = Image.fromarray(img , 'RGB') #Converting image from array to an RGB image.\n",
    "        re_img = img_arr.resize((64 , 64))     #Resizing image\n",
    "        data_1.append(np.array(re_img))          #appending image after converting it back to array\n",
    "        labels_1.append(to_categorical(1, num_classes=2))"
   ]
  },
  {
   "cell_type": "code",
   "execution_count": 0,
   "metadata": {
    "colab": {},
    "colab_type": "code",
    "id": "FVEGXLwDUUR8"
   },
   "outputs": [],
   "source": [
    "#importing and processing the infected cell images\n",
    "uninfected = \"/content/cell_images/Uninfected/\"\n",
    "for filename in os.listdir(uninfected):\n",
    "    img = cv2.imread(uninfected+filename)\n",
    "    if img is not None:\n",
    "        img_arr = Image.fromarray(img , 'RGB')\n",
    "        re_img = img_arr.resize((64 , 64))\n",
    "        data_1.append(np.array(re_img))\n",
    "        labels_1.append(to_categorical(0, num_classes=2))"
   ]
  },
  {
   "cell_type": "code",
   "execution_count": 0,
   "metadata": {
    "colab": {},
    "colab_type": "code",
    "id": "PTt_g2xBlYKn"
   },
   "outputs": [],
   "source": [
    "#Converting data and labels to numpy array\n",
    "data = np.array(data_1)\n",
    "labels = np.array(labels_1)"
   ]
  },
  {
   "cell_type": "code",
   "execution_count": 41,
   "metadata": {
    "colab": {
     "base_uri": "https://localhost:8080/",
     "height": 35
    },
    "colab_type": "code",
    "id": "1IJEitnVlYKq",
    "outputId": "fa302ff3-4940-4807-a725-2bd550401977"
   },
   "outputs": [
    {
     "data": {
      "text/plain": [
       "(27558, 64, 64, 3)"
      ]
     },
     "execution_count": 41,
     "metadata": {
      "tags": []
     },
     "output_type": "execute_result"
    }
   ],
   "source": [
    "data.shape"
   ]
  },
  {
   "cell_type": "code",
   "execution_count": 42,
   "metadata": {
    "colab": {
     "base_uri": "https://localhost:8080/",
     "height": 35
    },
    "colab_type": "code",
    "id": "66h7g0sjUUSK",
    "outputId": "f1094417-97a6-49e3-c1a3-db605b75668c"
   },
   "outputs": [
    {
     "data": {
      "text/plain": [
       "(27558, 2)"
      ]
     },
     "execution_count": 42,
     "metadata": {
      "tags": []
     },
     "output_type": "execute_result"
    }
   ],
   "source": [
    "labels.shape"
   ]
  },
  {
   "cell_type": "code",
   "execution_count": 43,
   "metadata": {
    "colab": {
     "base_uri": "https://localhost:8080/",
     "height": 451
    },
    "colab_type": "code",
    "id": "vUEEvNr3lYKt",
    "outputId": "89cb1413-257c-4a00-ed7b-ea8d81e2e203"
   },
   "outputs": [
    {
     "data": {
      "image/png": "[encoded data removed]",
      "text/plain": [
       "<Figure size 1080x504 with 2 Axes>"
      ]
     },
     "metadata": {
      "tags": []
     },
     "output_type": "display_data"
    }
   ],
   "source": [
    "plt.figure(1, figsize = (15 , 7))\n",
    "plt.subplot(1 , 2 , 1)\n",
    "plt.imshow(data[0])\n",
    "plt.title('Infected Cell')\n",
    "plt.xticks([]) , plt.yticks([])\n",
    "\n",
    "plt.subplot(1 , 2 , 2)\n",
    "plt.imshow(data[16000])\n",
    "plt.title('Uninfected Cell')\n",
    "plt.xticks([]) , plt.yticks([])\n",
    "\n",
    "plt.show()"
   ]
  },
  {
   "cell_type": "code",
   "execution_count": 44,
   "metadata": {
    "colab": {
     "base_uri": "https://localhost:8080/",
     "height": 451
    },
    "colab_type": "code",
    "id": "xgzBiAzXUUST",
    "outputId": "1d815deb-d122-42cb-f394-bc48d8a5fc3e",
    "scrolled": false
   },
   "outputs": [
    {
     "data": {
      "image/png": "[encoded data removed]",
      "text/plain": [
       "<Figure size 1080x504 with 2 Axes>"
      ]
     },
     "metadata": {
      "tags": []
     },
     "output_type": "display_data"
    }
   ],
   "source": [
    "plt.figure(1, figsize = (15 , 7))\n",
    "plt.subplot(1 , 2 , 1)\n",
    "plt.imshow(data[1])\n",
    "plt.title('Infected Cell')\n",
    "plt.xticks([]) , plt.yticks([])\n",
    "\n",
    "plt.subplot(1 , 2 , 2)\n",
    "plt.imshow(data[15999])\n",
    "plt.title('Uninfected Cell')\n",
    "plt.xticks([]) , plt.yticks([])\n",
    "\n",
    "plt.show()"
   ]
  },
  {
   "cell_type": "code",
   "execution_count": 45,
   "metadata": {
    "colab": {
     "base_uri": "https://localhost:8080/",
     "height": 35
    },
    "colab_type": "code",
    "id": "A_fgX4SeUUSW",
    "outputId": "b5f62e38-cd5e-4177-ee7d-35c05fed6f2d"
   },
   "outputs": [
    {
     "data": {
      "text/plain": [
       "27558"
      ]
     },
     "execution_count": 45,
     "metadata": {
      "tags": []
     },
     "output_type": "execute_result"
    }
   ],
   "source": [
    "data.shape[0]"
   ]
  },
  {
   "cell_type": "code",
   "execution_count": 0,
   "metadata": {
    "colab": {},
    "colab_type": "code",
    "id": "p9xrOfaLlYKw"
   },
   "outputs": [],
   "source": [
    "#Initializing a random sequence of number which is the same length as of data\n",
    "n = np.arange(data.shape[0])\n",
    "np.random.shuffle(n)"
   ]
  },
  {
   "cell_type": "code",
   "execution_count": 47,
   "metadata": {
    "colab": {
     "base_uri": "https://localhost:8080/",
     "height": 35
    },
    "colab_type": "code",
    "id": "OBFI_nkWUUSg",
    "outputId": "a6b63989-d85d-4e3c-e72d-a7f8176bd8ad"
   },
   "outputs": [
    {
     "data": {
      "text/plain": [
       "array([ 6557, 18251,  9906, ...,  1132, 25551, 17467])"
      ]
     },
     "execution_count": 47,
     "metadata": {
      "tags": []
     },
     "output_type": "execute_result"
    }
   ],
   "source": [
    "n"
   ]
  },
  {
   "cell_type": "code",
   "execution_count": 0,
   "metadata": {
    "colab": {},
    "colab_type": "code",
    "id": "W4MNNJQJlYKz"
   },
   "outputs": [],
   "source": [
    "data = data[n]\n",
    "labels = labels[n]"
   ]
  },
  {
   "cell_type": "code",
   "execution_count": 0,
   "metadata": {
    "colab": {},
    "colab_type": "code",
    "id": "pHPLwQ_oUMYH"
   },
   "outputs": [],
   "source": [
    "data = data[:5000]\n",
    "labels = labels[:5000]"
   ]
  },
  {
   "cell_type": "code",
   "execution_count": 50,
   "metadata": {
    "colab": {
     "base_uri": "https://localhost:8080/",
     "height": 139
    },
    "colab_type": "code",
    "id": "DD_crWOUUUSp",
    "outputId": "d0881fac-d70a-4143-e589-2627d0f9ee9f"
   },
   "outputs": [
    {
     "data": {
      "text/plain": [
       "array([[0., 1.],\n",
       "       [1., 0.],\n",
       "       [0., 1.],\n",
       "       ...,\n",
       "       [1., 0.],\n",
       "       [1., 0.],\n",
       "       [0., 1.]], dtype=float32)"
      ]
     },
     "execution_count": 50,
     "metadata": {
      "tags": []
     },
     "output_type": "execute_result"
    }
   ],
   "source": [
    "labels"
   ]
  },
  {
   "cell_type": "code",
   "execution_count": 0,
   "metadata": {
    "colab": {},
    "colab_type": "code",
    "id": "QdXX7ccllYK2"
   },
   "outputs": [],
   "source": [
    "#Changing data type to float\n",
    "data = data.astype(np.float32)\n",
    "labels = labels.astype(np.int32)"
   ]
  },
  {
   "cell_type": "code",
   "execution_count": 0,
   "metadata": {
    "colab": {},
    "colab_type": "code",
    "id": "UpfJv7-WlYK6"
   },
   "outputs": [],
   "source": [
    "#Scaling the data\n",
    "data = data/255"
   ]
  },
  {
   "cell_type": "code",
   "execution_count": 0,
   "metadata": {
    "colab": {},
    "colab_type": "code",
    "id": "OY8h9deslYK9"
   },
   "outputs": [],
   "source": [
    "#Splitting the data into train and eval\n",
    "from sklearn.model_selection import train_test_split\n",
    "\n",
    "train_x , eval_x , train_y , eval_y = train_test_split(data , labels , \n",
    "                                            test_size = 0.3 ,\n",
    "                                            random_state = 111)"
   ]
  },
  {
   "cell_type": "code",
   "execution_count": 0,
   "metadata": {
    "colab": {},
    "colab_type": "code",
    "id": "hRUFtQX_UUS3"
   },
   "outputs": [],
   "source": [
    "#Splitting data into test and validation\n",
    "val_x , test_x , val_y , test_y = train_test_split(eval_x, eval_y , \n",
    "                                            test_size = 0.5 ,\n",
    "                                            random_state = 111)"
   ]
  },
  {
   "cell_type": "code",
   "execution_count": 55,
   "metadata": {
    "colab": {
     "base_uri": "https://localhost:8080/",
     "height": 35
    },
    "colab_type": "code",
    "id": "UJq0MCCflYLB",
    "outputId": "ce3957c9-6f44-4189-d193-452cf922194c"
   },
   "outputs": [
    {
     "name": "stdout",
     "output_type": "stream",
     "text": [
      "train data shape (3500, 64, 64, 3) ,val data shape (750, 64, 64, 3) \n"
     ]
    }
   ],
   "source": [
    "print('train data shape {} ,val data shape {} '.format(train_x.shape, val_x.shape))"
   ]
  },
  {
   "cell_type": "code",
   "execution_count": 0,
   "metadata": {
    "colab": {},
    "colab_type": "code",
    "id": "dNuiFlj1lYLF"
   },
   "outputs": [],
   "source": [
    "# Generating augmented images\n",
    "\n",
    "from keras.preprocessing.image import ImageDataGenerator\n",
    "\n",
    "train_aug = ImageDataGenerator(\n",
    "    rescale=1./255,\n",
    "    shear_range=0.2,  \n",
    "    zoom_range=0.2,        \n",
    "    horizontal_flip=True,\n",
    "    vertical_flip=True)  \n",
    "\n",
    "val_aug= ImageDataGenerator(\n",
    "    rescale=1./255)\n",
    "\n",
    "test_aug= ImageDataGenerator(\n",
    "    rescale=1./255)\n",
    "\n",
    "train_gen = train_aug.flow(\n",
    "    train_x,\n",
    "    train_y,\n",
    "    batch_size=16)\n",
    "\n",
    "val_gen = val_aug.flow(\n",
    "    val_x,\n",
    "    val_y,\n",
    "    batch_size=16)\n",
    "\n",
    "test_gen = test_aug.flow(\n",
    "    test_x,\n",
    "    test_y,\n",
    "    batch_size=16)"
   ]
  },
  {
   "cell_type": "code",
   "execution_count": 0,
   "metadata": {
    "colab": {},
    "colab_type": "code",
    "id": "WZzNJ936lYLJ"
   },
   "outputs": [],
   "source": [
    "def show_final_history(history):\n",
    "    fig, ax = plt.subplots(1, 2, figsize=(15,5))\n",
    "    ax[0].set_title('loss')\n",
    "    ax[0].plot(history.epoch, history.history[\"loss\"], label=\"Train loss\")\n",
    "    ax[0].plot(history.epoch, history.history[\"val_loss\"], label=\"Validation loss\")\n",
    "    ax[1].set_title('acc')\n",
    "    ax[1].plot(history.epoch, history.history[\"acc\"], label=\"Train acc\")\n",
    "    ax[1].plot(history.epoch, history.history[\"val_acc\"], label=\"Validation acc\")\n",
    "    ax[0].legend()\n",
    "    ax[1].legend()"
   ]
  },
  {
   "cell_type": "code",
   "execution_count": 0,
   "metadata": {
    "colab": {},
    "colab_type": "code",
    "id": "CnZz8hoLUUTJ"
   },
   "outputs": [],
   "source": [
    "from keras.models import Sequential\n",
    "from keras.layers import SeparableConv2D,BatchNormalization,MaxPooling2D,Conv2D\n",
    "from keras.callbacks import ModelCheckpoint,EarlyStopping,ReduceLROnPlateau\n",
    "from keras.layers import Dense,Flatten,Dropout,Lambda"
   ]
  },
  {
   "cell_type": "code",
   "execution_count": 59,
   "metadata": {
    "colab": {
     "base_uri": "https://localhost:8080/",
     "height": 745
    },
    "colab_type": "code",
    "id": "ll8hJpQAlYLN",
    "outputId": "ceb986d8-0ae4-413e-e669-7bfc67b04f19"
   },
   "outputs": [
    {
     "name": "stdout",
     "output_type": "stream",
     "text": [
      "Model: \"sequential_2\"\n",
      "_________________________________________________________________\n",
      "Layer (type)                 Output Shape              Param #   \n",
      "=================================================================\n",
      "lambda_2 (Lambda)            (None, 64, 64, 3)         0         \n",
      "_________________________________________________________________\n",
      "block_1 (Conv2D)             (None, 62, 62, 64)        1792      \n",
      "_________________________________________________________________\n",
      "batch_normalization_4 (Batch (None, 62, 62, 64)        256       \n",
      "_________________________________________________________________\n",
      "max_pooling2d_4 (MaxPooling2 (None, 31, 31, 64)        0         \n",
      "_________________________________________________________________\n",
      "dropout_5 (Dropout)          (None, 31, 31, 64)        0         \n",
      "_________________________________________________________________\n",
      "block_2 (Conv2D)             (None, 29, 29, 64)        36928     \n",
      "_________________________________________________________________\n",
      "batch_normalization_5 (Batch (None, 29, 29, 64)        256       \n",
      "_________________________________________________________________\n",
      "max_pooling2d_5 (MaxPooling2 (None, 14, 14, 64)        0         \n",
      "_________________________________________________________________\n",
      "dropout_6 (Dropout)          (None, 14, 14, 64)        0         \n",
      "_________________________________________________________________\n",
      "block_3 (Conv2D)             (None, 12, 12, 64)        36928     \n",
      "_________________________________________________________________\n",
      "batch_normalization_6 (Batch (None, 12, 12, 64)        256       \n",
      "_________________________________________________________________\n",
      "max_pooling2d_6 (MaxPooling2 (None, 6, 6, 64)          0         \n",
      "_________________________________________________________________\n",
      "dropout_7 (Dropout)          (None, 6, 6, 64)          0         \n",
      "_________________________________________________________________\n",
      "flatten_2 (Flatten)          (None, 2304)              0         \n",
      "_________________________________________________________________\n",
      "dense_3 (Dense)              (None, 256)               590080    \n",
      "_________________________________________________________________\n",
      "dropout_8 (Dropout)          (None, 256)               0         \n",
      "_________________________________________________________________\n",
      "dense_4 (Dense)              (None, 2)                 514       \n",
      "=================================================================\n",
      "Total params: 667,010\n",
      "Trainable params: 666,626\n",
      "Non-trainable params: 384\n",
      "_________________________________________________________________\n"
     ]
    }
   ],
   "source": [
    "#Defining model layers and parameters\n",
    "def ConvBlock(model, layers, filters,name):\n",
    "    for i in range(layers):\n",
    "        model.add(Conv2D(filters, (3, 3), activation='relu',name=name))\n",
    "        model.add(BatchNormalization())\n",
    "        model.add(MaxPooling2D((2, 2)))\n",
    "        model.add(Dropout(0.2))\n",
    "    \n",
    "def FCN():\n",
    "    model = Sequential()\n",
    "    model.add(Lambda(lambda x: x, input_shape=(64, 64, 3)))\n",
    "    ConvBlock(model, 1, 64,'block_1')\n",
    "    ConvBlock(model, 1, 64,'block_2')\n",
    "    ConvBlock(model, 1, 64,'block_3')\n",
    "    #ConvBlock(model, 1, 64,'block_4')\n",
    "    model.add(Flatten())\n",
    "    model.add(Dense(256,activation='relu'))\n",
    "    model.add(Dropout(0.2))\n",
    "    model.add(Dense(2,activation='sigmoid'))\n",
    "    return model\n",
    "\n",
    "model = FCN()\n",
    "model.summary()"
   ]
  },
  {
   "cell_type": "code",
   "execution_count": 0,
   "metadata": {
    "colab": {},
    "colab_type": "code",
    "id": "yHla-NVDlYLQ"
   },
   "outputs": [],
   "source": [
    "# Defining Callbacks\n",
    "best_model_weights = './base.model'\n",
    "\n",
    "earlystop = EarlyStopping(       # Stop training when a monitored quantity has stopped improving.\n",
    "    monitor='val_loss',\n",
    "    min_delta=0.001,\n",
    "    patience=7,\n",
    "    verbose=2,\n",
    "    mode='min')\n",
    "\n",
    "checkpoint = ModelCheckpoint(\n",
    "    best_model_weights,\n",
    "    monitor='val_loss',\n",
    "    verbose=1,\n",
    "    save_best_only=True,\n",
    "    mode='min',\n",
    "    save_weights_only=False,\n",
    "    period=1)\n",
    "\n",
    "reducelr = ReduceLROnPlateau(    #Reduce learning rate when a metric has stopped improving\n",
    "    monitor='val_loss',\n",
    "    factor=0.5,\n",
    "    patience=40,\n",
    "    verbose=1, \n",
    "    mode='auto',\n",
    "    cooldown=1 )\n",
    "\n",
    "callbacks = [earlystop]"
   ]
  },
  {
   "cell_type": "code",
   "execution_count": 61,
   "metadata": {
    "colab": {
     "base_uri": "https://localhost:8080/",
     "height": 384
    },
    "colab_type": "code",
    "id": "DjIAmDE-lYLT",
    "outputId": "c3a381b7-e640-49a5-e207-303b208c19c7"
   },
   "outputs": [
    {
     "name": "stdout",
     "output_type": "stream",
     "text": [
      "Epoch 1/10\n",
      "500/500 [==============================] - 13s 26ms/step - loss: 0.6901 - acc: 0.6176 - val_loss: 1.9396 - val_acc: 0.4955\n",
      "Epoch 2/10\n",
      "500/500 [==============================] - 12s 24ms/step - loss: 0.3115 - acc: 0.8761 - val_loss: 0.2683 - val_acc: 0.9149\n",
      "Epoch 3/10\n",
      "500/500 [==============================] - 12s 24ms/step - loss: 0.2232 - acc: 0.9261 - val_loss: 1.8619 - val_acc: 0.6916\n",
      "Epoch 4/10\n",
      "500/500 [==============================] - 12s 24ms/step - loss: 0.2038 - acc: 0.9358 - val_loss: 0.1628 - val_acc: 0.9486\n",
      "Epoch 5/10\n",
      "500/500 [==============================] - 12s 24ms/step - loss: 0.1846 - acc: 0.9371 - val_loss: 0.3229 - val_acc: 0.9091\n",
      "Epoch 6/10\n",
      "500/500 [==============================] - 12s 24ms/step - loss: 0.1751 - acc: 0.9398 - val_loss: 0.1519 - val_acc: 0.9539\n",
      "Epoch 7/10\n",
      "500/500 [==============================] - 12s 24ms/step - loss: 0.1664 - acc: 0.9454 - val_loss: 0.1798 - val_acc: 0.9499\n",
      "Epoch 8/10\n",
      "500/500 [==============================] - 12s 24ms/step - loss: 0.1592 - acc: 0.9464 - val_loss: 0.1701 - val_acc: 0.9397\n",
      "Epoch 9/10\n",
      "500/500 [==============================] - 12s 24ms/step - loss: 0.1617 - acc: 0.9471 - val_loss: 0.1453 - val_acc: 0.9560\n",
      "Epoch 10/10\n",
      "500/500 [==============================] - 12s 24ms/step - loss: 0.1619 - acc: 0.9461 - val_loss: 0.1477 - val_acc: 0.9590\n"
     ]
    }
   ],
   "source": [
    "# Compiling model and fitting the data\n",
    "\n",
    "model.compile(\n",
    "    loss='binary_crossentropy',\n",
    "    optimizer= 'adam', #try opt1 and directly adam\n",
    "    metrics=['accuracy']\n",
    ")\n",
    "\n",
    "history = model.fit_generator(\n",
    "    train_gen, \n",
    "    steps_per_epoch  = 500, \n",
    "    validation_data  = val_gen,\n",
    "    validation_steps = 200,\n",
    "    epochs = 10,\n",
    "    #max_queue_size=10,\n",
    "    use_multiprocessing=True,\n",
    "    workers=-1, \n",
    "    verbose = 1,\n",
    "    callbacks=callbacks\n",
    ")"
   ]
  },
  {
   "cell_type": "code",
   "execution_count": 62,
   "metadata": {
    "colab": {
     "base_uri": "https://localhost:8080/",
     "height": 69
    },
    "colab_type": "code",
    "id": "7LNjfd20UUTW",
    "outputId": "ef65e65a-e10c-43c1-db59-4d9abeb82db5"
   },
   "outputs": [
    {
     "name": "stdout",
     "output_type": "stream",
     "text": [
      "750/750 [==============================] - 0s 127us/step\n",
      "Model Test Loss: 1.441682712053229\n",
      "Model Test Accuracy: 0.9086666661898295\n"
     ]
    }
   ],
   "source": [
    "model_score = model.evaluate(x=test_x, y=test_y)\n",
    "print(\"Model Test Loss:\",model_score[0])\n",
    "print(\"Model Test Accuracy:\",model_score[1])"
   ]
  },
  {
   "cell_type": "code",
   "execution_count": 63,
   "metadata": {
    "colab": {
     "base_uri": "https://localhost:8080/",
     "height": 52
    },
    "colab_type": "code",
    "id": "1KC9ixb_ybzM",
    "outputId": "a22d95d6-4373-4ab6-f441-5576fef0b14a"
   },
   "outputs": [
    {
     "name": "stdout",
     "output_type": "stream",
     "text": [
      "Model Test Loss: 0.2139452454146175\n",
      "Model Test Accuracy: 0.9417293234576557\n"
     ]
    }
   ],
   "source": [
    "model_score = model.evaluate_generator(test_gen,steps=50)\n",
    "print(\"Model Test Loss:\",model_score[0])\n",
    "print(\"Model Test Accuracy:\",model_score[1])"
   ]
  },
  {
   "cell_type": "code",
   "execution_count": 64,
   "metadata": {
    "colab": {
     "base_uri": "https://localhost:8080/",
     "height": 52
    },
    "colab_type": "code",
    "id": "InTB-YLwrCdT",
    "outputId": "8336f0ec-32eb-4d70-bf15-e6ee0407557c"
   },
   "outputs": [
    {
     "name": "stdout",
     "output_type": "stream",
     "text": [
      "Model Test Loss: 0.14023035690468505\n",
      "Model Test Accuracy: 0.9611528822055138\n"
     ]
    }
   ],
   "source": [
    "model_score = model.evaluate_generator(val_gen,steps=50)\n",
    "print(\"Model Test Loss:\",model_score[0])\n",
    "print(\"Model Test Accuracy:\",model_score[1])"
   ]
  },
  {
   "cell_type": "code",
   "execution_count": 65,
   "metadata": {
    "colab": {
     "base_uri": "https://localhost:8080/",
     "height": 356
    },
    "colab_type": "code",
    "id": "ffDo8AqYUUTZ",
    "outputId": "efaa7417-d2cc-4ff0-f053-0cb09e3b05e5"
   },
   "outputs": [
    {
     "data": {
      "image/png": "[encoded data removed]",
      "text/plain": [
       "<Figure size 1080x360 with 2 Axes>"
      ]
     },
     "metadata": {
      "tags": []
     },
     "output_type": "display_data"
    }
   ],
   "source": [
    "show_final_history(history)"
   ]
  },
  {
   "cell_type": "code",
   "execution_count": 66,
   "metadata": {
    "colab": {
     "base_uri": "https://localhost:8080/",
     "height": 277
    },
    "colab_type": "code",
    "id": "_JKvjvSNlYLh",
    "outputId": "43e8f1c7-08df-4fc2-fe17-cdaa9d4daaf2"
   },
   "outputs": [
    {
     "name": "stdout",
     "output_type": "stream",
     "text": [
      "Confusion Matrix\n",
      "[[389  12]\n",
      " [ 58 291]]\n",
      "--\n",
      "--\n",
      "Classification Report\n",
      "              precision    recall  f1-score   support\n",
      "\n",
      "           0       0.87      0.97      0.92       401\n",
      "           1       0.96      0.83      0.89       349\n",
      "\n",
      "    accuracy                           0.91       750\n",
      "   macro avg       0.92      0.90      0.91       750\n",
      "weighted avg       0.91      0.91      0.91       750\n",
      "\n"
     ]
    }
   ],
   "source": [
    "#Confusion Matrix and Classification report\n",
    "from sklearn.metrics import confusion_matrix, classification_report\n",
    "pred = model.predict(test_x)\n",
    "pred = np.argmax(pred,axis = 1) \n",
    "y_true = np.argmax(test_y,axis = 1)\n",
    "\n",
    "CM = confusion_matrix(y_true, pred)\n",
    "print(\"Confusion Matrix\")\n",
    "print(CM)\n",
    "print(\"--\")\n",
    "print(\"--\")\n",
    "print(\"Classification Report\")\n",
    "print(classification_report(y_true, pred))"
   ]
  },
  {
   "cell_type": "code",
   "execution_count": 0,
   "metadata": {
    "colab": {},
    "colab_type": "code",
    "id": "TTD9lTillYL1"
   },
   "outputs": [],
   "source": []
  },
  {
   "cell_type": "code",
   "execution_count": 0,
   "metadata": {
    "colab": {},
    "colab_type": "code",
    "id": "oG3LwVYBlYL3"
   },
   "outputs": [],
   "source": []
  },
  {
   "cell_type": "code",
   "execution_count": 0,
   "metadata": {
    "colab": {},
    "colab_type": "code",
    "id": "bSRv37f1lYL6"
   },
   "outputs": [],
   "source": []
  },
  {
   "cell_type": "code",
   "execution_count": 0,
   "metadata": {
    "colab": {},
    "colab_type": "code",
    "id": "FEFkEYKelYL_"
   },
   "outputs": [],
   "source": []
  }
 ],
 "metadata": {
  "accelerator": "GPU",
  "colab": {
   "collapsed_sections": [],
   "name": "Malaria_prediction_2.ipynb",
   "provenance": []
  },
  "kernelspec": {
   "display_name": "Python 3",
   "language": "python",
   "name": "python3"
  },
  "language_info": {
   "codemirror_mode": {
    "name": "ipython",
    "version": 3
   },
   "file_extension": ".py",
   "mimetype": "text/x-python",
   "name": "python",
   "nbconvert_exporter": "python",
   "pygments_lexer": "ipython3",
   "version": "3.7.3"
  }
 },
 "nbformat": 4,
 "nbformat_minor": 1
}
